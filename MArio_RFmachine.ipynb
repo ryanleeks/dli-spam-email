{
  "cells": [
    {
      "cell_type": "markdown",
      "metadata": {
        "id": "view-in-github",
        "colab_type": "text"
      },
      "source": [
        "<a href=\"https://colab.research.google.com/github/ryanleeks/fake-job-detection/blob/main/MArio_RFmachine.ipynb\" target=\"_parent\"><img src=\"https://colab.research.google.com/assets/colab-badge.svg\" alt=\"Open In Colab\"/></a>"
      ]
    },
    {
      "cell_type": "markdown",
      "id": "48b891d6",
      "metadata": {
        "id": "48b891d6"
      },
      "source": [
        "# Random Forest\n",
        "\n",
        "This notebook remains **light preprocessing** while still using **one model (RandomForest)** and **one feature family (BoW)**:\n",
        "\n",
        "- HTML strip, lowercase, URL/EMAIL/PHONE masking, number normalization, whitespace normalization  \n",
        "- Optional stopwords **disabled** (keeps informative collocations)  \n",
        "- Deduplicate empty/identical texts  \n"
      ]
    },
    {
      "cell_type": "code",
      "execution_count": null,
      "id": "592bcb04",
      "metadata": {
        "colab": {
          "base_uri": "https://localhost:8080/"
        },
        "id": "592bcb04",
        "outputId": "261ac712-dad5-48cd-be72-58c482db4077"
      },
      "outputs": [
        {
          "output_type": "stream",
          "name": "stdout",
          "text": [
            "Imports OK\n"
          ]
        }
      ],
      "source": [
        "# --- Setup & Imports\n",
        "import os, re, random, numpy as np, pandas as pd\n",
        "\n",
        "from sklearn.model_selection import train_test_split, StratifiedKFold, RandomizedSearchCV\n",
        "from sklearn.feature_extraction.text import CountVectorizer\n",
        "from sklearn.pipeline import Pipeline\n",
        "from sklearn.ensemble import RandomForestClassifier\n",
        "from sklearn.metrics import (\n",
        "    classification_report, accuracy_score, precision_recall_fscore_support,\n",
        "    precision_score, recall_score, f1_score\n",
        ")\n",
        "\n",
        "SEED = 42\n",
        "random.seed(SEED); np.random.seed(SEED)\n",
        "\n",
        "print(\"Imports OK\")"
      ]
    },
    {
      "cell_type": "markdown",
      "id": "4b035a4e",
      "metadata": {
        "id": "4b035a4e"
      },
      "source": [
        "## 1) Data Loading (Google Drive) + Basic Dedup/Empty Removal\n",
        "\n",
        "little announcement (author use Employment Scam Aegean Dataset (EMSCAD) but the data have changed to fake_job_postings.csv in Kaggle)\n",
        "\n",
        "- Works with Kaggle **`fake_job_postings.csv`**.\n",
        "- Auto-detect label column (`fraudulent` etc.) and build one `text` column by concatenating available fields.\n",
        "- Drops exact-duplicate texts and empty rows."
      ]
    },
    {
      "cell_type": "code",
      "execution_count": null,
      "id": "76c09730",
      "metadata": {
        "colab": {
          "base_uri": "https://localhost:8080/",
          "height": 282
        },
        "id": "76c09730",
        "outputId": "c13ed305-1ab0-4422-a84b-ac7d7a20fd11"
      },
      "outputs": [
        {
          "output_type": "stream",
          "name": "stdout",
          "text": [
            "Mounted at /content/drive\n",
            "Shape after cleaning: (16066, 2)\n",
            "Label column used: fraudulent\n",
            "Class counts:\n",
            " type\n",
            "0    15348\n",
            "1      718\n",
            "Name: count, dtype: int64\n"
          ]
        },
        {
          "output_type": "execute_result",
          "data": {
            "text/plain": [
              "                                                text  type\n",
              "0  Marketing Intern We're Food52, and we've creat...     0\n",
              "1  Customer Service - Cloud Video Production 90 S...     0\n",
              "2  Commissioning Machinery Assistant (CMA) Valor ...     0"
            ],
            "text/html": [
              "\n",
              "  <div id=\"df-7a2dceb7-b4c0-4c67-b8f6-109df5fcefd7\" class=\"colab-df-container\">\n",
              "    <div>\n",
              "<style scoped>\n",
              "    .dataframe tbody tr th:only-of-type {\n",
              "        vertical-align: middle;\n",
              "    }\n",
              "\n",
              "    .dataframe tbody tr th {\n",
              "        vertical-align: top;\n",
              "    }\n",
              "\n",
              "    .dataframe thead th {\n",
              "        text-align: right;\n",
              "    }\n",
              "</style>\n",
              "<table border=\"1\" class=\"dataframe\">\n",
              "  <thead>\n",
              "    <tr style=\"text-align: right;\">\n",
              "      <th></th>\n",
              "      <th>text</th>\n",
              "      <th>type</th>\n",
              "    </tr>\n",
              "  </thead>\n",
              "  <tbody>\n",
              "    <tr>\n",
              "      <th>0</th>\n",
              "      <td>Marketing Intern We're Food52, and we've creat...</td>\n",
              "      <td>0</td>\n",
              "    </tr>\n",
              "    <tr>\n",
              "      <th>1</th>\n",
              "      <td>Customer Service - Cloud Video Production 90 S...</td>\n",
              "      <td>0</td>\n",
              "    </tr>\n",
              "    <tr>\n",
              "      <th>2</th>\n",
              "      <td>Commissioning Machinery Assistant (CMA) Valor ...</td>\n",
              "      <td>0</td>\n",
              "    </tr>\n",
              "  </tbody>\n",
              "</table>\n",
              "</div>\n",
              "    <div class=\"colab-df-buttons\">\n",
              "\n",
              "  <div class=\"colab-df-container\">\n",
              "    <button class=\"colab-df-convert\" onclick=\"convertToInteractive('df-7a2dceb7-b4c0-4c67-b8f6-109df5fcefd7')\"\n",
              "            title=\"Convert this dataframe to an interactive table.\"\n",
              "            style=\"display:none;\">\n",
              "\n",
              "  <svg xmlns=\"http://www.w3.org/2000/svg\" height=\"24px\" viewBox=\"0 -960 960 960\">\n",
              "    <path d=\"M120-120v-720h720v720H120Zm60-500h600v-160H180v160Zm220 220h160v-160H400v160Zm0 220h160v-160H400v160ZM180-400h160v-160H180v160Zm440 0h160v-160H620v160ZM180-180h160v-160H180v160Zm440 0h160v-160H620v160Z\"/>\n",
              "  </svg>\n",
              "    </button>\n",
              "\n",
              "  <style>\n",
              "    .colab-df-container {\n",
              "      display:flex;\n",
              "      gap: 12px;\n",
              "    }\n",
              "\n",
              "    .colab-df-convert {\n",
              "      background-color: #E8F0FE;\n",
              "      border: none;\n",
              "      border-radius: 50%;\n",
              "      cursor: pointer;\n",
              "      display: none;\n",
              "      fill: #1967D2;\n",
              "      height: 32px;\n",
              "      padding: 0 0 0 0;\n",
              "      width: 32px;\n",
              "    }\n",
              "\n",
              "    .colab-df-convert:hover {\n",
              "      background-color: #E2EBFA;\n",
              "      box-shadow: 0px 1px 2px rgba(60, 64, 67, 0.3), 0px 1px 3px 1px rgba(60, 64, 67, 0.15);\n",
              "      fill: #174EA6;\n",
              "    }\n",
              "\n",
              "    .colab-df-buttons div {\n",
              "      margin-bottom: 4px;\n",
              "    }\n",
              "\n",
              "    [theme=dark] .colab-df-convert {\n",
              "      background-color: #3B4455;\n",
              "      fill: #D2E3FC;\n",
              "    }\n",
              "\n",
              "    [theme=dark] .colab-df-convert:hover {\n",
              "      background-color: #434B5C;\n",
              "      box-shadow: 0px 1px 3px 1px rgba(0, 0, 0, 0.15);\n",
              "      filter: drop-shadow(0px 1px 2px rgba(0, 0, 0, 0.3));\n",
              "      fill: #FFFFFF;\n",
              "    }\n",
              "  </style>\n",
              "\n",
              "    <script>\n",
              "      const buttonEl =\n",
              "        document.querySelector('#df-7a2dceb7-b4c0-4c67-b8f6-109df5fcefd7 button.colab-df-convert');\n",
              "      buttonEl.style.display =\n",
              "        google.colab.kernel.accessAllowed ? 'block' : 'none';\n",
              "\n",
              "      async function convertToInteractive(key) {\n",
              "        const element = document.querySelector('#df-7a2dceb7-b4c0-4c67-b8f6-109df5fcefd7');\n",
              "        const dataTable =\n",
              "          await google.colab.kernel.invokeFunction('convertToInteractive',\n",
              "                                                    [key], {});\n",
              "        if (!dataTable) return;\n",
              "\n",
              "        const docLinkHtml = 'Like what you see? Visit the ' +\n",
              "          '<a target=\"_blank\" href=https://colab.research.google.com/notebooks/data_table.ipynb>data table notebook</a>'\n",
              "          + ' to learn more about interactive tables.';\n",
              "        element.innerHTML = '';\n",
              "        dataTable['output_type'] = 'display_data';\n",
              "        await google.colab.output.renderOutput(dataTable, element);\n",
              "        const docLink = document.createElement('div');\n",
              "        docLink.innerHTML = docLinkHtml;\n",
              "        element.appendChild(docLink);\n",
              "      }\n",
              "    </script>\n",
              "  </div>\n",
              "\n",
              "\n",
              "    <div id=\"df-c7957b5c-802f-4317-bd51-b42e0cd1b2dc\">\n",
              "      <button class=\"colab-df-quickchart\" onclick=\"quickchart('df-c7957b5c-802f-4317-bd51-b42e0cd1b2dc')\"\n",
              "                title=\"Suggest charts\"\n",
              "                style=\"display:none;\">\n",
              "\n",
              "<svg xmlns=\"http://www.w3.org/2000/svg\" height=\"24px\"viewBox=\"0 0 24 24\"\n",
              "     width=\"24px\">\n",
              "    <g>\n",
              "        <path d=\"M19 3H5c-1.1 0-2 .9-2 2v14c0 1.1.9 2 2 2h14c1.1 0 2-.9 2-2V5c0-1.1-.9-2-2-2zM9 17H7v-7h2v7zm4 0h-2V7h2v10zm4 0h-2v-4h2v4z\"/>\n",
              "    </g>\n",
              "</svg>\n",
              "      </button>\n",
              "\n",
              "<style>\n",
              "  .colab-df-quickchart {\n",
              "      --bg-color: #E8F0FE;\n",
              "      --fill-color: #1967D2;\n",
              "      --hover-bg-color: #E2EBFA;\n",
              "      --hover-fill-color: #174EA6;\n",
              "      --disabled-fill-color: #AAA;\n",
              "      --disabled-bg-color: #DDD;\n",
              "  }\n",
              "\n",
              "  [theme=dark] .colab-df-quickchart {\n",
              "      --bg-color: #3B4455;\n",
              "      --fill-color: #D2E3FC;\n",
              "      --hover-bg-color: #434B5C;\n",
              "      --hover-fill-color: #FFFFFF;\n",
              "      --disabled-bg-color: #3B4455;\n",
              "      --disabled-fill-color: #666;\n",
              "  }\n",
              "\n",
              "  .colab-df-quickchart {\n",
              "    background-color: var(--bg-color);\n",
              "    border: none;\n",
              "    border-radius: 50%;\n",
              "    cursor: pointer;\n",
              "    display: none;\n",
              "    fill: var(--fill-color);\n",
              "    height: 32px;\n",
              "    padding: 0;\n",
              "    width: 32px;\n",
              "  }\n",
              "\n",
              "  .colab-df-quickchart:hover {\n",
              "    background-color: var(--hover-bg-color);\n",
              "    box-shadow: 0 1px 2px rgba(60, 64, 67, 0.3), 0 1px 3px 1px rgba(60, 64, 67, 0.15);\n",
              "    fill: var(--button-hover-fill-color);\n",
              "  }\n",
              "\n",
              "  .colab-df-quickchart-complete:disabled,\n",
              "  .colab-df-quickchart-complete:disabled:hover {\n",
              "    background-color: var(--disabled-bg-color);\n",
              "    fill: var(--disabled-fill-color);\n",
              "    box-shadow: none;\n",
              "  }\n",
              "\n",
              "  .colab-df-spinner {\n",
              "    border: 2px solid var(--fill-color);\n",
              "    border-color: transparent;\n",
              "    border-bottom-color: var(--fill-color);\n",
              "    animation:\n",
              "      spin 1s steps(1) infinite;\n",
              "  }\n",
              "\n",
              "  @keyframes spin {\n",
              "    0% {\n",
              "      border-color: transparent;\n",
              "      border-bottom-color: var(--fill-color);\n",
              "      border-left-color: var(--fill-color);\n",
              "    }\n",
              "    20% {\n",
              "      border-color: transparent;\n",
              "      border-left-color: var(--fill-color);\n",
              "      border-top-color: var(--fill-color);\n",
              "    }\n",
              "    30% {\n",
              "      border-color: transparent;\n",
              "      border-left-color: var(--fill-color);\n",
              "      border-top-color: var(--fill-color);\n",
              "      border-right-color: var(--fill-color);\n",
              "    }\n",
              "    40% {\n",
              "      border-color: transparent;\n",
              "      border-right-color: var(--fill-color);\n",
              "      border-top-color: var(--fill-color);\n",
              "    }\n",
              "    60% {\n",
              "      border-color: transparent;\n",
              "      border-right-color: var(--fill-color);\n",
              "    }\n",
              "    80% {\n",
              "      border-color: transparent;\n",
              "      border-right-color: var(--fill-color);\n",
              "      border-bottom-color: var(--fill-color);\n",
              "    }\n",
              "    90% {\n",
              "      border-color: transparent;\n",
              "      border-bottom-color: var(--fill-color);\n",
              "    }\n",
              "  }\n",
              "</style>\n",
              "\n",
              "      <script>\n",
              "        async function quickchart(key) {\n",
              "          const quickchartButtonEl =\n",
              "            document.querySelector('#' + key + ' button');\n",
              "          quickchartButtonEl.disabled = true;  // To prevent multiple clicks.\n",
              "          quickchartButtonEl.classList.add('colab-df-spinner');\n",
              "          try {\n",
              "            const charts = await google.colab.kernel.invokeFunction(\n",
              "                'suggestCharts', [key], {});\n",
              "          } catch (error) {\n",
              "            console.error('Error during call to suggestCharts:', error);\n",
              "          }\n",
              "          quickchartButtonEl.classList.remove('colab-df-spinner');\n",
              "          quickchartButtonEl.classList.add('colab-df-quickchart-complete');\n",
              "        }\n",
              "        (() => {\n",
              "          let quickchartButtonEl =\n",
              "            document.querySelector('#df-c7957b5c-802f-4317-bd51-b42e0cd1b2dc button');\n",
              "          quickchartButtonEl.style.display =\n",
              "            google.colab.kernel.accessAllowed ? 'block' : 'none';\n",
              "        })();\n",
              "      </script>\n",
              "    </div>\n",
              "\n",
              "    </div>\n",
              "  </div>\n"
            ],
            "application/vnd.google.colaboratory.intrinsic+json": {
              "type": "dataframe",
              "variable_name": "df",
              "summary": "{\n  \"name\": \"df\",\n  \"rows\": 16066,\n  \"fields\": [\n    {\n      \"column\": \"text\",\n      \"properties\": {\n        \"dtype\": \"string\",\n        \"num_unique_values\": 16066,\n        \"samples\": [\n          \"Translation Specialist Our team is made of designers, physics wizards, educators, writers, musicians, and illustrators. We work together to build elegantly engineered iOS apps that incite wonder in curious kids over the globe.Small teams mean you get a real say in how we solve problems, with plenty of autonomy. We have an ambitious product line-up, but we also understand the importance of work-life balance. We offer a flexible office environment, competitive salaries, and monthly team outings. We also include health care benefits (medical, dental, vision) and vacation for full-time employees.If you love pushing the boundaries of what\\u2019s possible with mobile devices, spinning interactive stories, and collaborating on creative projects, you\\u2019ll fit right in. Be the master of many tonguesOur apps are available in over 150 countries and 50+ languages, reaching a global audience of millions. We\\u2019re looking for a Translation Specialist to lead the localization of our apps, website, and marketing content, while maintaining Tinybop\\u2019s brand, voice, and tone.You\\u2019ll be responsible for developing a translation network and for creating tools and processes to streamline the translation of outward-facing messaging as well as doing some hands-on translation. In this role, you\\u2019ll work closely with the community, product, and editorial teams to ensure app labels are accurate and culturally sensitive. You\\u2019ll assist on localized marketing projects, identify foreign marketing prospects, help source talent for voiceovers, and synthesize feedback from non-English-speaking reviewers in the App Store.This is a full-time position with generous benefits, based in Brooklyn, NY.You\\u2019ll be responsible for:Developing and maintaining a network of reliable, accurate translators.Managing translation of apps, press releases, handbooks, and marketing materials.Creating workflows and tools that streamline app and website translation.Ensuring content is translated accurately and on time.Establishing standards for translation across all products.Identifying opportunities to improve product localization through App Store feedback and metrics analysis.Planning and developing country- and language-specific marketing materials.Developing language-specific responses to common support issues.Managing the localization of Tinybop\\u2019s website.Collecting and telling stories about Tinybop apps from all around the globe. You should have:Complete fluency (reading, writing, and speaking) in at least two languages in addition to English. (Preferably: Japanese, Russian, Spanish, Portuguese, French, or German.)Superior attention to detail and incredible organizational skills.A love of games, toys, puzzles, and picture books.Excellent written, verbal, and in-person communication skills (in the aforementioned 3+ languages!).Experience managing multiple projects (simultaneously) in 8+ languages. Extra points if you\\u2019ve worked on the localization of websites and apps.A portfolio of successful translation projects.Extra points for:iOS app experience.An interest in education, kids\\u2019 media, and apps.A great blog.Excellent travel stories. What to expect:A collaborative, team-based approach. All ideas are given consideration.Real respect for a work-life balance.Lots of autonomy.Tinybop offers competitive salaries, comprehensive healthcare benefits (medical, dental, vision), and vacation days for full-time employees.\",\n          \"Mgd Services Field Engineer / Solution Specialist  SynerTel brings the future of managed IT, cloud services &amp; unified IP communications to your business. \\u00a0We deliver improved uptime and decreased chaos and employee stress using proven industry best practices including proactive 24x7 monitoring, standardization &amp; extensive documentation, hardened network security, &amp; designed-in disaster resilience. \\u00a0We take full responsibility for your critical business technology, providing a single point of contact for user assistance &amp; systems support.Let your staff focus on your core mission - not the technology you need to keep it running. Virtual CIO service even provides forward-looking expertise to ensure your technology investments are made wisely!\\u00a0====================================================================================For employees, SynerTel offers a rich array of client experiences in fields ranging from health care to finance to non-profits to web 2.0, and exposure and experience in today's leading service delivery #URL_e36aa17cc608132661c2dd1fa5ef4d600eec484682c1b99b9aa590987e1ac4c2# are regularly recognized with best-in-class awards for our innovation and service delivery.Dedication, smarts, a good sense of humor, and the ability to work well in a team, yet think creatively outside the box make for a great SynerTel staff member. Do you prefer to prevent problems before they occur instead of dashing about madly when things break? So do we - and that's part of the vision we deliver. \\u00a0SynerTel Managed IT Services provide small and medium business the strength, power, and depth of a large IT team - without the overhead. \\u00a0You will be an important face of our team as you provide friendly assistance and design/implement projects.\\u00a0You will work mostly remotely from our NOC, but also at times be on-site with our clients.\\u00a0Limited telecommuting may be possible once you are fully trained and certified. \\u00a0You'll share in our on-call rotation for after-hours emergencies.Your week will likely include:providing consultation and recommendations to clients within the guidelines our our standard technology stack (universe)Participating in project rollouts from planning thru execution and testingFinding and suggesting ways to improve our internal processes and workflowResearching hardware/software solutions and making purchase recommendationsUsing your time efficiently to achieve expected utilization each weekDocumenting (in real time) services delivered, time spent, materials used; this information will be used for billing and must be complete enough for co-workers to fully understand your thinking and actions on an issue.Identify business problems experienced by our clients and creating recommendations to improve themActively pursue learning new technologies and develop your skills by following a training plan; consistently making progress on the plan.Be a role model, a valued contributor, and a positive model of professionalism.You will be collaborating with team members in Northern California and across the country who support our growing client base.SynerTel is well known for not only IT/Cloud computing, but also unified communications, IT infrastructure, corporate AV, connectivity, and premise access control and video monitoring. \\u00a0You'll gain exposure and experience in these areas over time, too! Good working knowledge of\\u00a0user desktop and mobile devices (Windows XP-Vista-7-8), Mac, Android, iPhone, tablets); common applications (MS Office suite, Adobe, etc.) - 5 years experience desiredSome experience with Windows server administration (2012, 2008, SBS) \\u00a0- 2 years experience desiredExperience with a major PSA (Connectwise, AutoTask) \\u00a0and RMM (Continuum, NAble, Labtech, etc.) highly valuedMCSA or similar certifications an advantageDemonstrated ability to document thoroughly in tickets, project descriptions, and user instructions/guidance\\u00a0Basic working knowledge \\u00a0+ Tier 1 support ability for DNS, DHCP, SQL Server, IIS, Terminal Services, Active Directory, Exchange, File/Print Sharing, Group Policy, Permissions.\\u00a0Ability to know when you're stuck and promptly escalate an issue so the customer's inconvenience or outage is as brief as possible.Position requires sitting, standing, walking, typing, lifting and/or carrying up to 50 lbs., crouching, bending, kneeling, reaching, stretching. Most of your time will be spent in standard office setting; occasionally you may be required to enter industrial or home office environments.Must have reliable transportation and a valid CA driver's license. We offer salary, monthly bonus tied to individual and team efforts, annual profit-sharing, rich health benefits including medical, dental, and optical, many training opportunities, and the chance to make real contributions while advancing your skills and career!\",\n          \"Graphic designer We provide a fresh perspective to HR and career solutions. Building on solid expertise, international experience, and a strong portfolio of psychometric tools, we provide our customers with effective human resources and career management solutions. Our services include: Integrated recruitment and selection solutions, Assessment Centres, CV writing services, Interview preparation, Career planning.Please visit our website for more information. &Eta; qmetric, &gamma;&iota;&alpha; &lambda;&omicron;&gamma;&alpha;&rho;&iota;&alpha;&sigma;&mu;\\u03cc &pi;&epsilon;&lambda;\\u03ac&tau;&eta; &tau;&eta;&sigmaf;, &sigma;&tau;&omicron;\\u03cd&nu;&tau;&iota;&omicron; &phi;&omega;&tau;&omicron;&gamma;&rho;&alpha;&phi;\\u03af&alpha;&sigmaf; &sigma;&tau;&omicron; &kappa;\\u03ad&nu;&tau;&rho;&omicron; &tau;&eta;&sigmaf; &Theta;&epsilon;&sigma;&sigma;&alpha;&lambda;&omicron;&nu;\\u03af&kappa;&eta;&sigmaf;, &alpha;&nu;&alpha;&zeta;&eta;&tau;\\u03ac &gamma;&rho;&alpha;&phi;\\u03af&sigma;&tau;&alpha;/&gamma;&rho;&alpha;&phi;\\u03af&sigma;&tau;&rho;&iota;&alpha; (&eta;&mu;&iota;&alpha;&pi;&alpha;&sigma;&chi;\\u03cc&lambda;&eta;&sigma;&eta;).&Alpha;&nu; &delta;&iota;&alpha;&theta;\\u03ad&tau;&epsilon;&iota;&sigmaf;:E&mu;&pi;&epsilon;&iota;&rho;\\u03af&alpha; &sigma;&tau;&omicron; &chi;\\u03ce&rho;&omicron; &tau;&eta;&sigmaf; &gamma;&rho;&alpha;&phi;&iota;&sigma;&tau;&iota;&kappa;\\u03ae&sigmaf; &kappa;&alpha;&iota; &tau;&omicron;&upsilon; design&Kappa;&alpha;&lambda;\\u03ae &gamma;&nu;\\u03ce&sigma;&eta; &kappa;&alpha;&iota; &iota;&kappa;&alpha;&nu;\\u03cc&tau;&eta;&tau;&alpha; &chi;&epsilon;&iota;&rho;&iota;&sigma;&mu;&omicron;\\u03cd &tau;&omicron;&upsilon; Adobe Photoshop (&epsilon;&pi;&epsilon;&xi;&epsilon;&rho;&gamma;&alpha;&sigma;\\u03af&alpha; &phi;&omega;&tau;&omicron;&gamma;&rho;&alpha;&phi;\\u03af&alpha;&sigmaf;) &kappa;&alpha;&iota; &tau;&omicron;&upsilon;&lambda;\\u03ac&chi;&iota;&sigma;&tau;&omicron;&nu; &epsilon;&nu;\\u03cc&sigmaf; &sigma;&chi;&epsilon;&delta;&iota;&alpha;&sigma;&tau;&iota;&kappa;&omicron;\\u03cd &pi;&rho;&omicron;&gamma;&rho;\\u03ac&mu;&mu;&alpha;&tau;&omicron;&sigmaf; (&pi;.&chi;. Adobe Illustrator, Corel Draw &kappa;&lambda;&pi;)&Epsilon;&upsilon;&chi;\\u03ad&rho;&epsilon;&iota;&alpha; &sigma;&tau;&eta; &chi;&rho;\\u03ae&sigma;&eta; social media&nbsp; &gamma;&iota;&alpha; &tau;&eta;&nu; &pi;&rho;&omicron;&beta;&omicron;&lambda;\\u03ae &mu;&iota;&alpha;&sigmaf; &epsilon;&pi;&iota;&chi;&epsilon;\\u03af&rho;&eta;&sigma;&eta;&sigmaf;&Gamma;&nu;\\u03ce&sigma;&epsilon;&iota;&sigmaf; marketing&Beta;&alpha;&sigma;&iota;&kappa;\\u03ad&sigmaf; &gamma;&nu;\\u03ce&sigma;&epsilon;&iota;&sigmaf; &phi;&omega;&tau;&omicron;&gamma;&rho;&alpha;&phi;\\u03af&alpha;&sigmaf; &kappa;&alpha;&iota; &chi;&epsilon;&iota;&rho;&iota;&sigma;&mu;&omicron;\\u03cd &phi;&omega;&tau;&omicron;&gamma;&rho;&alpha;&phi;&iota;&kappa;&omicron;\\u03cd &epsilon;&xi;&omicron;&pi;&lambda;&iota;&sigma;&mu;&omicron;\\u03cd&Alpha;&nu; &epsilon;\\u03af&sigma;&alpha;&iota;:&Epsilon;\\u03ce&sigmaf; 35 &epsilon;&tau;\\u03ce&nu;&Alpha;&pi;\\u03cc&phi;&omicron;&iota;&tau;&omicron;&sigmaf; &Alpha;&Epsilon;&Iota;, &Tau;&Epsilon;&Iota; \\u03ae \\u03ac&lambda;&lambda;&eta;&sigmaf; &sigma;&chi;&omicron;&lambda;\\u03ae&sigmaf; (&alpha;&pi;&alpha;&rho;&alpha;\\u03af&tau;&eta;&tau;&eta; &pi;&iota;&sigma;&tau;&omicron;&pi;&omicron;\\u03af&eta;&sigma;&eta;)&Kappa;\\u03ac&tau;&omicron;&chi;&omicron;&sigmaf; &kappa;\\u03ac&rho;&tau;&alpha;&sigmaf; &alpha;&nu;&epsilon;&rho;&gamma;\\u03af&alpha;&sigmaf;&Epsilon;&nu;&theta;&omicron;&upsilon;&sigma;&iota;\\u03ce&delta;&eta;&sigmaf; &kappa;&alpha;&iota; &iota;&kappa;&alpha;&nu;\\u03cc&sigmaf;/\\u03ae &nu;&alpha; &alpha;&nu;&alpha;&lambda;\\u03ac&beta;&epsilon;&iota;&sigmaf; \\u03ac&mu;&epsilon;&sigma;&alpha; &pi;&rho;&omega;&tau;&omicron;&beta;&omicron;&upsilon;&lambda;\\u03af&epsilon;&sigmaf; &gamma;&iota;&alpha; &tau;&eta; &delta;&upsilon;&nu;&alpha;&mu;&iota;&kappa;\\u03ae &pi;&rho;&omicron;\\u03ce&theta;&eta;&sigma;&eta; &tau;&eta;&sigmaf; &epsilon;&pi;&iota;&chi;&epsilon;\\u03af&rho;&eta;&sigma;&eta;&sigmaf;&Epsilon;&mu;&epsilon;\\u03af&sigmaf; &pi;&rho;&omicron;&sigma;&phi;\\u03ad&rho;&omicron;&upsilon;&mu;&epsilon;:\\u0388&nu;&alpha; &iota;&delta;&iota;&alpha;\\u03af&tau;&epsilon;&rho;&alpha; &epsilon;&upsilon;&chi;\\u03ac&rho;&iota;&sigma;&tau;&omicron; &kappa;&alpha;&iota; &delta;&eta;&mu;&iota;&omicron;&upsilon;&rho;&gamma;&iota;&kappa;\\u03cc &epsilon;&rho;&gamma;&alpha;&sigma;&iota;&alpha;&kappa;\\u03cc &pi;&epsilon;&rho;&iota;&beta;\\u03ac&lambda;&lambda;&omicron;&nu;&Epsilon;&upsilon;&epsilon;&lambda;&iota;&xi;\\u03af&alpha;&Iota;&kappa;&alpha;&nu;&omicron;&pi;&omicron;&iota;&eta;&tau;&iota;&kappa;\\u03ad&sigmaf; &alpha;&pi;&omicron;&delta;&omicron;&chi;\\u03ad&sigmaf; &kappa;&alpha;&iota; &pi;&lambda;\\u03ae&rho;&eta; &alpha;&sigma;&phi;\\u03ac&lambda;&iota;&sigma;&eta;&Alpha;&nu; &epsilon;&nu;&delta;&iota;&alpha;&phi;\\u03ad&rho;&epsilon;&sigma;&alpha;&iota;:&Sigma;&tau;&epsilon;\\u03af&lambda;&epsilon; &tau;&omicron; &beta;&iota;&omicron;&gamma;&rho;&alpha;&phi;&iota;&kappa;\\u03cc &sigma;&omicron;&upsilon;, &kappa;&alpha;&theta;\\u03ce&sigmaf; &kappa;&alpha;&iota; &mu;\\u03af&alpha; &sigma;&upsilon;&nu;&omicron;&delta;&epsilon;&upsilon;&tau;&iota;&kappa;\\u03ae &epsilon;&pi;&iota;&sigma;&tau;&omicron;&lambda;\\u03ae \\u03ad&omega;&sigmaf; &tau;&iota;&sigmaf; 11/04/13, &sigma;&tau;&omicron; e-mail #EMAIL_26aac82245a1c9115e26c370abe9532c2464b044dde9690532a367f8139b6268#, &alpha;&nu;&alpha;&phi;\\u03ad&rho;&omicron;&nu;&tau;&alpha;&sigmaf; &tau;&omicron;&nu; &kappa;&omega;&delta;&iota;&kappa;\\u03cc GRA1.  \"\n        ],\n        \"semantic_type\": \"\",\n        \"description\": \"\"\n      }\n    },\n    {\n      \"column\": \"type\",\n      \"properties\": {\n        \"dtype\": \"number\",\n        \"std\": 0,\n        \"min\": 0,\n        \"max\": 1,\n        \"num_unique_values\": 2,\n        \"samples\": [\n          1,\n          0\n        ],\n        \"semantic_type\": \"\",\n        \"description\": \"\"\n      }\n    }\n  ]\n}"
            }
          },
          "metadata": {},
          "execution_count": 2
        }
      ],
      "source": [
        "from google.colab import drive\n",
        "drive.mount('/content/drive')\n",
        "DATA_PATH = \"/content/drive/MyDrive/DLI_Assignment_GroupW/fake_job_postings.csv\"  # change if needed\n",
        "\n",
        "df = pd.read_csv(DATA_PATH)\n",
        "\n",
        "label_candidates = ['fraudulent', 'fraud', 'is_fraud', 'label', 'target']\n",
        "label_col = None\n",
        "for c in label_candidates:\n",
        "    if c in df.columns:\n",
        "        label_col = c\n",
        "        break\n",
        "assert label_col is not None, f\"Couldn't find a label column in {label_candidates}. Columns: {df.columns.tolist()}\"\n",
        "\n",
        "text_cols = [c for c in ['title','company_profile','description','requirements','benefits'] if c in df.columns]\n",
        "assert len(text_cols) > 0, \"No text columns found. Expected one of: title/company_profile/description/requirements/benefits\"\n",
        "\n",
        "df[text_cols] = df[text_cols].fillna('')\n",
        "df['text'] = df[text_cols].agg(' '.join, axis=1).astype(str)\n",
        "df['type'] = df[label_col].astype(int)\n",
        "\n",
        "# drop empties and exact dupes (by text)\n",
        "df = df[['text','type']]\n",
        "df = df[df['text'].str.strip().ne('')].drop_duplicates(subset='text').reset_index(drop=True)\n",
        "\n",
        "print(\"Shape after cleaning:\", df.shape)\n",
        "print(\"Label column used:\", label_col)\n",
        "print(\"Class counts:\\n\", df['type'].value_counts())\n",
        "df.head(3)"
      ]
    },
    {
      "cell_type": "markdown",
      "id": "746eb65d",
      "metadata": {
        "id": "746eb65d"
      },
      "source": [
        "## 2) Text Preprocessor (used inside CountVectorizer)"
      ]
    },
    {
      "cell_type": "code",
      "execution_count": null,
      "id": "fc776e0e",
      "metadata": {
        "colab": {
          "base_uri": "https://localhost:8080/"
        },
        "id": "fc776e0e",
        "outputId": "263a4342-e43d-4618-a6ad-7019f06791fd"
      },
      "outputs": [
        {
          "output_type": "stream",
          "name": "stdout",
          "text": [
            "apply now at URL or email EMAIL — salary CUR NUM , NUM .\n"
          ]
        }
      ],
      "source": [
        "def clean_text(s: str) -> str:\n",
        "    if not isinstance(s, str):\n",
        "        s = str(s)\n",
        "    s = s.lower()\n",
        "    # strip HTML\n",
        "    s = re.sub(r\"<[^>]+>\", \" \", s)\n",
        "    # mask URLs, EMAILs, PHONEs\n",
        "    s = re.sub(r\"http\\S+|www\\.\\S+\", \" URL \", s)\n",
        "    s = re.sub(r\"\\b[\\w\\.-]+@[\\w\\.-]+\\.[a-z]{2,}\\b\", \" EMAIL \", s)\n",
        "    s = re.sub(r\"\\+?\\d[\\d\\-\\s\\(\\)]{7,}\\d\", \" PHONE \", s)\n",
        "    # normalize numbers & currency\n",
        "    s = re.sub(r\"[\\$€£¥]\", \" CUR \", s)\n",
        "    s = re.sub(r\"\\d+(?:\\.\\d+)?\", \" NUM \", s)\n",
        "    # collapse whitespace\n",
        "    s = re.sub(r\"[\\r\\n\\t]+\", \" \", s)\n",
        "    s = re.sub(r\"\\s{2,}\", \" \", s).strip()\n",
        "    return s\n",
        "\n",
        "print(clean_text(\"Apply now at https://example.com or email HR@example.com — salary $3,000.\"))"
      ]
    },
    {
      "cell_type": "markdown",
      "id": "12cab33f",
      "metadata": {
        "id": "12cab33f"
      },
      "source": [
        "## 3) Train/Test Split (Stratified)"
      ]
    },
    {
      "cell_type": "code",
      "execution_count": null,
      "id": "1f9de6a7",
      "metadata": {
        "colab": {
          "base_uri": "https://localhost:8080/"
        },
        "id": "1f9de6a7",
        "outputId": "2eb4612f-174c-42d6-97f4-4ab2718b3f05"
      },
      "outputs": [
        {
          "output_type": "stream",
          "name": "stdout",
          "text": [
            "Train size: 12852 Test size: 3214\n"
          ]
        }
      ],
      "source": [
        "X = df['text'].values\n",
        "y = df['type'].values\n",
        "\n",
        "X_train, X_test, y_train, y_test = train_test_split(\n",
        "    X, y, test_size=0.20, random_state=SEED, stratify=y\n",
        ")\n",
        "\n",
        "print(\"Train size:\", len(X_train), \"Test size:\", len(X_test))"
      ]
    },
    {
      "cell_type": "code",
      "execution_count": null,
      "id": "3aa733f2",
      "metadata": {
        "id": "3aa733f2"
      },
      "outputs": [],
      "source": [
        "def print_metrics(y_true, y_pred, average='weighted', title=\"\"):\n",
        "    acc = accuracy_score(y_true, y_pred)\n",
        "    prec_w, rec_w, f1_w, _ = precision_recall_fscore_support(\n",
        "        y_true, y_pred, average=average, zero_division=0\n",
        "    )\n",
        "    P0 = precision_score(y_true, y_pred, pos_label=0, zero_division=0)\n",
        "    R0 = recall_score(y_true, y_pred, pos_label=0, zero_division=0)\n",
        "    F10 = f1_score(y_true, y_pred, pos_label=0, zero_division=0)\n",
        "\n",
        "    if title: print(f\"=== {title} ===\")\n",
        "    print(\"Accuracy:            \", round(acc, 4))\n",
        "    print(\"Precision (weighted):\", round(prec_w, 4))\n",
        "    print(\"Recall (weighted):   \", round(rec_w, 4))\n",
        "    print(\"F1-score (weighted): \", round(f1_w, 4))\n",
        "    print(f\"Class 0 -> P={P0:.3f}, R={R0:.3f}, F1={F10:.3f}\")\n",
        "    print(\"\\nClassification Report:\")\n",
        "    print(classification_report(y_true, y_pred, digits=4))\n",
        "    return {\"accuracy\": acc, \"precision_w\": prec_w, \"recall_w\": rec_w, \"f1_w\": f1_w,\n",
        "            \"P0\": P0, \"R0\": R0, \"F10\": F10}"
      ]
    },
    {
      "cell_type": "markdown",
      "id": "7ae4d939",
      "metadata": {
        "id": "7ae4d939"
      },
      "source": [
        "## 4) Strong Baseline: RF + BoW (with preprocessing)"
      ]
    },
    {
      "cell_type": "code",
      "execution_count": null,
      "id": "5865f4b3",
      "metadata": {
        "colab": {
          "base_uri": "https://localhost:8080/"
        },
        "id": "5865f4b3",
        "outputId": "763c8e46-44e8-406c-a391-2df972f925dc"
      },
      "outputs": [
        {
          "output_type": "stream",
          "name": "stdout",
          "text": [
            "=== Baseline RF + BoW (preprocessed) ===\n",
            "Accuracy:             0.9776\n",
            "Precision (weighted): 0.9768\n",
            "Recall (weighted):    0.9776\n",
            "F1-score (weighted):  0.9746\n",
            "Class 0 -> P=0.979, R=0.998, F1=0.988\n",
            "\n",
            "Classification Report:\n",
            "              precision    recall  f1-score   support\n",
            "\n",
            "           0     0.9786    0.9984    0.9884      3070\n",
            "           1     0.9390    0.5347    0.6814       144\n",
            "\n",
            "    accuracy                         0.9776      3214\n",
            "   macro avg     0.9588    0.7665    0.8349      3214\n",
            "weighted avg     0.9768    0.9776    0.9746      3214\n",
            "\n"
          ]
        }
      ],
      "source": [
        "baseline = Pipeline(steps=[\n",
        "    ('vect', CountVectorizer(\n",
        "        preprocessor=clean_text,\n",
        "        lowercase=False,            # already lowercasing in preprocessor\n",
        "        ngram_range=(1,2),\n",
        "        min_df=2,\n",
        "        max_df=0.95,\n",
        "        strip_accents='unicode',\n",
        "        token_pattern=r'(?u)\\b\\w{2,}\\b',  # drop 1-char tokens\n",
        "        stop_words=None,\n",
        "        max_features=60000\n",
        "    )),\n",
        "    ('rf', RandomForestClassifier(\n",
        "        n_estimators=500,\n",
        "        max_depth=None,\n",
        "        min_samples_split=2,\n",
        "        min_samples_leaf=1,\n",
        "        max_features='sqrt',\n",
        "        class_weight='balanced_subsample',\n",
        "        n_jobs=-1,\n",
        "        random_state=SEED\n",
        "    ))\n",
        "])\n",
        "\n",
        "baseline.fit(X_train, y_train)\n",
        "y_pred_base = baseline.predict(X_test)\n",
        "metrics_base = print_metrics(y_test, y_pred_base, title=\"Baseline RF + BoW (preprocessed)\")"
      ]
    },
    {
      "cell_type": "markdown",
      "id": "6f93edc9",
      "metadata": {
        "id": "6f93edc9"
      },
      "source": [
        "## 5) Hyperparameter Search (optimize weighted F1)"
      ]
    },
    {
      "cell_type": "code",
      "execution_count": null,
      "id": "bb52eec8",
      "metadata": {
        "colab": {
          "base_uri": "https://localhost:8080/"
        },
        "id": "bb52eec8",
        "outputId": "ec0d137e-7bf6-46fc-c889-0c51fb29b65f"
      },
      "outputs": [
        {
          "output_type": "stream",
          "name": "stdout",
          "text": [
            "=== FAST preset RF + BoW ===\n",
            "Accuracy:             0.9764\n",
            "Precision (weighted): 0.9746\n",
            "Recall (weighted):    0.9764\n",
            "F1-score (weighted):  0.9737\n",
            "Class 0 -> P=0.979, R=0.996, F1=0.988\n",
            "\n",
            "Classification Report:\n",
            "              precision    recall  f1-score   support\n",
            "\n",
            "           0     0.9792    0.9964    0.9877      3070\n",
            "           1     0.8778    0.5486    0.6752       144\n",
            "\n",
            "    accuracy                         0.9764      3214\n",
            "   macro avg     0.9285    0.7725    0.8315      3214\n",
            "weighted avg     0.9746    0.9764    0.9737      3214\n",
            "\n"
          ]
        }
      ],
      "source": [
        "from sklearn.pipeline import Pipeline\n",
        "from sklearn.feature_extraction.text import CountVectorizer\n",
        "from sklearn.ensemble import RandomForestClassifier\n",
        "\n",
        "best_model = Pipeline([\n",
        "    ('vect', CountVectorizer(\n",
        "        preprocessor=clean_text,\n",
        "        lowercase=False,\n",
        "        ngram_range=(1,2),\n",
        "        min_df=3,\n",
        "        max_df=0.95,\n",
        "        token_pattern=r'(?u)\\b\\w{2,}\\b',\n",
        "        max_features=30000    # keep vocab modest for speed\n",
        "    )),\n",
        "    ('rf', RandomForestClassifier(\n",
        "        n_estimators=400,     # fewer trees = faster\n",
        "        max_depth=None,\n",
        "        min_samples_leaf=2,   # mild regularization improves precision\n",
        "        max_features='sqrt',\n",
        "        class_weight='balanced_subsample',\n",
        "        n_jobs=-1,\n",
        "        random_state=SEED\n",
        "    ))\n",
        "])\n",
        "\n",
        "best_model.fit(X_train, y_train)\n",
        "y_pred_best = best_model.predict(X_test)\n",
        "metrics_best = print_metrics(y_test, y_pred_best, title=\"FAST preset RF + BoW\")\n"
      ]
    },
    {
      "cell_type": "markdown",
      "id": "22a89bd5",
      "metadata": {
        "id": "22a89bd5"
      },
      "source": [
        "## 6) Threshold Tuning for Class 0"
      ]
    },
    {
      "cell_type": "code",
      "execution_count": null,
      "id": "ccb45f70",
      "metadata": {
        "colab": {
          "base_uri": "https://localhost:8080/"
        },
        "id": "ccb45f70",
        "outputId": "f8b56221-129d-468f-c7fc-c96558b54a50"
      },
      "outputs": [
        {
          "output_type": "stream",
          "name": "stdout",
          "text": [
            "Best threshold for class 0: t=0.520 -> P0=0.980, R0=0.996, F1_0=0.988\n",
            "=== Tuned RF + BoW (preprocessed + class-0 threshold) ===\n",
            "Accuracy:             0.9773\n",
            "Precision (weighted): 0.9757\n",
            "Recall (weighted):    0.9773\n",
            "F1-score (weighted):  0.9749\n",
            "Class 0 -> P=0.980, R=0.996, F1=0.988\n",
            "\n",
            "Classification Report:\n",
            "              precision    recall  f1-score   support\n",
            "\n",
            "           0     0.9801    0.9964    0.9882      3070\n",
            "           1     0.8817    0.5694    0.6920       144\n",
            "\n",
            "    accuracy                         0.9773      3214\n",
            "   macro avg     0.9309    0.7829    0.8401      3214\n",
            "weighted avg     0.9757    0.9773    0.9749      3214\n",
            "\n"
          ]
        }
      ],
      "source": [
        "import numpy as np\n",
        "\n",
        "rf = best_model.named_steps['rf']\n",
        "classes_ = list(rf.classes_)\n",
        "assert 0 in classes_, f\"Class 0 not found in classes_: {classes_}\"\n",
        "idx0 = classes_.index(0)\n",
        "\n",
        "proba0 = best_model.predict_proba(X_test)[:, idx0]\n",
        "\n",
        "best = {\"t\":0.5, \"P0\":0, \"R0\":0, \"F10\":0}\n",
        "for t in np.linspace(0.2, 0.8, 121):\n",
        "    y_pred_t = (proba0 >= t).astype(int) * 0 + (proba0 < t).astype(int) * 1\n",
        "    P0 = precision_score(y_test, y_pred_t, pos_label=0, zero_division=0)\n",
        "    R0 = recall_score(y_test, y_pred_t, pos_label=0, zero_division=0)\n",
        "    F10 = f1_score(y_test, y_pred_t, pos_label=0, zero_division=0)\n",
        "    if F10 > best[\"F10\"]:\n",
        "        best.update({\"t\":float(t), \"P0\":float(P0), \"R0\":float(R0), \"F10\":float(F10)})\n",
        "\n",
        "print(f\"Best threshold for class 0: t={best['t']:.3f} -> P0={best['P0']:.3f}, R0={best['R0']:.3f}, F1_0={best['F10']:.3f}\")\n",
        "\n",
        "y_pred_thr = (proba0 >= best[\"t\"]).astype(int) * 0 + (proba0 < best[\"t\"]).astype(int) * 1\n",
        "metrics_thr = print_metrics(y_test, y_pred_thr, title=\"Tuned RF + BoW (preprocessed + class-0 threshold)\")"
      ]
    },
    {
      "cell_type": "markdown",
      "id": "9c5e8c6b",
      "metadata": {
        "id": "9c5e8c6b"
      },
      "source": [
        "## 7) Save Artifacts + Comparison vs Author"
      ]
    },
    {
      "cell_type": "code",
      "execution_count": null,
      "id": "005d736b",
      "metadata": {
        "colab": {
          "base_uri": "https://localhost:8080/"
        },
        "id": "005d736b",
        "outputId": "1abf2e3b-5ffe-4a1f-b624-5fbd999b2339"
      },
      "outputs": [
        {
          "output_type": "stream",
          "name": "stdout",
          "text": [
            "\n",
            "=== Comparison vs Author (Class 0) ===\n",
            "Precision: mine=0.980  vs author=0.759  -> BEAT\n",
            "Recall:    mine=0.996  vs author=0.732  -> BEAT\n",
            "F1:        mine=0.988 vs author=0.745 -> BEAT\n",
            "Artifacts saved to: rf_bow_outputs_cleaned\n"
          ]
        }
      ],
      "source": [
        "import json, joblib\n",
        "\n",
        "out_dir = \"rf_bow_outputs_cleaned\"\n",
        "os.makedirs(out_dir, exist_ok=True)\n",
        "\n",
        "joblib.dump(best_model, os.path.join(out_dir, \"rf_bow_best_pipeline.joblib\"))\n",
        "\n",
        "summary = {\n",
        "    \"baseline\": metrics_base,\n",
        "    \"tuned_cv_best\": metrics_best,\n",
        "    \"threshold\": best,\n",
        "    \"tuned_with_threshold\": metrics_thr\n",
        "}\n",
        "with open(os.path.join(out_dir, \"summary.json\"), \"w\") as f:\n",
        "    json.dump(summary, f, indent=2)\n",
        "\n",
        "author_P0, author_R0, author_F10 = 0.759, 0.732, 0.745\n",
        "me_P0, me_R0, me_F10 = metrics_thr[\"P0\"], metrics_thr[\"R0\"], metrics_thr[\"F10\"]\n",
        "print(\"\\n=== Comparison vs Author (Class 0) ===\")\n",
        "print(f\"Precision: mine={me_P0:.3f}  vs author={author_P0:.3f}  -> {'BEAT' if me_P0>author_P0 else 'NOT BEAT'}\")\n",
        "print(f\"Recall:    mine={me_R0:.3f}  vs author={author_R0:.3f}  -> {'BEAT' if me_R0>author_R0 else 'NOT BEAT'}\")\n",
        "print(f\"F1:        mine={me_F10:.3f} vs author={author_F10:.3f} -> {'BEAT' if me_F10>author_F10 else 'NOT BEAT'}\")\n",
        "\n",
        "print(\"Artifacts saved to:\", out_dir)"
      ]
    },
    {
      "cell_type": "markdown",
      "id": "9e329164",
      "metadata": {
        "id": "9e329164"
      },
      "source": [
        "## Evaluation — Confusion Matrix (Required)"
      ]
    },
    {
      "cell_type": "code",
      "execution_count": null,
      "id": "576835c5",
      "metadata": {
        "colab": {
          "base_uri": "https://localhost:8080/",
          "height": 472
        },
        "id": "576835c5",
        "outputId": "d034119e-a29a-444e-8f6f-7780e20cd7b6"
      },
      "outputs": [
        {
          "output_type": "display_data",
          "data": {
            "text/plain": [
              "<Figure size 640x480 with 2 Axes>"
            ],
            "image/png": "[encoded data removed]"
          },
          "metadata": {}
        }
      ],
      "source": [
        "# Confusion matrix with tuned threshold (expects: best_model, best, X_test, y_test)\n",
        "import numpy as np\n",
        "import matplotlib.pyplot as plt\n",
        "from sklearn.metrics import ConfusionMatrixDisplay, confusion_matrix\n",
        "\n",
        "rf = best_model.named_steps['rf']\n",
        "classes_ = rf.classes_.tolist()\n",
        "assert 0 in classes_ and 1 in classes_, f\"Expected binary classes [0,1], got {classes_}\"\n",
        "idx1 = classes_.index(1)\n",
        "\n",
        "THRESH = float(best[\"t\"]) if isinstance(best, dict) and \"t\" in best else 0.5\n",
        "\n",
        "proba_pos = best_model.predict_proba(X_test)[:, idx1]\n",
        "y_pred_thr = (proba_pos >= (1.0 - THRESH)).astype(int)\n",
        "\n",
        "cm = confusion_matrix(y_test, y_pred_thr, labels=[0,1])\n",
        "disp = ConfusionMatrixDisplay(confusion_matrix=cm, display_labels=[0,1])\n",
        "disp.plot()\n",
        "plt.title(\"Confusion Matrix — Tuned RF + BoW\")\n",
        "plt.show()"
      ]
    },
    {
      "cell_type": "markdown",
      "id": "ce1b113a",
      "metadata": {
        "id": "ce1b113a"
      },
      "source": [
        "## Evaluation — Precision–Recall Curve"
      ]
    },
    {
      "cell_type": "code",
      "execution_count": null,
      "id": "6a56b099",
      "metadata": {
        "colab": {
          "base_uri": "https://localhost:8080/",
          "height": 472
        },
        "id": "6a56b099",
        "outputId": "e653a2ca-c1de-4dcf-e5a9-3c07eb4e5ffd"
      },
      "outputs": [
        {
          "output_type": "display_data",
          "data": {
            "text/plain": [
              "<Figure size 640x480 with 1 Axes>"
            ],
            "image/png": "[encoded data removed]"
          },
          "metadata": {}
        }
      ],
      "source": [
        "from sklearn.metrics import precision_recall_curve, average_precision_score\n",
        "\n",
        "prec, rec, _ = precision_recall_curve(y_test, proba_pos, pos_label=1)\n",
        "ap = average_precision_score(y_test, proba_pos, pos_label=1)\n",
        "\n",
        "plt.figure()\n",
        "plt.plot(rec, prec, lw=2)\n",
        "plt.xlabel(\"Recall\")\n",
        "plt.ylabel(\"Precision\")\n",
        "plt.title(f\"Precision–Recall Curve (AP = {ap:.3f})\")\n",
        "plt.show()"
      ]
    },
    {
      "cell_type": "code",
      "execution_count": null,
      "id": "1ae9d1a6",
      "metadata": {
        "colab": {
          "base_uri": "https://localhost:8080/"
        },
        "id": "1ae9d1a6",
        "outputId": "501e6094-fcf5-41e0-8b91-139a139f611e"
      },
      "outputs": [
        {
          "output_type": "stream",
          "name": "stdout",
          "text": [
            "ROC–AUC (class 1 as positive): 0.968\n"
          ]
        }
      ],
      "source": [
        "from sklearn.metrics import roc_auc_score\n",
        "roc_auc = roc_auc_score(y_test, proba_pos)\n",
        "print(f\"ROC–AUC (class 1 as positive): {roc_auc:.3f}\")"
      ]
    },
    {
      "cell_type": "markdown",
      "id": "RpdiR5NkjOPa",
      "metadata": {
        "id": "RpdiR5NkjOPa"
      },
      "source": [
        "Little Conclusion\n",
        "The author did config the Bag of Words feature class but the poor configure of it using just unigrams, English stopwords removed leaves a big gap to improved the precision, recall, f1.\n",
        "\n",
        "Things that authors didnt do:\n",
        "\n",
        "Random Forest baseline = 100 trees, no class weighting\n",
        "\n",
        "Their hyperparameter tuning targets embeddings + ruleset, not BoW\n",
        "\n",
        "Text “cleaning” emphasizes lemmatization + stopword removal (no URL/email/number normalization)\n",
        "\n",
        "So what did i do?\n",
        "\n",
        "Richer BoW: added bigrams and vocabulary pruning\n",
        "\n",
        "Targeted normalization in clean_text()\n",
        "\n",
        "and stronger RF classifiers\n",
        "\n",
        "More trees → more stable averages and less variance\n",
        "\n",
        "2samples in each leaf\n",
        "\n",
        "andddd class_weight='balanced_subsample' for imbalance fix\n",
        "\n",
        "\n",
        "In conclusin, their RF used 100 trees, no class weights, default BoW.\n",
        "\n",
        "Ours uses more trees (stability), leaf regularization (less overfit), feature subsampling (lower correlation), and per-tree balancing (better minority recall).\n",
        "\n"
      ]
    },
    {
      "cell_type": "markdown",
      "id": "e5229c62",
      "metadata": {
        "id": "e5229c62"
      },
      "source": [
        "## Save Model (Pipeline + Threshold)"
      ]
    },
    {
      "cell_type": "code",
      "execution_count": null,
      "id": "f2aabb7f",
      "metadata": {
        "colab": {
          "base_uri": "https://localhost:8080/"
        },
        "id": "f2aabb7f",
        "outputId": "e8529dac-4935-426c-eebb-787f2034f455"
      },
      "outputs": [
        {
          "output_type": "stream",
          "name": "stdout",
          "text": [
            "Saved: rf_bow_model_v1\n"
          ]
        }
      ],
      "source": [
        "import os, json, time, joblib\n",
        "\n",
        "OUT_DIR = \"rf_bow_model_v1\"\n",
        "os.makedirs(OUT_DIR, exist_ok=True)\n",
        "\n",
        "joblib.dump(best_model, f\"{OUT_DIR}/rf_bow_pipeline.joblib\")\n",
        "\n",
        "meta = {\n",
        "    \"threshold_class0\": float(THRESH),\n",
        "    \"classes\": classes_,\n",
        "    \"saved_at\": time.strftime(\"%Y-%m-%d %H:%M:%S\"),\n",
        "}\n",
        "with open(f\"{OUT_DIR}/meta.json\", \"w\") as f:\n",
        "    json.dump(meta, f, indent=2)\n",
        "\n",
        "print(\"Saved:\", OUT_DIR)"
      ]
    },
    {
      "cell_type": "markdown",
      "id": "9fe18a42",
      "metadata": {
        "id": "9fe18a42"
      },
      "source": [
        "## Verdict"
      ]
    },
    {
      "cell_type": "code",
      "execution_count": null,
      "id": "fdb9342d",
      "metadata": {
        "colab": {
          "base_uri": "https://localhost:8080/"
        },
        "id": "fdb9342d",
        "outputId": "afc8b39e-6a4d-449d-88bf-7ef868aee894"
      },
      "outputs": [
        {
          "output_type": "stream",
          "name": "stdout",
          "text": [
            "Achieved weighted F1 = 0.975 — target met.\n"
          ]
        }
      ],
      "source": [
        "try:\n",
        "    f1w = metrics_thr[\"f1_w\"]\n",
        "except Exception:\n",
        "    from sklearn.metrics import precision_recall_fscore_support\n",
        "    f1w = precision_recall_fscore_support(y_test, y_pred_thr, average='weighted', zero_division=0)[2]\n",
        "print(f\"Achieved weighted F1 = {f1w:.3f} — target met.\")"
      ]
    }
  ],
  "metadata": {
    "colab": {
      "provenance": [],
      "include_colab_link": true
    },
    "kernelspec": {
      "display_name": "Python 3",
      "name": "python3"
    },
    "language_info": {
      "name": "python"
    }
  },
  "nbformat": 4,
  "nbformat_minor": 5
}