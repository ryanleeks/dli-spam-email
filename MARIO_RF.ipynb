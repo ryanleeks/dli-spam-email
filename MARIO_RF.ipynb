{
  "cells": [
    {
      "cell_type": "markdown",
      "metadata": {
        "id": "view-in-github",
        "colab_type": "text"
      },
      "source": [
        "<a href=\"https://colab.research.google.com/github/ryanleeks/fake-job-detection/blob/main/MARIO_RF.ipynb\" target=\"_parent\"><img src=\"https://colab.research.google.com/assets/colab-badge.svg\" alt=\"Open In Colab\"/></a>"
      ]
    },
    {
      "cell_type": "markdown",
      "id": "63486da6",
      "metadata": {
        "id": "63486da6"
      },
      "source": [
        "\n",
        "# Fake Job Detection(BoW + Random Forest)\n",
        "\n",
        "- **70/15/15** stratified split\n",
        "- Validation-only threshold tuning for **class 1** (fraud) using **F1**\n",
        "- **ROC curve** and **Confusion Matrix**\n",
        "- **Average Precision (class 1)** and **ROC-AUC**\n",
        "- **Step-by-step timing** + runtime comparison vs **Author (13m)** and **Requirement (≤5m)**\n"
      ]
    },
    {
      "cell_type": "code",
      "execution_count": null,
      "id": "83f47434",
      "metadata": {
        "colab": {
          "base_uri": "https://localhost:8080/"
        },
        "id": "83f47434",
        "outputId": "16950abd-f22a-4b3d-eee4-4e96ab99b7b5"
      },
      "outputs": [
        {
          "output_type": "stream",
          "name": "stdout",
          "text": [
            "Requirement already satisfied: imbalanced-learn in /usr/local/lib/python3.11/dist-packages (0.13.0)\n",
            "Requirement already satisfied: numpy<3,>=1.24.3 in /usr/local/lib/python3.11/dist-packages (from imbalanced-learn) (2.0.2)\n",
            "Requirement already satisfied: scipy<2,>=1.10.1 in /usr/local/lib/python3.11/dist-packages (from imbalanced-learn) (1.16.1)\n",
            "Requirement already satisfied: scikit-learn<2,>=1.3.2 in /usr/local/lib/python3.11/dist-packages (from imbalanced-learn) (1.6.1)\n",
            "Requirement already satisfied: sklearn-compat<1,>=0.1 in /usr/local/lib/python3.11/dist-packages (from imbalanced-learn) (0.1.3)\n",
            "Requirement already satisfied: joblib<2,>=1.1.1 in /usr/local/lib/python3.11/dist-packages (from imbalanced-learn) (1.5.1)\n",
            "Requirement already satisfied: threadpoolctl<4,>=2.0.0 in /usr/local/lib/python3.11/dist-packages (from imbalanced-learn) (3.6.0)\n"
          ]
        }
      ],
      "source": [
        "!pip install imbalanced-learn\n",
        "import os, re, html, json, time\n",
        "import numpy as np\n",
        "import pandas as pd\n",
        "import matplotlib.pyplot as plt\n",
        "import time\n",
        "\n",
        "from sklearn.model_selection import train_test_split\n",
        "from sklearn.pipeline import Pipeline\n",
        "from sklearn.feature_extraction.text import CountVectorizer\n",
        "from sklearn.ensemble import RandomForestClassifier\n",
        "from sklearn.metrics import (classification_report, confusion_matrix, ConfusionMatrixDisplay,\n",
        "                             precision_recall_curve, roc_curve, average_precision_score, roc_auc_score,\n",
        "                             accuracy_score, precision_score, recall_score, f1_score)\n",
        "import joblib\n",
        "\n",
        "SEED = 42\n",
        "np.random.seed(SEED)\n",
        "t_total = time.perf_counter()\n",
        "\n",
        "# Fast mode to aim for under ~5 minutes\n",
        "FAST_MODE = True\n",
        "VEC_MAX_FEATURES = 40000 if FAST_MODE else 60000\n",
        "RF_TREES = 300 if FAST_MODE else 500\n",
        "\n",
        "timings = {}\n",
        "def tic(label):\n",
        "    global _t0\n",
        "    _t0 = time.perf_counter()\n",
        "    timings[label] = None\n",
        "def toc(label):\n",
        "    timings[label] = time.perf_counter() - _t0\n"
      ]
    },
    {
      "cell_type": "code",
      "execution_count": null,
      "id": "9538e6ac",
      "metadata": {
        "colab": {
          "base_uri": "https://localhost:8080/"
        },
        "id": "9538e6ac",
        "outputId": "9aa5a14e-9415-4d97-fc0e-ad7b5b0ef700"
      },
      "outputs": [
        {
          "output_type": "stream",
          "name": "stdout",
          "text": [
            "Mounted at /content/drive\n",
            "Loaded from Drive: /content/drive/MyDrive/DLI_Assignment_GroupW/fake_job_postings.csv shape: (17880, 18)\n"
          ]
        }
      ],
      "source": [
        "# Load dataset (Google Drive path)\n",
        "tic(\"load_data\")\n",
        "\n",
        "from google.colab import drive\n",
        "drive.mount('/content/drive')\n",
        "DATA_PATH = \"/content/drive/MyDrive/DLI_Assignment_GroupW/fake_job_postings.csv\"\n",
        "\n",
        "import os, pandas as pd\n",
        "assert os.path.exists(DATA_PATH), f\"File not found: {DATA_PATH}\"\n",
        "\n",
        "df_raw = pd.read_csv(DATA_PATH)\n",
        "\n",
        "toc(\"load_data\")\n",
        "print(\"Loaded from Drive:\", DATA_PATH, \"shape:\", df_raw.shape)\n"
      ]
    },
    {
      "cell_type": "code",
      "execution_count": null,
      "id": "46fc6edf",
      "metadata": {
        "colab": {
          "base_uri": "https://localhost:8080/"
        },
        "id": "46fc6edf",
        "outputId": "0bbac7f4-b2aa-4a97-c5ca-a32968cc3c10"
      },
      "outputs": [
        {
          "output_type": "stream",
          "name": "stdout",
          "text": [
            "Dropped 1880 duplicate texts. Final rows: 16000\n",
            "Class counts: {0: np.int64(15284), 1: np.int64(716)}\n"
          ]
        }
      ],
      "source": [
        "# Assemble text + label\n",
        "tic(\"prep_text\")\n",
        "\n",
        "# 1) find the label column\n",
        "label_col = None\n",
        "for cand in [\"fraudulent\", \"type\", \"label\", \"target\"]:\n",
        "    if cand in df_raw.columns:\n",
        "        label_col = cand\n",
        "        break\n",
        "assert label_col, \"No label column found.\"\n",
        "\n",
        "df = df_raw.copy()\n",
        "\n",
        "# 2) build a unified 'text' column\n",
        "if \"text\" in df.columns:\n",
        "    df[\"text\"] = df[\"text\"].fillna(\"\").astype(str)\n",
        "else:\n",
        "    text_cols = [c for c in [\"title\", \"company_profile\", \"description\", \"requirements\", \"benefits\"] if c in df.columns]\n",
        "    assert text_cols, \"No text columns available to build 'text'.\"\n",
        "    def s(x): return \"\" if pd.isna(x) else str(x)\n",
        "    df[\"text\"] = \"\"\n",
        "    for c in text_cols:\n",
        "        df[\"text\"] = df[\"text\"] + \" \" + df[c].map(s)\n",
        "    df[\"text\"] = df[\"text\"].fillna(\"\").astype(str).str.strip()\n",
        "\n",
        "# 3) ensure labels are ints\n",
        "df[label_col] = df[label_col].astype(int)\n",
        "\n",
        "# 4) drop exact duplicate texts to avoid leakage\n",
        "before = len(df)\n",
        "df = df.drop_duplicates(subset=[\"text\"])\n",
        "\n",
        "# 5) X, y\n",
        "X = df[\"text\"].values\n",
        "y = df[label_col].values\n",
        "\n",
        "toc(\"prep_text\")\n",
        "print(f\"Dropped {before - len(df)} duplicate texts. Final rows: {len(df)}\")\n",
        "print(\"Class counts:\", dict(pd.Series(y).value_counts().sort_index()))\n"
      ]
    },
    {
      "cell_type": "code",
      "execution_count": null,
      "id": "f09d4a3c",
      "metadata": {
        "id": "f09d4a3c"
      },
      "outputs": [],
      "source": [
        "\n",
        "# Cleaner for vectorizer\n",
        "import re\n",
        "_url = re.compile(r\"(https?://\\S+|www\\.\\S+)\")\n",
        "_email = re.compile(r\"\\b[\\w.+-]+@[\\w-]+\\.[\\w.-]+\\b\")\n",
        "_phone = re.compile(r\"\\b(?:\\+?\\d[\\s-]?){7,}\\b\")\n",
        "_money = re.compile(r\"\\$|USD|EUR|GBP|MYR|RM|SGD|\\b(?:USD|EUR|GBP|MYR|RM|SGD)\\b\", re.IGNORECASE)\n",
        "_num   = re.compile(r\"\\b\\d+(?:[.,]\\d+)?\\b\")\n",
        "_tag   = re.compile(r\"<[^>]+>\")\n",
        "\n",
        "def clean_text(s: str) -> str:\n",
        "    s = html.unescape(\"\" if s is None else str(s))\n",
        "    s = s.lower()\n",
        "    s = _tag.sub(\" \", s)\n",
        "    s = _url.sub(\" URL \", s)\n",
        "    s = _email.sub(\" EMAIL \", s)\n",
        "    s = _phone.sub(\" PHONE \", s)\n",
        "    s = _money.sub(\" MONEY \", s)\n",
        "    s = _num.sub(\" NUM \", s)\n",
        "    s = re.sub(r\"\\s+\", \" \", s).strip()\n",
        "    return s\n"
      ]
    },
    {
      "cell_type": "code",
      "execution_count": null,
      "id": "2c8d6dc5",
      "metadata": {
        "colab": {
          "base_uri": "https://localhost:8080/"
        },
        "id": "2c8d6dc5",
        "outputId": "d43fd039-b65a-4a49-aaeb-ae14e7342dda"
      },
      "outputs": [
        {
          "output_type": "stream",
          "name": "stdout",
          "text": [
            "Train/Val/Test %: 0.7 0.15 0.15\n"
          ]
        }
      ],
      "source": [
        "\n",
        "# Split 70/15/15 stratified\n",
        "tic(\"split\")\n",
        "X_train, X_temp, y_train, y_temp = train_test_split(X, y, test_size=0.30, stratify=y, random_state=SEED)\n",
        "X_val,   X_test, y_val,   y_test = train_test_split(X_temp, y_temp, test_size=0.50, stratify=y_temp, random_state=SEED)\n",
        "toc(\"split\")\n",
        "\n",
        "tot = len(X)\n",
        "print(\"Train/Val/Test %:\", round(len(X_train)/tot,3), round(len(X_val)/tot,3), round(len(X_test)/tot,3))\n",
        "\n",
        "# Pre-clean to avoid running clean_text twice (word + char)\n",
        "X_train_c = np.array([clean_text(t) for t in X_train], dtype=object)\n",
        "X_val_c   = np.array([clean_text(t) for t in X_val],   dtype=object)\n",
        "X_test_c  = np.array([clean_text(t) for t in X_test],  dtype=object)\n"
      ]
    },
    {
      "cell_type": "code",
      "execution_count": null,
      "id": "6246ca9a",
      "metadata": {
        "colab": {
          "base_uri": "https://localhost:8080/"
        },
        "id": "6246ca9a",
        "outputId": "f6d92ad6-8b60-40ba-9103-b7b833c80418"
      },
      "outputs": [
        {
          "output_type": "stream",
          "name": "stdout",
          "text": [
            "Pipeline trained.\n",
            "FAST Word+Char TF-IDF + RF trained.\n"
          ]
        }
      ],
      "source": [
        "from sklearn.pipeline import Pipeline, FeatureUnion\n",
        "from sklearn.feature_extraction.text import TfidfVectorizer\n",
        "from sklearn.ensemble import RandomForestClassifier\n",
        "import numpy as np\n",
        "\n",
        "word_vec = TfidfVectorizer(\n",
        "    preprocessor=None, lowercase=False,           # already cleaned above\n",
        "    analyzer=\"word\", ngram_range=(1,2),\n",
        "    min_df=3, max_df=0.95,\n",
        "    token_pattern=r\"(?u)\\b\\w{2,}\\b\",\n",
        "    max_features=30000, dtype=np.float32\n",
        ")\n",
        "\n",
        "char_vec = TfidfVectorizer(\n",
        "    preprocessor=None, lowercase=False,\n",
        "    analyzer=\"char_wb\", ngram_range=(3,4),        # narrower + word-boundary\n",
        "    min_df=3, max_df=0.98,\n",
        "    max_features=20000, dtype=np.float32\n",
        ")\n",
        "\n",
        "pipe = Pipeline([\n",
        "    (\"vec\", FeatureUnion([\n",
        "        (\"word\", word_vec),\n",
        "        (\"char\", char_vec),\n",
        "    ])),\n",
        "    (\"rf\", RandomForestClassifier(\n",
        "        n_estimators=300,\n",
        "        max_depth=24,                  # cap depth\n",
        "        min_samples_leaf=2,            # small leaf\n",
        "        min_samples_split=2,\n",
        "        max_features=\"sqrt\",\n",
        "        class_weight=\"balanced_subsample\",\n",
        "        n_jobs=-1, random_state=SEED\n",
        "    ))\n",
        "])\n",
        "\n",
        "pipe.fit(X_train_c, y_train)\n",
        "tic(\"train_pipeline\")\n",
        "pipe.fit(X_train_c, y_train)\n",
        "toc(\"train_pipeline\")\n",
        "print(\"Pipeline trained.\")\n",
        "\n",
        "print(\"FAST Word+Char TF-IDF + RF trained.\")\n"
      ]
    },
    {
      "cell_type": "code",
      "source": [
        "rf = pipe.named_steps['rf']\n",
        "idx_pos = list(rf.classes_).index(1)\n",
        "\n",
        "proba_val      = pipe.predict_proba(X_val_c)[:, idx_pos]\n",
        "proba_pos_test = pipe.predict_proba(X_test_c)[:, idx_pos]\n"
      ],
      "metadata": {
        "id": "onqc94OT_L_V"
      },
      "id": "onqc94OT_L_V",
      "execution_count": null,
      "outputs": []
    },
    {
      "cell_type": "code",
      "source": [
        "# Extract the fitted vectorizer stack (everything before 'rf')\n",
        "from sklearn.calibration import CalibratedClassifierCV\n",
        "\n",
        "if \"vec\" in pipe.named_steps:\n",
        "    vec_step = pipe.named_steps[\"vec\"]\n",
        "    X_val_vec = vec_step.transform(X_val)\n",
        "    X_test_vec = vec_step.transform(X_test)\n",
        "else:\n",
        "    # Fallback: use all steps except last\n",
        "    vec_step = pipe[:-1]\n",
        "    X_val_vec = vec_step.transform(X_val)\n",
        "    X_test_vec = vec_step.transform(X_test)\n",
        "\n",
        "rf = pipe.named_steps[\"rf\"]\n",
        "cal = CalibratedClassifierCV(rf, method=\"sigmoid\", cv=\"prefit\")\n",
        "cal.fit(X_val_vec, y_val)\n",
        "\n",
        "# From here on, use these *calibrated* probabilities for tuning & test\n",
        "proba_val = cal.predict_proba(X_val_vec)[:, 1]\n",
        "proba_pos_test = cal.predict_proba(X_test_vec)[:, 1]\n",
        "\n",
        "# Set class index for consistency with your tuning code\n",
        "idx_pos = 1\n"
      ],
      "metadata": {
        "colab": {
          "base_uri": "https://localhost:8080/"
        },
        "id": "lfFWtLvC9T5S",
        "outputId": "ad4ea8f9-cc43-44b9-8add-b9f044fee415"
      },
      "id": "lfFWtLvC9T5S",
      "execution_count": null,
      "outputs": [
        {
          "output_type": "stream",
          "name": "stderr",
          "text": [
            "/usr/local/lib/python3.11/dist-packages/sklearn/calibration.py:333: UserWarning: The `cv='prefit'` option is deprecated in 1.6 and will be removed in 1.8. You can use CalibratedClassifierCV(FrozenEstimator(estimator)) instead.\n",
            "  warnings.warn(\n"
          ]
        }
      ]
    },
    {
      "cell_type": "code",
      "source": [
        "prec, rec, thr = precision_recall_curve(y_val, proba_val)\n",
        "\n",
        "print(\"Sampled thresholds (precision, recall):\")\n",
        "for p, r, t in zip(prec[::20], rec[::20], np.r_[thr[::20], thr[-1:]]):\n",
        "    print(f\"t={t:6.3f}  P={p:5.3f}  R={r:5.3f}\")\n"
      ],
      "metadata": {
        "colab": {
          "base_uri": "https://localhost:8080/"
        },
        "id": "YXvI4_A49hrx",
        "outputId": "7ab4b744-4759-453d-ba39-e6a1913ea32e"
      },
      "id": "YXvI4_A49hrx",
      "execution_count": null,
      "outputs": [
        {
          "output_type": "stream",
          "name": "stdout",
          "text": [
            "Sampled thresholds (precision, recall):\n",
            "t= 0.004  P=0.045  R=1.000\n",
            "t= 0.005  P=0.046  R=1.000\n",
            "t= 0.005  P=0.046  R=1.000\n",
            "t= 0.005  P=0.047  R=1.000\n",
            "t= 0.005  P=0.047  R=1.000\n",
            "t= 0.005  P=0.048  R=1.000\n",
            "t= 0.005  P=0.048  R=1.000\n",
            "t= 0.005  P=0.049  R=1.000\n",
            "t= 0.005  P=0.049  R=1.000\n",
            "t= 0.005  P=0.050  R=1.000\n",
            "t= 0.005  P=0.050  R=1.000\n",
            "t= 0.005  P=0.051  R=1.000\n",
            "t= 0.005  P=0.051  R=1.000\n",
            "t= 0.005  P=0.052  R=1.000\n",
            "t= 0.005  P=0.052  R=1.000\n",
            "t= 0.005  P=0.053  R=1.000\n",
            "t= 0.005  P=0.054  R=1.000\n",
            "t= 0.005  P=0.054  R=1.000\n",
            "t= 0.005  P=0.055  R=1.000\n",
            "t= 0.005  P=0.055  R=1.000\n",
            "t= 0.006  P=0.056  R=1.000\n",
            "t= 0.006  P=0.057  R=1.000\n",
            "t= 0.006  P=0.057  R=1.000\n",
            "t= 0.006  P=0.058  R=1.000\n",
            "t= 0.006  P=0.059  R=1.000\n",
            "t= 0.006  P=0.059  R=1.000\n",
            "t= 0.006  P=0.060  R=1.000\n",
            "t= 0.006  P=0.061  R=1.000\n",
            "t= 0.006  P=0.061  R=0.991\n",
            "t= 0.006  P=0.061  R=0.991\n",
            "t= 0.006  P=0.062  R=0.991\n",
            "t= 0.006  P=0.063  R=0.991\n",
            "t= 0.006  P=0.064  R=0.991\n",
            "t= 0.006  P=0.065  R=0.991\n",
            "t= 0.006  P=0.065  R=0.991\n",
            "t= 0.006  P=0.066  R=0.991\n",
            "t= 0.006  P=0.067  R=0.991\n",
            "t= 0.006  P=0.068  R=0.991\n",
            "t= 0.006  P=0.069  R=0.991\n",
            "t= 0.006  P=0.070  R=0.991\n",
            "t= 0.006  P=0.071  R=0.991\n",
            "t= 0.007  P=0.072  R=0.991\n",
            "t= 0.007  P=0.073  R=0.991\n",
            "t= 0.007  P=0.074  R=0.991\n",
            "t= 0.007  P=0.075  R=0.991\n",
            "t= 0.007  P=0.076  R=0.991\n",
            "t= 0.007  P=0.077  R=0.991\n",
            "t= 0.007  P=0.078  R=0.991\n",
            "t= 0.007  P=0.079  R=0.991\n",
            "t= 0.007  P=0.081  R=0.991\n",
            "t= 0.007  P=0.082  R=0.991\n",
            "t= 0.007  P=0.083  R=0.991\n",
            "t= 0.007  P=0.085  R=0.991\n",
            "t= 0.007  P=0.086  R=0.991\n",
            "t= 0.007  P=0.088  R=0.991\n",
            "t= 0.008  P=0.089  R=0.991\n",
            "t= 0.008  P=0.091  R=0.991\n",
            "t= 0.008  P=0.092  R=0.991\n",
            "t= 0.008  P=0.094  R=0.991\n",
            "t= 0.008  P=0.096  R=0.991\n",
            "t= 0.008  P=0.097  R=0.991\n",
            "t= 0.008  P=0.099  R=0.991\n",
            "t= 0.008  P=0.101  R=0.991\n",
            "t= 0.008  P=0.103  R=0.991\n",
            "t= 0.009  P=0.105  R=0.991\n",
            "t= 0.009  P=0.107  R=0.991\n",
            "t= 0.009  P=0.109  R=0.991\n",
            "t= 0.009  P=0.112  R=0.991\n",
            "t= 0.009  P=0.113  R=0.981\n",
            "t= 0.009  P=0.115  R=0.981\n",
            "t= 0.009  P=0.118  R=0.981\n",
            "t= 0.010  P=0.120  R=0.972\n",
            "t= 0.010  P=0.122  R=0.972\n",
            "t= 0.010  P=0.125  R=0.972\n",
            "t= 0.010  P=0.129  R=0.972\n",
            "t= 0.011  P=0.130  R=0.963\n",
            "t= 0.011  P=0.134  R=0.963\n",
            "t= 0.011  P=0.137  R=0.963\n",
            "t= 0.011  P=0.141  R=0.963\n",
            "t= 0.011  P=0.145  R=0.963\n",
            "t= 0.012  P=0.149  R=0.963\n",
            "t= 0.012  P=0.154  R=0.963\n",
            "t= 0.012  P=0.159  R=0.963\n",
            "t= 0.012  P=0.164  R=0.963\n",
            "t= 0.013  P=0.167  R=0.954\n",
            "t= 0.013  P=0.173  R=0.954\n",
            "t= 0.014  P=0.179  R=0.954\n",
            "t= 0.014  P=0.186  R=0.954\n",
            "t= 0.015  P=0.193  R=0.954\n",
            "t= 0.016  P=0.198  R=0.944\n",
            "t= 0.017  P=0.206  R=0.944\n",
            "t= 0.018  P=0.215  R=0.944\n",
            "t= 0.019  P=0.222  R=0.935\n",
            "t= 0.020  P=0.228  R=0.917\n",
            "t= 0.021  P=0.240  R=0.917\n",
            "t= 0.023  P=0.247  R=0.898\n",
            "t= 0.024  P=0.252  R=0.870\n",
            "t= 0.026  P=0.266  R=0.870\n",
            "t= 0.030  P=0.282  R=0.870\n",
            "t= 0.033  P=0.297  R=0.861\n",
            "t= 0.036  P=0.311  R=0.843\n",
            "t= 0.043  P=0.333  R=0.843\n",
            "t= 0.049  P=0.360  R=0.843\n",
            "t= 0.060  P=0.382  R=0.824\n",
            "t= 0.068  P=0.413  R=0.815\n",
            "t= 0.077  P=0.440  R=0.787\n",
            "t= 0.092  P=0.462  R=0.741\n",
            "t= 0.121  P=0.523  R=0.741\n",
            "t= 0.156  P=0.571  R=0.704\n",
            "t= 0.222  P=0.637  R=0.667\n",
            "t= 0.324  P=0.688  R=0.593\n",
            "t= 0.499  P=0.808  R=0.546\n",
            "t= 0.688  P=0.849  R=0.417\n",
            "t= 0.874  P=0.879  R=0.269\n",
            "t= 0.967  P=0.923  R=0.111\n"
          ]
        }
      ]
    },
    {
      "cell_type": "code",
      "execution_count": null,
      "id": "c74cfe9c",
      "metadata": {
        "colab": {
          "base_uri": "https://localhost:8080/"
        },
        "id": "c74cfe9c",
        "outputId": "e86e553f-3b43-42c0-e0f9-e64f57f84d34"
      },
      "outputs": [
        {
          "output_type": "stream",
          "name": "stdout",
          "text": [
            "Tuned threshold (class 1): 0.345  (P1=0.661, R1=0.667, F1_1=0.664)\n"
          ]
        }
      ],
      "source": [
        "\n",
        "# Tune threshold on VALIDATION for class 1\n",
        "tic(\"tune_threshold\")\n",
        "rf = pipe.named_steps['rf']\n",
        "classes_ = list(rf.classes_); assert 1 in classes_\n",
        "idx_pos = classes_.index(1)\n",
        "\n",
        "proba_val = pipe.predict_proba(X_val)[:, idx_pos]\n",
        "\n",
        "best = {\"t\":0.5, \"P1\":0.0, \"R1\":0.0, \"F11\":0.0}\n",
        "for t in np.linspace(0.05, 0.95, 181):\n",
        "    y_val_pred = (proba_val >= t).astype(int)\n",
        "    P1 = precision_score(y_val, y_val_pred, pos_label=1, zero_division=0)\n",
        "    R1 = recall_score(y_val, y_val_pred, pos_label=1, zero_division=0)\n",
        "    F11 = f1_score(y_val, y_val_pred, pos_label=1, zero_division=0)\n",
        "    if F11 > best[\"F11\"]:\n",
        "        best.update({\"t\":float(t), \"P1\":float(P1), \"R1\":float(R1), \"F11\":float(F11)})\n",
        "THRESH_1 = best[\"t\"]\n",
        "toc(\"tune_threshold\")\n",
        "\n",
        "print(f\"Tuned threshold (class 1): {THRESH_1:.3f}  (P1={best['P1']:.3f}, R1={best['R1']:.3f}, F1_1={best['F11']:.3f})\")\n"
      ]
    },
    {
      "cell_type": "code",
      "execution_count": null,
      "id": "6e28aab0",
      "metadata": {
        "colab": {
          "base_uri": "https://localhost:8080/",
          "height": 1000
        },
        "id": "6e28aab0",
        "outputId": "32b24e27-cf23-4e34-dbe0-b710c05436b4"
      },
      "outputs": [
        {
          "output_type": "stream",
          "name": "stdout",
          "text": [
            "=== Classification Report (tuned) ===\n",
            "              precision    recall  f1-score   support\n",
            "\n",
            "           0     0.9807    0.9751    0.9779      2293\n",
            "           1     0.5250    0.5888    0.5551       107\n",
            "\n",
            "    accuracy                         0.9579      2400\n",
            "   macro avg     0.7529    0.7820    0.7665      2400\n",
            "weighted avg     0.9604    0.9579    0.9591      2400\n",
            "\n",
            "Accuracy: 0.9579  |  Average Precision (class 1): 0.6260  |  ROC-AUC: 0.9623\n"
          ]
        },
        {
          "output_type": "display_data",
          "data": {
            "text/plain": [
              "<Figure size 640x480 with 2 Axes>"
            ],
            "image/png": "[encoded data removed]"
          },
          "metadata": {}
        },
        {
          "output_type": "display_data",
          "data": {
            "text/plain": [
              "<Figure size 640x480 with 1 Axes>"
            ],
            "image/png": "[encoded data removed]"
          },
          "metadata": {}
        },
        {
          "output_type": "display_data",
          "data": {
            "text/plain": [
              "<Figure size 640x480 with 1 Axes>"
            ],
            "image/png": "[encoded data removed]"
          },
          "metadata": {}
        }
      ],
      "source": [
        "\n",
        "# Final eval + plots\n",
        "tic(\"final_eval\")\n",
        "proba_pos_test = pipe.predict_proba(X_test)[:, idx_pos]\n",
        "y_pred_thr     = (proba_pos_test >= THRESH_1).astype(int)\n",
        "\n",
        "print(\"=== Classification Report (tuned) ===\")\n",
        "print(classification_report(y_test, y_pred_thr, digits=4))\n",
        "\n",
        "acc = accuracy_score(y_test, y_pred_thr)\n",
        "ap1 = average_precision_score(y_test, proba_pos_test)\n",
        "roc = roc_auc_score(y_test, proba_pos_test)\n",
        "print(f\"Accuracy: {acc:.4f}  |  Average Precision (class 1): {ap1:.4f}  |  ROC-AUC: {roc:.4f}\")\n",
        "\n",
        "cm = confusion_matrix(y_test, y_pred_thr, labels=[0,1])\n",
        "ConfusionMatrixDisplay(cm, display_labels=[0,1]).plot(values_format='d')\n",
        "plt.title(\"Confusion Matrix — Test\"); plt.tight_layout(); plt.show()\n",
        "\n",
        "fpr, tpr, thr_roc = roc_curve(y_test, proba_pos_test)\n",
        "plt.figure(); plt.plot(fpr, tpr); plt.plot([0,1],[0,1],\"--\")\n",
        "plt.xlabel(\"False Positive Rate\"); plt.ylabel(\"True Positive Rate\")\n",
        "plt.title(\"ROC Curve — Test\"); plt.grid(True); plt.tight_layout(); plt.show()\n",
        "\n",
        "prec, rec, thr = precision_recall_curve(y_test, proba_pos_test)\n",
        "plt.figure(); plt.plot(rec, prec)\n",
        "plt.xlabel(\"Recall (class 1)\"); plt.ylabel(\"Precision (class 1)\")\n",
        "plt.title(\"Precision–Recall Curve — Test\"); plt.grid(True); plt.tight_layout(); plt.show()\n",
        "toc(\"final_eval\")\n"
      ]
    },
    {
      "cell_type": "code",
      "execution_count": null,
      "id": "018d0213",
      "metadata": {
        "colab": {
          "base_uri": "https://localhost:8080/",
          "height": 643
        },
        "id": "018d0213",
        "outputId": "b10d2146-d2d2-434c-e7c3-f31223878c95"
      },
      "outputs": [
        {
          "output_type": "stream",
          "name": "stdout",
          "text": [
            "\n",
            "=== Timing (seconds) ===\n",
            "         load_data: 42.83s\n",
            "         prep_text: 0.66s\n",
            "             split: 0.03s\n",
            "    train_pipeline: 109.95s\n",
            "    tune_threshold: 15.48s\n",
            "        final_eval: 15.53s\n",
            "             TOTAL: 184.47s  (~3.07 min)\n"
          ]
        },
        {
          "output_type": "display_data",
          "data": {
            "text/plain": [
              "<Figure size 640x480 with 1 Axes>"
            ],
            "image/png": "[encoded data removed]"
          },
          "metadata": {}
        }
      ],
      "source": [
        "\n",
        "# Timing summary + comparison\n",
        "total_time = sum(t for t in timings.values() if t is not None)\n",
        "author_time_min = 13.0\n",
        "req_max_min = 5.0\n",
        "our_time_min = total_time / 60.0\n",
        "\n",
        "print(\"\\n=== Timing (seconds) ===\")\n",
        "for k,v in timings.items():\n",
        "    print(f\"{k:>18}: {v:.2f}s\")\n",
        "print(f\"{'TOTAL':>18}: {total_time:.2f}s  (~{our_time_min:.2f} min)\")\n",
        "\n",
        "labels = [\"Author (13m)\", \"Ours\", \"Requirement (≤5m)\"]\n",
        "vals = [author_time_min, our_time_min, req_max_min]\n",
        "\n",
        "plt.figure()\n",
        "plt.bar(labels, vals)\n",
        "plt.ylabel(\"Minutes\"); plt.title(\"Runtime Comparison\")\n",
        "plt.ylim(0, max(author_time_min, our_time_min, req_max_min) * 1.2)\n",
        "for i, v in enumerate(vals):\n",
        "    plt.text(i, v + 0.1, f\"{v:.2f}m\", ha='center')\n",
        "plt.tight_layout(); plt.show()\n",
        "\n",
        "total_minutes = (time.perf_counter() - t_total) / 60.0\n",
        "print(f\"End-to-end wall time: {total_minutes:.2f} min\")\n"
      ]
    },
    {
      "cell_type": "code",
      "execution_count": null,
      "id": "27d0e0fd",
      "metadata": {
        "colab": {
          "base_uri": "https://localhost:8080/"
        },
        "id": "27d0e0fd",
        "outputId": "b867584c-1c36-4ea0-a407-810876759f2f"
      },
      "outputs": [
        {
          "output_type": "stream",
          "name": "stdout",
          "text": [
            "Saved: artifacts/rf_bow_pipeline_timed.joblib\n",
            "Saved: artifacts/meta.json\n"
          ]
        }
      ],
      "source": [
        "\n",
        "# Save artifacts\n",
        "ART_DIR = \"artifacts\"; os.makedirs(ART_DIR, exist_ok=True)\n",
        "model_path = os.path.join(ART_DIR, \"rf_bow_pipeline_timed.joblib\")\n",
        "joblib.dump(pipe, model_path)\n",
        "\n",
        "meta = {\n",
        "    \"threshold_class_1\": float(THRESH_1),\n",
        "    \"label_mapping\": {\"0\":\"real\", \"1\":\"fraud\"},\n",
        "    \"seed\": int(SEED),\n",
        "    \"fast_mode\": bool(FAST_MODE),\n",
        "    \"vectorizer\": {\"type\":\"CountVectorizer\", \"max_features\": int(VEC_MAX_FEATURES)},\n",
        "    \"classifier\": {\"type\":\"RandomForest\", \"n_estimators\": int(RF_TREES), \"class_weight\":\"balanced_subsample\", \"max_features\":\"sqrt\"},\n",
        "    \"timings_seconds\": {k: float(v) for k,v in timings.items() if v is not None},\n",
        "    \"total_minutes\": float(our_time_min)\n",
        "}\n",
        "with open(os.path.join(ART_DIR, \"meta.json\"), \"w\") as f:\n",
        "    json.dump(meta, f, indent=2)\n",
        "\n",
        "print(\"Saved:\", model_path)\n",
        "print(\"Saved:\", os.path.join(ART_DIR, \"meta.json\"))\n"
      ]
    }
  ],
  "metadata": {
    "colab": {
      "provenance": [],
      "include_colab_link": true
    },
    "language_info": {
      "name": "python"
    },
    "kernelspec": {
      "name": "python3",
      "display_name": "Python 3"
    }
  },
  "nbformat": 4,
  "nbformat_minor": 5
}