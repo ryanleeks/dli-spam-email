{
 "cells": [
  {
   "cell_type": "markdown",
   "metadata": {
    "id": "05AC4WDQEjgt"
   },
   "source": [
    "1. Imports and Setup"
   ]
  },
  {
   "cell_type": "code",
   "execution_count": 2,
   "metadata": {
    "executionInfo": {
     "elapsed": 31225,
     "status": "ok",
     "timestamp": 1755581063853,
     "user": {
      "displayName": "Ming Yao",
      "userId": "03424197381855114564"
     },
     "user_tz": -480
    },
    "id": "Y5DphFlfYQX8"
   },
   "outputs": [],
   "source": [
    "import os\n",
    "import re\n",
    "import math\n",
    "import random\n",
    "import numpy as np\n",
    "import pandas as pd\n",
    "import torch\n",
    "from torch.utils.data import DataLoader, Dataset\n",
    "from torch.cuda.amp import autocast, GradScaler\n",
    "from torch.optim import AdamW\n",
    "from sklearn.model_selection import train_test_split\n",
    "from sklearn.metrics import (\n",
    "    accuracy_score, precision_score, recall_score, f1_score, classification_report\n",
    ")\n",
    "from transformers import (\n",
    "    DistilBertTokenizerFast,\n",
    "    DistilBertForSequenceClassification,\n",
    "    get_scheduler,\n",
    "    DataCollatorWithPadding\n",
    ")\n",
    "from tqdm import tqdm"
   ]
  },
  {
   "cell_type": "code",
   "execution_count": 3,
   "metadata": {
    "colab": {
     "base_uri": "https://localhost:8080/"
    },
    "executionInfo": {
     "elapsed": 11,
     "status": "ok",
     "timestamp": 1755581063855,
     "user": {
      "displayName": "Ming Yao",
      "userId": "03424197381855114564"
     },
     "user_tz": -480
    },
    "id": "kVqhwULHYWmT",
    "outputId": "d52e1a7c-c067-4fd2-887f-b7f3fddc0e26"
   },
   "outputs": [
    {
     "name": "stdout",
     "output_type": "stream",
     "text": [
      "Device: cuda\n"
     ]
    }
   ],
   "source": [
    "# Reproducibility\n",
    "SEED = 42\n",
    "random.seed(SEED); np.random.seed(SEED); torch.manual_seed(SEED); torch.cuda.manual_seed_all(SEED)\n",
    "\n",
    "device = torch.device(\"cuda\" if torch.cuda.is_available() else \"cpu\")\n",
    "print(\"Device:\", device)"
   ]
  },
  {
   "cell_type": "markdown",
   "metadata": {
    "id": "Y3Ms592zEpdg"
   },
   "source": [
    "2. Connect Google Drive"
   ]
  },
  {
   "cell_type": "code",
   "execution_count": 5,
   "metadata": {
    "colab": {
     "base_uri": "https://localhost:8080/"
    },
    "executionInfo": {
     "elapsed": 48347,
     "status": "ok",
     "timestamp": 1755581247656,
     "user": {
      "displayName": "Ming Yao",
      "userId": "03424197381855114564"
     },
     "user_tz": -480
    },
    "id": "f_IQoGAGYX4d",
    "outputId": "5c3b0954-d041-441b-c20e-c2b5c9bc9cbb"
   },
   "outputs": [
    {
     "name": "stdout",
     "output_type": "stream",
     "text": [
      "Mounted at /content/drive\n"
     ]
    }
   ],
   "source": [
    "from google.colab import drive\n",
    "drive.mount('/content/drive')\n",
    "\n",
    "file_path = \"/content/drive/My Drive/Colab Notebooks/DLI Assignment/fake_job_postings.csv\"\n",
    "df = pd.read_csv(file_path)"
   ]
  },
  {
   "cell_type": "markdown",
   "metadata": {
    "id": "ypYFgZWdEzFC"
   },
   "source": [
    "3. Build a stronger text field"
   ]
  },
  {
   "cell_type": "code",
   "execution_count": 6,
   "metadata": {
    "executionInfo": {
     "elapsed": 650,
     "status": "ok",
     "timestamp": 1755581391356,
     "user": {
      "displayName": "Ming Yao",
      "userId": "03424197381855114564"
     },
     "user_tz": -480
    },
    "id": "A7Ea0zY_YZMq"
   },
   "outputs": [],
   "source": [
    "text_cols = [c for c in [\n",
    "    'title', 'company_profile', 'description', 'requirements', 'benefits'\n",
    "] if c in df.columns]\n",
    "\n",
    "assert len(text_cols) > 0, \"No text columns found. Expect at least 'description'.\"\n",
    "\n",
    "def join_text(row):\n",
    "    parts = []\n",
    "    for c in text_cols:\n",
    "        val = str(row.get(c, \"\"))\n",
    "        if val and val.lower() != \"nan\":\n",
    "            parts.append(val)\n",
    "    return \" \".join(parts)\n",
    "\n",
    "df['__text__'] = df.apply(join_text, axis=1).astype(str)"
   ]
  },
  {
   "cell_type": "code",
   "execution_count": 7,
   "metadata": {
    "executionInfo": {
     "elapsed": 2474,
     "status": "ok",
     "timestamp": 1755581398134,
     "user": {
      "displayName": "Ming Yao",
      "userId": "03424197381855114564"
     },
     "user_tz": -480
    },
    "id": "I-ULXxD9Yb2G"
   },
   "outputs": [],
   "source": [
    "# Clean minimal noise (optional but safe)\n",
    "def basic_clean(s: str) -> str:\n",
    "    s = re.sub(r'\\s+', ' ', s)\n",
    "    s = s.strip()\n",
    "    return s\n",
    "\n",
    "df['__text__'] = df['__text__'].apply(basic_clean)"
   ]
  },
  {
   "cell_type": "code",
   "execution_count": 8,
   "metadata": {
    "executionInfo": {
     "elapsed": 27,
     "status": "ok",
     "timestamp": 1755581398174,
     "user": {
      "displayName": "Ming Yao",
      "userId": "03424197381855114564"
     },
     "user_tz": -480
    },
    "id": "ypdkTMk3YeHr"
   },
   "outputs": [],
   "source": [
    "# Labels\n",
    "if 'fraudulent' not in df.columns:\n",
    "    raise ValueError(\"CSV must contain a 'fraudulent' column with 0/1 labels.\")\n",
    "labels = df['fraudulent'].astype(int).tolist()\n",
    "texts  = df['__text__'].astype(str).tolist()"
   ]
  },
  {
   "cell_type": "code",
   "execution_count": 9,
   "metadata": {
    "executionInfo": {
     "elapsed": 1,
     "status": "ok",
     "timestamp": 1755581398177,
     "user": {
      "displayName": "Ming Yao",
      "userId": "03424197381855114564"
     },
     "user_tz": -480
    },
    "id": "FokiveWqYgCj"
   },
   "outputs": [],
   "source": [
    "# Sanity check\n",
    "assert len(texts) == len(labels), f\"Texts ({len(texts)}) and labels ({len(labels)}) must match.\""
   ]
  },
  {
   "cell_type": "markdown",
   "metadata": {
    "id": "_rAn0eyBE3Ej"
   },
   "source": [
    "4. Train-test split"
   ]
  },
  {
   "cell_type": "code",
   "execution_count": 10,
   "metadata": {
    "colab": {
     "base_uri": "https://localhost:8080/"
    },
    "executionInfo": {
     "elapsed": 93,
     "status": "ok",
     "timestamp": 1755581399449,
     "user": {
      "displayName": "Ming Yao",
      "userId": "03424197381855114564"
     },
     "user_tz": -480
    },
    "id": "lBnEUPnaYnSV",
    "outputId": "491cb19f-6747-4f64-d7c8-09c428e3f9ff"
   },
   "outputs": [
    {
     "name": "stdout",
     "output_type": "stream",
     "text": [
      "Train size: 14304 | Val size: 3576\n",
      "Val class counts: {0: 3403, 1: 173}\n"
     ]
    }
   ],
   "source": [
    "train_texts, val_texts, train_labels, val_labels = train_test_split(\n",
    "    texts, labels, test_size=0.2, random_state=SEED, stratify=labels\n",
    ")\n",
    "\n",
    "print(f\"Train size: {len(train_texts)} | Val size: {len(val_texts)}\")\n",
    "print(\"Val class counts:\", {k:int(v) for k,v in pd.Series(val_labels).value_counts().sort_index().items()})"
   ]
  },
  {
   "cell_type": "markdown",
   "metadata": {
    "id": "lfTgNZEUE_6W"
   },
   "source": [
    "5. Tokenizer and Dataset"
   ]
  },
  {
   "cell_type": "code",
   "execution_count": 11,
   "metadata": {
    "colab": {
     "base_uri": "https://localhost:8080/",
     "height": 249,
     "referenced_widgets": [
      "676c61883ca04330b7d66d9020e1f060",
      "0724ee2fecd845ae94cd363f3aa995c5",
      "26c6a1d87dfa439482ce5e650d2237b3",
      "26ecb8d24ecb4af9998e8b94503e3571",
      "bc64ff3666534d76b57f075ab613a58d",
      "f5d1040b40464a72b936f0ff0628093f",
      "00ba9798119e404c9561f8c28f683b9f",
      "be8f642f79b24e8d8cb2bb8286f943f3",
      "2e2ed627a12443bbaeab9f7c52b664d6",
      "5c5472bdbaa94113baf01d9ea6951849",
      "0c6e5698bbae4f8cb0632159401a7a18",
      "edc0895379a048afa7e1dc2316646910",
      "e87ab501a0314cf8a6da5ddd53d5ff7c",
      "6ef5ce2d82b34d299929e07844d56a50",
      "ab3c9022bfa54bc3ad929895e3fab122",
      "e69b2ae22a7f401181c499bf525cf6c1",
      "cc924ade86a54471b8f6a47eec24c53a",
      "dfa97c951fc748de81d48cc27b1d5742",
      "ce3a4e84155e413cb873cb78ea5f7f71",
      "98096c37ba73440596db4b0088e86372",
      "0cab531996b5408baf563da41c19ab0b",
      "2a8d338577444608b407e22668dd2202",
      "d5a89197d8484ddb927d916dbb13c8fe",
      "92ccd0f306ab4d528f79c5bdac92dc35",
      "cf13fbb4c95640119123e7a41c679a03",
      "a5f638ae8a9a4c37a8631506c21b4889",
      "4f36667b6bbf4f7db63267bf60a921da",
      "017533cccbb04ce8bced1c3e40747bf6",
      "f79d3efd338043f4b751bd97186ca212",
      "836d77936841425eb8abbef00a3f09d9",
      "7dba5a4888364bf58d97ddd75aa267c8",
      "3b42f86cebcc41ab9f9e32ee5469a5d1",
      "3ae2ae0990964657b0b657a3fb17548c",
      "dad7b6d10f604beb96f0e3a1bb4ccf03",
      "e76894c87c1040ea8d8482293f9c2b95",
      "961f640a8d094cc7ab85aa5c76559e96",
      "231f0207b0ba4efd89f300a79ef268e2",
      "53b84ec47dfa40818c1b80f04bada95f",
      "e1270d07e5f246f397776f20bab9aa4f",
      "6ad133ebc56140dcbd0988c21b0d7a09",
      "2d55f1a6f9544f109f03f5c258848ff5",
      "8567f0f68b9b42a894fb95546b5932ac",
      "fa77283a920d4c5c97711451110d902c",
      "26b7244844004b629e8ee365f7772a30"
     ]
    },
    "executionInfo": {
     "elapsed": 3021,
     "status": "ok",
     "timestamp": 1755581403848,
     "user": {
      "displayName": "Ming Yao",
      "userId": "03424197381855114564"
     },
     "user_tz": -480
    },
    "id": "peJUj-TFYpeW",
    "outputId": "f717cc12-a8ba-4239-8e9e-00089e674e33"
   },
   "outputs": [
    {
     "name": "stderr",
     "output_type": "stream",
     "text": [
      "/usr/local/lib/python3.11/dist-packages/huggingface_hub/utils/_auth.py:94: UserWarning: \n",
      "The secret `HF_TOKEN` does not exist in your Colab secrets.\n",
      "To authenticate with the Hugging Face Hub, create a token in your settings tab (https://huggingface.co/settings/tokens), set it as secret in your Google Colab and restart your session.\n",
      "You will be able to reuse this secret in all of your notebooks.\n",
      "Please note that authentication is recommended but still optional to access public models or datasets.\n",
      "  warnings.warn(\n"
     ]
    },
    {
     "data": {
      "application/vnd.jupyter.widget-view+json": {
       "model_id": "676c61883ca04330b7d66d9020e1f060",
       "version_major": 2,
       "version_minor": 0
      },
      "text/plain": [
       "tokenizer_config.json:   0%|          | 0.00/48.0 [00:00<?, ?B/s]"
      ]
     },
     "metadata": {},
     "output_type": "display_data"
    },
    {
     "data": {
      "application/vnd.jupyter.widget-view+json": {
       "model_id": "edc0895379a048afa7e1dc2316646910",
       "version_major": 2,
       "version_minor": 0
      },
      "text/plain": [
       "vocab.txt:   0%|          | 0.00/232k [00:00<?, ?B/s]"
      ]
     },
     "metadata": {},
     "output_type": "display_data"
    },
    {
     "data": {
      "application/vnd.jupyter.widget-view+json": {
       "model_id": "d5a89197d8484ddb927d916dbb13c8fe",
       "version_major": 2,
       "version_minor": 0
      },
      "text/plain": [
       "tokenizer.json:   0%|          | 0.00/466k [00:00<?, ?B/s]"
      ]
     },
     "metadata": {},
     "output_type": "display_data"
    },
    {
     "data": {
      "application/vnd.jupyter.widget-view+json": {
       "model_id": "dad7b6d10f604beb96f0e3a1bb4ccf03",
       "version_major": 2,
       "version_minor": 0
      },
      "text/plain": [
       "config.json:   0%|          | 0.00/483 [00:00<?, ?B/s]"
      ]
     },
     "metadata": {},
     "output_type": "display_data"
    }
   ],
   "source": [
    "tokenizer = DistilBertTokenizerFast.from_pretrained(\"distilbert-base-uncased\")\n",
    "MAX_LEN = 128\n",
    "\n",
    "class JobDataset(Dataset):\n",
    "    def __init__(self, texts, labels, tokenizer, max_length=128):\n",
    "        self.texts = texts\n",
    "        self.labels = labels\n",
    "        self.tok = tokenizer\n",
    "        self.max_length = max_length\n",
    "    def __len__(self): return len(self.texts)\n",
    "    def __getitem__(self, idx):\n",
    "        enc = self.tok(\n",
    "            self.texts[idx],\n",
    "            truncation=True,\n",
    "            max_length=self.max_length,\n",
    "            return_tensors=\"pt\"\n",
    "        )\n",
    "        item = {k: v.squeeze(0) for k, v in enc.items()}\n",
    "        item[\"labels\"] = torch.tensor(self.labels[idx], dtype=torch.long)\n",
    "        return item\n",
    "\n",
    "train_dataset = JobDataset(train_texts, train_labels, tokenizer, MAX_LEN)\n",
    "val_dataset   = JobDataset(val_texts,   val_labels,   tokenizer, MAX_LEN)"
   ]
  },
  {
   "cell_type": "code",
   "execution_count": 12,
   "metadata": {
    "executionInfo": {
     "elapsed": 18,
     "status": "ok",
     "timestamp": 1755581405080,
     "user": {
      "displayName": "Ming Yao",
      "userId": "03424197381855114564"
     },
     "user_tz": -480
    },
    "id": "rh9ArTijYtnx"
   },
   "outputs": [],
   "source": [
    "# Dynamic padding => faster than padding everything to MAX_LEN\n",
    "collator = DataCollatorWithPadding(tokenizer=tokenizer, return_tensors=\"pt\")"
   ]
  },
  {
   "cell_type": "markdown",
   "metadata": {
    "id": "YSjIPBt5FOdH"
   },
   "source": [
    "6. DataLoaders"
   ]
  },
  {
   "cell_type": "code",
   "execution_count": 13,
   "metadata": {
    "executionInfo": {
     "elapsed": 38,
     "status": "ok",
     "timestamp": 1755581406109,
     "user": {
      "displayName": "Ming Yao",
      "userId": "03424197381855114564"
     },
     "user_tz": -480
    },
    "id": "qAdWGaLhYvWs"
   },
   "outputs": [],
   "source": [
    "BATCH_SIZE = 32\n",
    "NUM_WORKERS = 2  # 2-4 is usually stable on Colab\n",
    "train_loader = DataLoader(train_dataset, batch_size=BATCH_SIZE, shuffle=True,\n",
    "                          num_workers=NUM_WORKERS, pin_memory=True, collate_fn=collator)\n",
    "val_loader   = DataLoader(val_dataset,   batch_size=BATCH_SIZE, shuffle=False,\n",
    "                          num_workers=NUM_WORKERS, pin_memory=True, collate_fn=collator)"
   ]
  },
  {
   "cell_type": "markdown",
   "metadata": {
    "id": "uNtqkpsTFN4N"
   },
   "source": [
    "7. Model, Optimizer and Scheduler"
   ]
  },
  {
   "cell_type": "code",
   "execution_count": 14,
   "metadata": {
    "colab": {
     "base_uri": "https://localhost:8080/",
     "height": 104,
     "referenced_widgets": [
      "f89a39cdd5c74651ba7104289e00507e",
      "890bccef77334742ad37acaeafe5142b",
      "0ca9eaaff94a4c06a66d00546167f9fc",
      "4c4d5e07b6654a709cc1ebb05f5a7537",
      "afcced65c11d4a259ecd34b872a711c0",
      "38b0581bb98343cdaf7577a6e67bf5ba",
      "ca070908f882427aa93da0f32a5dd7c3",
      "e332bab83c8f479c8af08e95a04867fb",
      "e42dd21bcd474122bf83f675b6d57ad8",
      "ca1912ac57704677b7e79cc9c2e47518",
      "172386c2add549159a0cdf8a03b4f3d8"
     ]
    },
    "executionInfo": {
     "elapsed": 5881,
     "status": "ok",
     "timestamp": 1755581413879,
     "user": {
      "displayName": "Ming Yao",
      "userId": "03424197381855114564"
     },
     "user_tz": -480
    },
    "id": "cOQjahL1YyRz",
    "outputId": "b696e27a-0d7a-4b1e-85c1-47c39720db7c"
   },
   "outputs": [
    {
     "data": {
      "application/vnd.jupyter.widget-view+json": {
       "model_id": "f89a39cdd5c74651ba7104289e00507e",
       "version_major": 2,
       "version_minor": 0
      },
      "text/plain": [
       "model.safetensors:   0%|          | 0.00/268M [00:00<?, ?B/s]"
      ]
     },
     "metadata": {},
     "output_type": "display_data"
    },
    {
     "name": "stderr",
     "output_type": "stream",
     "text": [
      "Some weights of DistilBertForSequenceClassification were not initialized from the model checkpoint at distilbert-base-uncased and are newly initialized: ['classifier.bias', 'classifier.weight', 'pre_classifier.bias', 'pre_classifier.weight']\n",
      "You should probably TRAIN this model on a down-stream task to be able to use it for predictions and inference.\n"
     ]
    }
   ],
   "source": [
    "model = DistilBertForSequenceClassification.from_pretrained(\n",
    "    \"distilbert-base-uncased\", num_labels=2\n",
    ").to(device)\n",
    "\n",
    "LR = 5e-5\n",
    "WEIGHT_DECAY = 0.01\n",
    "EPOCHS = 4\n",
    "ACCUM_STEPS = 2\n",
    "TOTAL_STEPS = math.ceil(len(train_loader) / ACCUM_STEPS) * EPOCHS\n",
    "WARMUP_STEPS = int(0.1 * TOTAL_STEPS)  # 10% warmup\n",
    "\n",
    "optimizer = AdamW(model.parameters(), lr=LR, weight_decay=WEIGHT_DECAY)\n",
    "scheduler = get_scheduler(\n",
    "    name=\"cosine\",\n",
    "    optimizer=optimizer,\n",
    "    num_warmup_steps=WARMUP_STEPS,\n",
    "    num_training_steps=TOTAL_STEPS\n",
    ")"
   ]
  },
  {
   "cell_type": "markdown",
   "metadata": {
    "id": "UDh1aH8tHB8d"
   },
   "source": [
    "8. Focal Loss"
   ]
  },
  {
   "cell_type": "code",
   "execution_count": 15,
   "metadata": {
    "executionInfo": {
     "elapsed": 14,
     "status": "ok",
     "timestamp": 1755581413895,
     "user": {
      "displayName": "Ming Yao",
      "userId": "03424197381855114564"
     },
     "user_tz": -480
    },
    "id": "WH_CpmkCYzyd"
   },
   "outputs": [],
   "source": [
    "class FocalLoss(torch.nn.Module):\n",
    "    def __init__(self, alpha=None, gamma=2.5, reduction=\"mean\"):\n",
    "        super().__init__()\n",
    "        self.alpha = alpha  # tensor of size [num_classes] or None\n",
    "        self.gamma = gamma\n",
    "        self.reduction = reduction\n",
    "    def forward(self, logits, targets):\n",
    "        # CE per-sample\n",
    "        ce = torch.nn.functional.cross_entropy(logits, targets, reduction=\"none\", weight=self.alpha)\n",
    "        pt = torch.exp(-ce)        # pt = softmax prob for the target class\n",
    "        loss = ((1 - pt) ** self.gamma) * ce\n",
    "        if self.reduction == \"mean\": return loss.mean()\n",
    "        if self.reduction == \"sum\":  return loss.sum()\n",
    "        return loss"
   ]
  },
  {
   "cell_type": "code",
   "execution_count": 16,
   "metadata": {
    "colab": {
     "base_uri": "https://localhost:8080/"
    },
    "executionInfo": {
     "elapsed": 51,
     "status": "ok",
     "timestamp": 1755581413947,
     "user": {
      "displayName": "Ming Yao",
      "userId": "03424197381855114564"
     },
     "user_tz": -480
    },
    "id": "IiQXEkNtY1AZ",
    "outputId": "77279f2b-6cf9-47b8-87ee-1def65ce2d67"
   },
   "outputs": [
    {
     "name": "stderr",
     "output_type": "stream",
     "text": [
      "/tmp/ipython-input-3071058314.py:9: FutureWarning: `torch.cuda.amp.GradScaler(args...)` is deprecated. Please use `torch.amp.GradScaler('cuda', args...)` instead.\n",
      "  scaler = GradScaler()\n"
     ]
    }
   ],
   "source": [
    "# class-balanced weights: alpha_c = N / (K * n_c)\n",
    "train_counts = pd.Series(train_labels).value_counts().sort_index()  # index 0,1\n",
    "num_classes = len(train_counts)\n",
    "N = len(train_labels)\n",
    "alpha = torch.tensor([N / (num_classes * train_counts.get(i, 1)) for i in range(num_classes)],\n",
    "                     dtype=torch.float, device=device)\n",
    "\n",
    "loss_fn = FocalLoss(alpha=alpha, gamma=2.5)  # try 2.0–3.0 if you want to tinker\n",
    "scaler = GradScaler()"
   ]
  },
  {
   "cell_type": "markdown",
   "metadata": {
    "id": "a5QZ-Tv4HFr6"
   },
   "source": [
    "9. Utilities"
   ]
  },
  {
   "cell_type": "code",
   "execution_count": 17,
   "metadata": {
    "executionInfo": {
     "elapsed": 16,
     "status": "ok",
     "timestamp": 1755581413964,
     "user": {
      "displayName": "Ming Yao",
      "userId": "03424197381855114564"
     },
     "user_tz": -480
    },
    "id": "ifvETmtzY4CO"
   },
   "outputs": [],
   "source": [
    "def evaluate(model, loader, threshold=0.5):\n",
    "    model.eval()\n",
    "    total_loss = 0.0\n",
    "    all_probs = []\n",
    "    all_labels = []\n",
    "    with torch.no_grad():\n",
    "        for batch in loader:\n",
    "            for k in [\"input_ids\", \"attention_mask\", \"labels\"]:\n",
    "                batch[k] = batch[k].to(device)\n",
    "            outputs = model(input_ids=batch[\"input_ids\"], attention_mask=batch[\"attention_mask\"])\n",
    "            loss = loss_fn(outputs.logits, batch[\"labels\"])\n",
    "            total_loss += loss.item()\n",
    "            probs = torch.softmax(outputs.logits, dim=1)[:, 1].detach().cpu().numpy()\n",
    "            all_probs.extend(probs)\n",
    "            all_labels.extend(batch[\"labels\"].detach().cpu().numpy())\n",
    "    avg_loss = total_loss / len(loader)\n",
    "\n",
    "    # Apply threshold to get predictions\n",
    "    preds = (np.array(all_probs) > threshold).astype(int)\n",
    "    acc  = accuracy_score(all_labels, preds)\n",
    "    prec = precision_score(all_labels, preds, average=\"macro\", zero_division=0)\n",
    "    rec  = recall_score(all_labels, preds, average=\"macro\", zero_division=0)\n",
    "    f1   = f1_score(all_labels, preds, average=\"macro\", zero_division=0)\n",
    "\n",
    "    report = classification_report(all_labels, preds, digits=4, zero_division=0)\n",
    "    # Grab minority-class (1) F1 for early stopping criterion\n",
    "    f1_fraud = f1_score(all_labels, preds, pos_label=1, average=\"binary\", zero_division=0)\n",
    "    return {\n",
    "        \"loss\": avg_loss, \"acc\": acc, \"prec\": prec, \"rec\": rec, \"f1_macro\": f1,\n",
    "        \"report\": report, \"probs\": np.array(all_probs), \"labels\": np.array(all_labels),\n",
    "        \"f1_fraud\": f1_fraud\n",
    "    }\n",
    "\n",
    "def best_threshold_for_f1(labels, probs):\n",
    "    # Search thresholds between 0.2 and 0.8 to avoid extremes; step=0.01\n",
    "    ts = np.linspace(0.2, 0.8, 61)\n",
    "    best_t, best_f1 = 0.5, -1.0\n",
    "    for t in ts:\n",
    "        preds = (probs > t).astype(int)\n",
    "        f1 = f1_score(labels, preds, pos_label=1, average=\"binary\", zero_division=0)\n",
    "        if f1 > best_f1:\n",
    "            best_f1, best_t = f1, t\n",
    "    return best_t, best_f1"
   ]
  },
  {
   "cell_type": "markdown",
   "metadata": {
    "id": "s4DE-li6HKBg"
   },
   "source": [
    "10. Training Loop and Validation"
   ]
  },
  {
   "cell_type": "code",
   "execution_count": 18,
   "metadata": {
    "colab": {
     "base_uri": "https://localhost:8080/"
    },
    "executionInfo": {
     "elapsed": 307922,
     "status": "ok",
     "timestamp": 1755581721888,
     "user": {
      "displayName": "Ming Yao",
      "userId": "03424197381855114564"
     },
     "user_tz": -480
    },
    "id": "AI3TqQfCY6E1",
    "outputId": "949e1c63-0b35-4381-b8f5-737dde7fef75"
   },
   "outputs": [
    {
     "name": "stderr",
     "output_type": "stream",
     "text": [
      "\rEpoch 1/4:   0%|          | 0/447 [00:00<?, ?it/s]/tmp/ipython-input-210023940.py:16: FutureWarning: `torch.cuda.amp.autocast(args...)` is deprecated. Please use `torch.amp.autocast('cuda', args...)` instead.\n",
      "  with autocast():\n",
      "Epoch 1/4: 100%|██████████| 447/447 [01:02<00:00,  7.17it/s, loss=0.1428]\n"
     ]
    },
    {
     "name": "stdout",
     "output_type": "stream",
     "text": [
      "\n",
      "======================================================================\n",
      "Epoch 1 finished.\n",
      "Train Loss: 0.1428\n",
      "Val Loss (t=0.50): 0.0667 | F1 Fraud (0.50): 0.4450\n",
      "Best threshold found: 0.79 | F1 Fraud (best t): 0.8034\n",
      "Val Acc: 0.9804 | Macro Precision: 0.8863 | Macro Recall: 0.9074 | Macro F1: 0.8965\n",
      "Classification report @ best threshold:\n",
      "\n",
      "              precision    recall  f1-score   support\n",
      "\n",
      "           0     0.9912    0.9882    0.9897      3403\n",
      "           1     0.7814    0.8266    0.8034       173\n",
      "\n",
      "    accuracy                         0.9804      3576\n",
      "   macro avg     0.8863    0.9074    0.8965      3576\n",
      "weighted avg     0.9810    0.9804    0.9807      3576\n",
      "\n",
      "======================================================================\n",
      "\n",
      "✅ New best model saved (Fraud F1=0.8034, t=0.79) -> /content/best_distilbert.pt\n",
      "\n"
     ]
    },
    {
     "name": "stderr",
     "output_type": "stream",
     "text": [
      "\rEpoch 2/4:   0%|          | 0/447 [00:00<?, ?it/s]/tmp/ipython-input-210023940.py:16: FutureWarning: `torch.cuda.amp.autocast(args...)` is deprecated. Please use `torch.amp.autocast('cuda', args...)` instead.\n",
      "  with autocast():\n",
      "Epoch 2/4: 100%|██████████| 447/447 [00:45<00:00,  9.86it/s, loss=0.0522]\n"
     ]
    },
    {
     "name": "stdout",
     "output_type": "stream",
     "text": [
      "\n",
      "======================================================================\n",
      "Epoch 2 finished.\n",
      "Train Loss: 0.0522\n",
      "Val Loss (t=0.50): 0.0740 | F1 Fraud (0.50): 0.7859\n",
      "Best threshold found: 0.73 | F1 Fraud (best t): 0.8850\n",
      "Val Acc: 0.9891 | Macro Precision: 0.9484 | Macro Recall: 0.9312 | Macro F1: 0.9396\n",
      "Classification report @ best threshold:\n",
      "\n",
      "              precision    recall  f1-score   support\n",
      "\n",
      "           0     0.9933    0.9953    0.9943      3403\n",
      "           1     0.9036    0.8671    0.8850       173\n",
      "\n",
      "    accuracy                         0.9891      3576\n",
      "   macro avg     0.9484    0.9312    0.9396      3576\n",
      "weighted avg     0.9889    0.9891    0.9890      3576\n",
      "\n",
      "======================================================================\n",
      "\n",
      "✅ New best model saved (Fraud F1=0.8850, t=0.73) -> /content/best_distilbert.pt\n",
      "\n"
     ]
    },
    {
     "name": "stderr",
     "output_type": "stream",
     "text": [
      "\rEpoch 3/4:   0%|          | 0/447 [00:00<?, ?it/s]/tmp/ipython-input-210023940.py:16: FutureWarning: `torch.cuda.amp.autocast(args...)` is deprecated. Please use `torch.amp.autocast('cuda', args...)` instead.\n",
      "  with autocast():\n",
      "Epoch 3/4: 100%|██████████| 447/447 [00:46<00:00,  9.56it/s, loss=0.0148]\n"
     ]
    },
    {
     "name": "stdout",
     "output_type": "stream",
     "text": [
      "\n",
      "======================================================================\n",
      "Epoch 3 finished.\n",
      "Train Loss: 0.0148\n",
      "Val Loss (t=0.50): 0.0994 | F1 Fraud (0.50): 0.8547\n",
      "Best threshold found: 0.70 | F1 Fraud (best t): 0.8909\n",
      "Val Acc: 0.9897 | Macro Precision: 0.9516 | Macro Recall: 0.9342 | Macro F1: 0.9427\n",
      "Classification report @ best threshold:\n",
      "\n",
      "              precision    recall  f1-score   support\n",
      "\n",
      "           0     0.9935    0.9956    0.9946      3403\n",
      "           1     0.9096    0.8728    0.8909       173\n",
      "\n",
      "    accuracy                         0.9897      3576\n",
      "   macro avg     0.9516    0.9342    0.9427      3576\n",
      "weighted avg     0.9895    0.9897    0.9896      3576\n",
      "\n",
      "======================================================================\n",
      "\n",
      "✅ New best model saved (Fraud F1=0.8909, t=0.70) -> /content/best_distilbert.pt\n",
      "\n"
     ]
    },
    {
     "name": "stderr",
     "output_type": "stream",
     "text": [
      "\rEpoch 4/4:   0%|          | 0/447 [00:00<?, ?it/s]/tmp/ipython-input-210023940.py:16: FutureWarning: `torch.cuda.amp.autocast(args...)` is deprecated. Please use `torch.amp.autocast('cuda', args...)` instead.\n",
      "  with autocast():\n",
      "Epoch 4/4: 100%|██████████| 447/447 [00:46<00:00,  9.69it/s, loss=0.0034]\n"
     ]
    },
    {
     "name": "stdout",
     "output_type": "stream",
     "text": [
      "\n",
      "======================================================================\n",
      "Epoch 4 finished.\n",
      "Train Loss: 0.0034\n",
      "Val Loss (t=0.50): 0.0879 | F1 Fraud (0.50): 0.8276\n",
      "Best threshold found: 0.79 | F1 Fraud (best t): 0.8974\n",
      "Val Acc: 0.9902 | Macro Precision: 0.9524 | Macro Recall: 0.9400 | Macro F1: 0.9461\n",
      "Classification report @ best threshold:\n",
      "\n",
      "              precision    recall  f1-score   support\n",
      "\n",
      "           0     0.9941    0.9956    0.9949      3403\n",
      "           1     0.9107    0.8844    0.8974       173\n",
      "\n",
      "    accuracy                         0.9902      3576\n",
      "   macro avg     0.9524    0.9400    0.9461      3576\n",
      "weighted avg     0.9901    0.9902    0.9901      3576\n",
      "\n",
      "======================================================================\n",
      "\n",
      "✅ New best model saved (Fraud F1=0.8974, t=0.79) -> /content/best_distilbert.pt\n",
      "\n",
      "Best Fraudulent F1 achieved: 0.8974\n"
     ]
    }
   ],
   "source": [
    "BEST_PATH = \"/content/best_distilbert.pt\"\n",
    "best_f1_fraud = -1.0\n",
    "epochs_no_improve = 0\n",
    "PATIENCE = 2  # stop if no improvement in minority F1 for 2 consecutive epochs\n",
    "CLIP_NORM = 1.0\n",
    "\n",
    "for epoch in range(1, EPOCHS + 1):\n",
    "    model.train()\n",
    "    optimizer.zero_grad()\n",
    "    running_loss = 0.0\n",
    "    pbar = tqdm(enumerate(train_loader), total=len(train_loader), desc=f\"Epoch {epoch}/{EPOCHS}\")\n",
    "    for step, batch in pbar:\n",
    "        for k in [\"input_ids\", \"attention_mask\", \"labels\"]:\n",
    "            batch[k] = batch[k].to(device)\n",
    "\n",
    "        with autocast():\n",
    "            outputs = model(input_ids=batch[\"input_ids\"], attention_mask=batch[\"attention_mask\"])\n",
    "            loss = loss_fn(outputs.logits, batch[\"labels\"]) / ACCUM_STEPS\n",
    "\n",
    "        scaler.scale(loss).backward()\n",
    "\n",
    "        if (step + 1) % ACCUM_STEPS == 0:\n",
    "            # Grad clipping for stability\n",
    "            scaler.unscale_(optimizer)\n",
    "            torch.nn.utils.clip_grad_norm_(model.parameters(), CLIP_NORM)\n",
    "\n",
    "            scaler.step(optimizer)\n",
    "            scaler.update()\n",
    "            optimizer.zero_grad()\n",
    "            scheduler.step()\n",
    "\n",
    "        running_loss += loss.item() * ACCUM_STEPS\n",
    "        pbar.set_postfix(loss=f\"{running_loss/(step+1):.4f}\")\n",
    "\n",
    "    train_loss = running_loss / len(train_loader)\n",
    "\n",
    "    # ===== Validation with dynamic threshold =====\n",
    "    with torch.no_grad():\n",
    "        raw_eval = evaluate(model, val_loader, threshold=0.5)\n",
    "        # Find best threshold for minority F1 on this epoch\n",
    "        t_best, f1_best = best_threshold_for_f1(raw_eval[\"labels\"], raw_eval[\"probs\"])\n",
    "        tuned_eval = evaluate(model, val_loader, threshold=t_best)\n",
    "\n",
    "    print(\"\\n\" + \"=\"*70)\n",
    "    print(f\"Epoch {epoch} finished.\")\n",
    "    print(f\"Train Loss: {train_loss:.4f}\")\n",
    "    print(f\"Val Loss (t=0.50): {raw_eval['loss']:.4f} | F1 Fraud (0.50): {raw_eval['f1_fraud']:.4f}\")\n",
    "    print(f\"Best threshold found: {t_best:.2f} | F1 Fraud (best t): {tuned_eval['f1_fraud']:.4f}\")\n",
    "    print(f\"Val Acc: {tuned_eval['acc']:.4f} | Macro Precision: {tuned_eval['prec']:.4f} | Macro Recall: {tuned_eval['rec']:.4f} | Macro F1: {tuned_eval['f1_macro']:.4f}\")\n",
    "    print(\"Classification report @ best threshold:\\n\")\n",
    "    print(tuned_eval[\"report\"])\n",
    "    print(\"=\"*70 + \"\\n\")\n",
    "\n",
    "    # Early stopping on Fraudulent F1\n",
    "    if tuned_eval[\"f1_fraud\"] > best_f1_fraud:\n",
    "        best_f1_fraud = tuned_eval[\"f1_fraud\"]\n",
    "        epochs_no_improve = 0\n",
    "        torch.save({\"model_state\": model.state_dict(),\n",
    "                    \"threshold\": t_best,\n",
    "                    \"tokenizer\": tokenizer.name_or_path}, BEST_PATH)\n",
    "        print(f\"✅ New best model saved (Fraud F1={best_f1_fraud:.4f}, t={t_best:.2f}) -> {BEST_PATH}\\n\")\n",
    "    else:\n",
    "        epochs_no_improve += 1\n",
    "        print(f\"No improvement in Fraud F1 for {epochs_no_improve} epoch(s).\\n\")\n",
    "        if epochs_no_improve >= PATIENCE:\n",
    "            print(\"⏹ Early stopping triggered.\")\n",
    "            break\n",
    "\n",
    "print(f\"Best Fraudulent F1 achieved: {best_f1_fraud:.4f}\")"
   ]
  },
  {
   "cell_type": "code",
   "execution_count": 19,
   "metadata": {
    "colab": {
     "base_uri": "https://localhost:8080/"
    },
    "executionInfo": {
     "elapsed": 669,
     "status": "ok",
     "timestamp": 1755581722555,
     "user": {
      "displayName": "Ming Yao",
      "userId": "03424197381855114564"
     },
     "user_tz": -480
    },
    "id": "dvp_3voNx06y",
    "outputId": "cb327f90-d591-449e-ea2f-aad61ec959af"
   },
   "outputs": [
    {
     "name": "stdout",
     "output_type": "stream",
     "text": [
      "Loaded best model with threshold 0.79\n"
     ]
    }
   ],
   "source": [
    "import matplotlib.pyplot as plt\n",
    "import seaborn as sns\n",
    "from sklearn.metrics import confusion_matrix\n",
    "\n",
    "def plot_confusion_matrix(y_true, y_pred, labels=[\"Legit\", \"Fraud\"], title=\"Confusion Matrix\"):\n",
    "    cm = confusion_matrix(y_true, y_pred)\n",
    "    plt.figure(figsize=(6, 5))\n",
    "    sns.heatmap(cm, annot=True, fmt=\"d\", cmap=\"Blues\",\n",
    "                xticklabels=labels, yticklabels=labels)\n",
    "    plt.xlabel(\"Predicted\")\n",
    "    plt.ylabel(\"True\")\n",
    "    plt.title(title)\n",
    "    plt.show()\n",
    "\n",
    "checkpoint = torch.load(BEST_PATH, map_location=device, weights_only=False)\n",
    "model.load_state_dict(checkpoint[\"model_state\"])\n",
    "best_threshold = checkpoint[\"threshold\"]\n",
    "print(f\"Loaded best model with threshold {best_threshold:.2f}\")\n"
   ]
  },
  {
   "cell_type": "code",
   "execution_count": null,
   "metadata": {
    "colab": {
     "base_uri": "https://localhost:8080/",
     "height": 472
    },
    "executionInfo": {
     "elapsed": 12535,
     "status": "ok",
     "timestamp": 1755581735102,
     "user": {
      "displayName": "Ming Yao",
      "userId": "03424197381855114564"
     },
     "user_tz": -480
    },
    "id": "wbb_9bxj67Zh",
    "outputId": "5df9fed5-85a8-49a3-ce37-f86b6d13f0cb"
   },
   "outputs": [
    {
     "data": {
      "image/png": "[encoded data removed]",
      "text/plain": [
       "<Figure size 640x480 with 2 Axes>"
      ]
     },
     "metadata": {},
     "output_type": "display_data"
    }
   ],
   "source": [
    "# run eval with tuned threshold\n",
    "final_eval = evaluate(model, val_loader, threshold=best_threshold)\n",
    "\n",
    "from sklearn.metrics import ConfusionMatrixDisplay\n",
    "\n",
    "y_true = np.asarray(final_eval[\"labels\"]).astype(int)\n",
    "\n",
    "# use probs if present; otherwise fall back to preds returned by evaluate\n",
    "if \"probs\" in final_eval:\n",
    "    y_pred = (np.asarray(final_eval[\"probs\"]) >= best_threshold).astype(int)\n",
    "else:\n",
    "    y_pred = np.asarray(final_eval[\"preds\"]).astype(int)\n",
    "\n",
    "# counts\n",
    "cm = confusion_matrix(y_true, y_pred, labels=[0,1])\n",
    "disp = ConfusionMatrixDisplay(confusion_matrix=cm, display_labels=[\"Legit\",\"Fraud\"])\n",
    "disp.plot(values_format=\"d\")\n",
    "plt.title(f\"Confusion Matrix (Counts) @ t={best_threshold:.2f}\")\n",
    "plt.show()\n"
   ]
  },
  {
   "cell_type": "code",
   "execution_count": null,
   "metadata": {
    "colab": {
     "base_uri": "https://localhost:8080/",
     "height": 489
    },
    "executionInfo": {
     "elapsed": 369,
     "status": "ok",
     "timestamp": 1755581735484,
     "user": {
      "displayName": "Ming Yao",
      "userId": "03424197381855114564"
     },
     "user_tz": -480
    },
    "id": "a9wWUJ2KOEIn",
    "outputId": "0d0c0a8b-ec92-46c2-81ad-16dbb22e9654"
   },
   "outputs": [
    {
     "name": "stdout",
     "output_type": "stream",
     "text": [
      "AUROC: 0.9906\n"
     ]
    },
    {
     "data": {
      "image/png": "[encoded data removed]",
      "text/plain": [
       "<Figure size 640x480 with 1 Axes>"
      ]
     },
     "metadata": {},
     "output_type": "display_data"
    }
   ],
   "source": [
    "from sklearn.metrics import roc_auc_score, RocCurveDisplay\n",
    "\n",
    "if \"probs\" not in final_eval:\n",
    "    final_eval = evaluate(model, val_loader, threshold=0.5)  \n",
    "\n",
    "y_true = np.asarray(final_eval[\"labels\"]).astype(int)\n",
    "proba = np.asarray(final_eval[\"probs\"]).astype(float)      \n",
    "\n",
    "auroc = roc_auc_score(y_true, proba)\n",
    "print(f\"AUROC: {auroc:.4f}\")\n",
    "\n",
    "# Plot\n",
    "RocCurveDisplay.from_predictions(y_true, proba)\n",
    "plt.plot([0, 1], [0, 1], linestyle=\"--\")  # baseline\n",
    "plt.title(f\"ROC Curve (AUROC = {auroc:.4f})\")\n",
    "plt.xlabel(\"False Positive Rate\")\n",
    "plt.ylabel(\"True Positive Rate\")\n",
    "plt.show()"
   ]
  },
  {
   "cell_type": "code",
   "execution_count": 22,
   "metadata": {
    "colab": {
     "base_uri": "https://localhost:8080/"
    },
    "executionInfo": {
     "elapsed": 5348,
     "status": "ok",
     "timestamp": 1755581740834,
     "user": {
      "displayName": "Ming Yao",
      "userId": "03424197381855114564"
     },
     "user_tz": -480
    },
    "id": "pLw-o_Flp5R6",
    "outputId": "5bcf1fca-9b54-492b-f4d4-0ecb9785797b"
   },
   "outputs": [
    {
     "data": {
      "text/plain": [
       "('./model/tokenizer_config.json',\n",
       " './model/special_tokens_map.json',\n",
       " './model/vocab.txt',\n",
       " './model/added_tokens.json',\n",
       " './model/tokenizer.json')"
      ]
     },
     "execution_count": 22,
     "metadata": {},
     "output_type": "execute_result"
    }
   ],
   "source": [
    "model.save_pretrained(\"./model\")\n",
    "tokenizer.save_pretrained(\"./model\")"
   ]
  },
  {
   "cell_type": "code",
   "execution_count": null,
   "metadata": {
    "colab": {
     "base_uri": "https://localhost:8080/",
     "height": 802
    },
    "executionInfo": {
     "elapsed": 146011,
     "status": "ok",
     "timestamp": 1755582154447,
     "user": {
      "displayName": "Ming Yao",
      "userId": "03424197381855114564"
     },
     "user_tz": -480
    },
    "id": "FemGRADM14FQ",
    "outputId": "28620c58-78f1-4e62-81ad-d0103e11c650"
   },
   "outputs": [
    {
     "name": "stdout",
     "output_type": "stream",
     "text": [
      "\u001b[2K   \u001b[90m━━━━━━━━━━━━━━━━━━━━━━━━━━━━━━━━━━━━━━━━\u001b[0m \u001b[32m363.4/363.4 MB\u001b[0m \u001b[31m5.0 MB/s\u001b[0m eta \u001b[36m0:00:00\u001b[0m\n",
      "\u001b[2K   \u001b[90m━━━━━━━━━━━━━━━━━━━━━━━━━━━━━━━━━━━━━━━━\u001b[0m \u001b[32m13.8/13.8 MB\u001b[0m \u001b[31m87.7 MB/s\u001b[0m eta \u001b[36m0:00:00\u001b[0m\n",
      "\u001b[2K   \u001b[90m━━━━━━━━━━━━━━━━━━━━━━━━━━━━━━━━━━━━━━━━\u001b[0m \u001b[32m24.6/24.6 MB\u001b[0m \u001b[31m25.6 MB/s\u001b[0m eta \u001b[36m0:00:00\u001b[0m\n",
      "\u001b[2K   \u001b[90m━━━━━━━━━━━━━━━━━━━━━━━━━━━━━━━━━━━━━━━━\u001b[0m \u001b[32m883.7/883.7 kB\u001b[0m \u001b[31m62.9 MB/s\u001b[0m eta \u001b[36m0:00:00\u001b[0m\n",
      "\u001b[2K   \u001b[90m━━━━━━━━━━━━━━━━━━━━━━━━━━━━━━━━━━━━━━━━\u001b[0m \u001b[32m664.8/664.8 MB\u001b[0m \u001b[31m1.2 MB/s\u001b[0m eta \u001b[36m0:00:00\u001b[0m\n",
      "\u001b[2K   \u001b[90m━━━━━━━━━━━━━━━━━━━━━━━━━━━━━━━━━━━━━━━━\u001b[0m \u001b[32m211.5/211.5 MB\u001b[0m \u001b[31m6.1 MB/s\u001b[0m eta \u001b[36m0:00:00\u001b[0m\n",
      "\u001b[2K   \u001b[90m━━━━━━━━━━━━━━━━━━━━━━━━━━━━━━━━━━━━━━━━\u001b[0m \u001b[32m56.3/56.3 MB\u001b[0m \u001b[31m16.0 MB/s\u001b[0m eta \u001b[36m0:00:00\u001b[0m\n",
      "\u001b[2K   \u001b[90m━━━━━━━━━━━━━━━━━━━━━━━━━━━━━━━━━━━━━━━━\u001b[0m \u001b[32m127.9/127.9 MB\u001b[0m \u001b[31m9.6 MB/s\u001b[0m eta \u001b[36m0:00:00\u001b[0m\n",
      "\u001b[2K   \u001b[90m━━━━━━━━━━━━━━━━━━━━━━━━━━━━━━━━━━━━━━━━\u001b[0m \u001b[32m207.5/207.5 MB\u001b[0m \u001b[31m1.5 MB/s\u001b[0m eta \u001b[36m0:00:00\u001b[0m\n",
      "\u001b[2K   \u001b[90m━━━━━━━━━━━━━━━━━━━━━━━━━━━━━━━━━━━━━━━━\u001b[0m \u001b[32m188.7/188.7 MB\u001b[0m \u001b[31m7.1 MB/s\u001b[0m eta \u001b[36m0:00:00\u001b[0m\n",
      "\u001b[2K   \u001b[90m━━━━━━━━━━━━━━━━━━━━━━━━━━━━━━━━━━━━━━━━\u001b[0m \u001b[32m21.1/21.1 MB\u001b[0m \u001b[31m82.6 MB/s\u001b[0m eta \u001b[36m0:00:00\u001b[0m\n",
      "\u001b[?25hColab notebook detected. To show errors in colab notebook, set debug=True in launch()\n",
      "* Running on public URL: https://f467159f0bf1a2e378.gradio.live\n",
      "\n",
      "This share link expires in 1 week. For free permanent hosting and GPU upgrades, run `gradio deploy` from the terminal in the working directory to deploy to Hugging Face Spaces (https://huggingface.co/spaces)\n"
     ]
    },
    {
     "data": {
      "text/html": [
       "<div><iframe src=\"https://f467159f0bf1a2e378.gradio.live\" width=\"100%\" height=\"500\" allow=\"autoplay; camera; microphone; clipboard-read; clipboard-write;\" frameborder=\"0\" allowfullscreen></iframe></div>"
      ],
      "text/plain": [
       "<IPython.core.display.HTML object>"
      ]
     },
     "metadata": {},
     "output_type": "display_data"
    },
    {
     "data": {
      "text/plain": []
     },
     "execution_count": 23,
     "metadata": {},
     "output_type": "execute_result"
    }
   ],
   "source": [
    "!pip install transformers torch gradio -q\n",
    "\n",
    "import torch\n",
    "import torch.nn.functional as F\n",
    "from transformers import AutoTokenizer, AutoModelForSequenceClassification\n",
    "import gradio as gr\n",
    "\n",
    "# Load  trained model \n",
    "MODEL_DIR = \"./model\"   \n",
    "tokenizer = AutoTokenizer.from_pretrained(MODEL_DIR)\n",
    "model = AutoModelForSequenceClassification.from_pretrained(MODEL_DIR)\n",
    "model.eval()\n",
    "\n",
    "labels = [\"Legit\", \"Fraud\"]   \n",
    "\n",
    "@torch.no_grad()\n",
    "def predict(text):\n",
    "    inputs = tokenizer(text, truncation=True, padding=True, max_length=256, return_tensors=\"pt\")\n",
    "    outputs = model(**inputs)\n",
    "    probs = F.softmax(outputs.logits, dim=-1).squeeze().tolist()\n",
    "    pred = labels[int(torch.tensor(probs).argmax())]\n",
    "    return pred, {labels[i]: float(probs[i]) for i in range(len(labels))}\n",
    "\n",
    "# Simple Gradio interface\n",
    "demo = gr.Interface(\n",
    "    fn=predict,\n",
    "    inputs=\"text\",\n",
    "    outputs=[\"label\", \"json\"],\n",
    "    title=\"Fake Job Detector\",\n",
    "    description=\"Paste a job posting to check if it's Legit or Fraud\"\n",
    ")\n",
    "\n",
    "demo.launch(share=True)"
   ]
  }
 ],
 "metadata": {
  "accelerator": "GPU",
  "colab": {
   "gpuType": "T4",
   "provenance": []
  },
  "kernelspec": {
   "display_name": "Python 3",
   "name": "python3"
  },
  "language_info": {
   "name": "python"
  },
  "widgets": {
   "application/vnd.jupyter.widget-state+json": {
    "00ba9798119e404c9561f8c28f683b9f": {
     "model_module": "@jupyter-widgets/controls",
     "model_module_version": "1.5.0",
     "model_name": "DescriptionStyleModel",
     "state": {
      "_model_module": "@jupyter-widgets/controls",
      "_model_module_version": "1.5.0",
      "_model_name": "DescriptionStyleModel",
      "_view_count": null,
      "_view_module": "@jupyter-widgets/base",
      "_view_module_version": "1.2.0",
      "_view_name": "StyleView",
      "description_width": ""
     }
    },
    "017533cccbb04ce8bced1c3e40747bf6": {
     "model_module": "@jupyter-widgets/base",
     "model_module_version": "1.2.0",
     "model_name": "LayoutModel",
     "state": {
      "_model_module": "@jupyter-widgets/base",
      "_model_module_version": "1.2.0",
      "_model_name": "LayoutModel",
      "_view_count": null,
      "_view_module": "@jupyter-widgets/base",
      "_view_module_version": "1.2.0",
      "_view_name": "LayoutView",
      "align_content": null,
      "align_items": null,
      "align_self": null,
      "border": null,
      "bottom": null,
      "display": null,
      "flex": null,
      "flex_flow": null,
      "grid_area": null,
      "grid_auto_columns": null,
      "grid_auto_flow": null,
      "grid_auto_rows": null,
      "grid_column": null,
      "grid_gap": null,
      "grid_row": null,
      "grid_template_areas": null,
      "grid_template_columns": null,
      "grid_template_rows": null,
      "height": null,
      "justify_content": null,
      "justify_items": null,
      "left": null,
      "margin": null,
      "max_height": null,
      "max_width": null,
      "min_height": null,
      "min_width": null,
      "object_fit": null,
      "object_position": null,
      "order": null,
      "overflow": null,
      "overflow_x": null,
      "overflow_y": null,
      "padding": null,
      "right": null,
      "top": null,
      "visibility": null,
      "width": null
     }
    },
    "0724ee2fecd845ae94cd363f3aa995c5": {
     "model_module": "@jupyter-widgets/controls",
     "model_module_version": "1.5.0",
     "model_name": "HTMLModel",
     "state": {
      "_dom_classes": [],
      "_model_module": "@jupyter-widgets/controls",
      "_model_module_version": "1.5.0",
      "_model_name": "HTMLModel",
      "_view_count": null,
      "_view_module": "@jupyter-widgets/controls",
      "_view_module_version": "1.5.0",
      "_view_name": "HTMLView",
      "description": "",
      "description_tooltip": null,
      "layout": "IPY_MODEL_f5d1040b40464a72b936f0ff0628093f",
      "placeholder": "​",
      "style": "IPY_MODEL_00ba9798119e404c9561f8c28f683b9f",
      "value": "tokenizer_config.json: 100%"
     }
    },
    "0c6e5698bbae4f8cb0632159401a7a18": {
     "model_module": "@jupyter-widgets/controls",
     "model_module_version": "1.5.0",
     "model_name": "DescriptionStyleModel",
     "state": {
      "_model_module": "@jupyter-widgets/controls",
      "_model_module_version": "1.5.0",
      "_model_name": "DescriptionStyleModel",
      "_view_count": null,
      "_view_module": "@jupyter-widgets/base",
      "_view_module_version": "1.2.0",
      "_view_name": "StyleView",
      "description_width": ""
     }
    },
    "0ca9eaaff94a4c06a66d00546167f9fc": {
     "model_module": "@jupyter-widgets/controls",
     "model_module_version": "1.5.0",
     "model_name": "FloatProgressModel",
     "state": {
      "_dom_classes": [],
      "_model_module": "@jupyter-widgets/controls",
      "_model_module_version": "1.5.0",
      "_model_name": "FloatProgressModel",
      "_view_count": null,
      "_view_module": "@jupyter-widgets/controls",
      "_view_module_version": "1.5.0",
      "_view_name": "ProgressView",
      "bar_style": "success",
      "description": "",
      "description_tooltip": null,
      "layout": "IPY_MODEL_e332bab83c8f479c8af08e95a04867fb",
      "max": 267954768,
      "min": 0,
      "orientation": "horizontal",
      "style": "IPY_MODEL_e42dd21bcd474122bf83f675b6d57ad8",
      "value": 267954768
     }
    },
    "0cab531996b5408baf563da41c19ab0b": {
     "model_module": "@jupyter-widgets/base",
     "model_module_version": "1.2.0",
     "model_name": "LayoutModel",
     "state": {
      "_model_module": "@jupyter-widgets/base",
      "_model_module_version": "1.2.0",
      "_model_name": "LayoutModel",
      "_view_count": null,
      "_view_module": "@jupyter-widgets/base",
      "_view_module_version": "1.2.0",
      "_view_name": "LayoutView",
      "align_content": null,
      "align_items": null,
      "align_self": null,
      "border": null,
      "bottom": null,
      "display": null,
      "flex": null,
      "flex_flow": null,
      "grid_area": null,
      "grid_auto_columns": null,
      "grid_auto_flow": null,
      "grid_auto_rows": null,
      "grid_column": null,
      "grid_gap": null,
      "grid_row": null,
      "grid_template_areas": null,
      "grid_template_columns": null,
      "grid_template_rows": null,
      "height": null,
      "justify_content": null,
      "justify_items": null,
      "left": null,
      "margin": null,
      "max_height": null,
      "max_width": null,
      "min_height": null,
      "min_width": null,
      "object_fit": null,
      "object_position": null,
      "order": null,
      "overflow": null,
      "overflow_x": null,
      "overflow_y": null,
      "padding": null,
      "right": null,
      "top": null,
      "visibility": null,
      "width": null
     }
    },
    "172386c2add549159a0cdf8a03b4f3d8": {
     "model_module": "@jupyter-widgets/controls",
     "model_module_version": "1.5.0",
     "model_name": "DescriptionStyleModel",
     "state": {
      "_model_module": "@jupyter-widgets/controls",
      "_model_module_version": "1.5.0",
      "_model_name": "DescriptionStyleModel",
      "_view_count": null,
      "_view_module": "@jupyter-widgets/base",
      "_view_module_version": "1.2.0",
      "_view_name": "StyleView",
      "description_width": ""
     }
    },
    "231f0207b0ba4efd89f300a79ef268e2": {
     "model_module": "@jupyter-widgets/controls",
     "model_module_version": "1.5.0",
     "model_name": "HTMLModel",
     "state": {
      "_dom_classes": [],
      "_model_module": "@jupyter-widgets/controls",
      "_model_module_version": "1.5.0",
      "_model_name": "HTMLModel",
      "_view_count": null,
      "_view_module": "@jupyter-widgets/controls",
      "_view_module_version": "1.5.0",
      "_view_name": "HTMLView",
      "description": "",
      "description_tooltip": null,
      "layout": "IPY_MODEL_fa77283a920d4c5c97711451110d902c",
      "placeholder": "​",
      "style": "IPY_MODEL_26b7244844004b629e8ee365f7772a30",
      "value": " 483/483 [00:00&lt;00:00, 36.6kB/s]"
     }
    },
    "26b7244844004b629e8ee365f7772a30": {
     "model_module": "@jupyter-widgets/controls",
     "model_module_version": "1.5.0",
     "model_name": "DescriptionStyleModel",
     "state": {
      "_model_module": "@jupyter-widgets/controls",
      "_model_module_version": "1.5.0",
      "_model_name": "DescriptionStyleModel",
      "_view_count": null,
      "_view_module": "@jupyter-widgets/base",
      "_view_module_version": "1.2.0",
      "_view_name": "StyleView",
      "description_width": ""
     }
    },
    "26c6a1d87dfa439482ce5e650d2237b3": {
     "model_module": "@jupyter-widgets/controls",
     "model_module_version": "1.5.0",
     "model_name": "FloatProgressModel",
     "state": {
      "_dom_classes": [],
      "_model_module": "@jupyter-widgets/controls",
      "_model_module_version": "1.5.0",
      "_model_name": "FloatProgressModel",
      "_view_count": null,
      "_view_module": "@jupyter-widgets/controls",
      "_view_module_version": "1.5.0",
      "_view_name": "ProgressView",
      "bar_style": "success",
      "description": "",
      "description_tooltip": null,
      "layout": "IPY_MODEL_be8f642f79b24e8d8cb2bb8286f943f3",
      "max": 48,
      "min": 0,
      "orientation": "horizontal",
      "style": "IPY_MODEL_2e2ed627a12443bbaeab9f7c52b664d6",
      "value": 48
     }
    },
    "26ecb8d24ecb4af9998e8b94503e3571": {
     "model_module": "@jupyter-widgets/controls",
     "model_module_version": "1.5.0",
     "model_name": "HTMLModel",
     "state": {
      "_dom_classes": [],
      "_model_module": "@jupyter-widgets/controls",
      "_model_module_version": "1.5.0",
      "_model_name": "HTMLModel",
      "_view_count": null,
      "_view_module": "@jupyter-widgets/controls",
      "_view_module_version": "1.5.0",
      "_view_name": "HTMLView",
      "description": "",
      "description_tooltip": null,
      "layout": "IPY_MODEL_5c5472bdbaa94113baf01d9ea6951849",
      "placeholder": "​",
      "style": "IPY_MODEL_0c6e5698bbae4f8cb0632159401a7a18",
      "value": " 48.0/48.0 [00:00&lt;00:00, 2.02kB/s]"
     }
    },
    "2a8d338577444608b407e22668dd2202": {
     "model_module": "@jupyter-widgets/controls",
     "model_module_version": "1.5.0",
     "model_name": "DescriptionStyleModel",
     "state": {
      "_model_module": "@jupyter-widgets/controls",
      "_model_module_version": "1.5.0",
      "_model_name": "DescriptionStyleModel",
      "_view_count": null,
      "_view_module": "@jupyter-widgets/base",
      "_view_module_version": "1.2.0",
      "_view_name": "StyleView",
      "description_width": ""
     }
    },
    "2d55f1a6f9544f109f03f5c258848ff5": {
     "model_module": "@jupyter-widgets/base",
     "model_module_version": "1.2.0",
     "model_name": "LayoutModel",
     "state": {
      "_model_module": "@jupyter-widgets/base",
      "_model_module_version": "1.2.0",
      "_model_name": "LayoutModel",
      "_view_count": null,
      "_view_module": "@jupyter-widgets/base",
      "_view_module_version": "1.2.0",
      "_view_name": "LayoutView",
      "align_content": null,
      "align_items": null,
      "align_self": null,
      "border": null,
      "bottom": null,
      "display": null,
      "flex": null,
      "flex_flow": null,
      "grid_area": null,
      "grid_auto_columns": null,
      "grid_auto_flow": null,
      "grid_auto_rows": null,
      "grid_column": null,
      "grid_gap": null,
      "grid_row": null,
      "grid_template_areas": null,
      "grid_template_columns": null,
      "grid_template_rows": null,
      "height": null,
      "justify_content": null,
      "justify_items": null,
      "left": null,
      "margin": null,
      "max_height": null,
      "max_width": null,
      "min_height": null,
      "min_width": null,
      "object_fit": null,
      "object_position": null,
      "order": null,
      "overflow": null,
      "overflow_x": null,
      "overflow_y": null,
      "padding": null,
      "right": null,
      "top": null,
      "visibility": null,
      "width": null
     }
    },
    "2e2ed627a12443bbaeab9f7c52b664d6": {
     "model_module": "@jupyter-widgets/controls",
     "model_module_version": "1.5.0",
     "model_name": "ProgressStyleModel",
     "state": {
      "_model_module": "@jupyter-widgets/controls",
      "_model_module_version": "1.5.0",
      "_model_name": "ProgressStyleModel",
      "_view_count": null,
      "_view_module": "@jupyter-widgets/base",
      "_view_module_version": "1.2.0",
      "_view_name": "StyleView",
      "bar_color": null,
      "description_width": ""
     }
    },
    "38b0581bb98343cdaf7577a6e67bf5ba": {
     "model_module": "@jupyter-widgets/base",
     "model_module_version": "1.2.0",
     "model_name": "LayoutModel",
     "state": {
      "_model_module": "@jupyter-widgets/base",
      "_model_module_version": "1.2.0",
      "_model_name": "LayoutModel",
      "_view_count": null,
      "_view_module": "@jupyter-widgets/base",
      "_view_module_version": "1.2.0",
      "_view_name": "LayoutView",
      "align_content": null,
      "align_items": null,
      "align_self": null,
      "border": null,
      "bottom": null,
      "display": null,
      "flex": null,
      "flex_flow": null,
      "grid_area": null,
      "grid_auto_columns": null,
      "grid_auto_flow": null,
      "grid_auto_rows": null,
      "grid_column": null,
      "grid_gap": null,
      "grid_row": null,
      "grid_template_areas": null,
      "grid_template_columns": null,
      "grid_template_rows": null,
      "height": null,
      "justify_content": null,
      "justify_items": null,
      "left": null,
      "margin": null,
      "max_height": null,
      "max_width": null,
      "min_height": null,
      "min_width": null,
      "object_fit": null,
      "object_position": null,
      "order": null,
      "overflow": null,
      "overflow_x": null,
      "overflow_y": null,
      "padding": null,
      "right": null,
      "top": null,
      "visibility": null,
      "width": null
     }
    },
    "3ae2ae0990964657b0b657a3fb17548c": {
     "model_module": "@jupyter-widgets/controls",
     "model_module_version": "1.5.0",
     "model_name": "DescriptionStyleModel",
     "state": {
      "_model_module": "@jupyter-widgets/controls",
      "_model_module_version": "1.5.0",
      "_model_name": "DescriptionStyleModel",
      "_view_count": null,
      "_view_module": "@jupyter-widgets/base",
      "_view_module_version": "1.2.0",
      "_view_name": "StyleView",
      "description_width": ""
     }
    },
    "3b42f86cebcc41ab9f9e32ee5469a5d1": {
     "model_module": "@jupyter-widgets/base",
     "model_module_version": "1.2.0",
     "model_name": "LayoutModel",
     "state": {
      "_model_module": "@jupyter-widgets/base",
      "_model_module_version": "1.2.0",
      "_model_name": "LayoutModel",
      "_view_count": null,
      "_view_module": "@jupyter-widgets/base",
      "_view_module_version": "1.2.0",
      "_view_name": "LayoutView",
      "align_content": null,
      "align_items": null,
      "align_self": null,
      "border": null,
      "bottom": null,
      "display": null,
      "flex": null,
      "flex_flow": null,
      "grid_area": null,
      "grid_auto_columns": null,
      "grid_auto_flow": null,
      "grid_auto_rows": null,
      "grid_column": null,
      "grid_gap": null,
      "grid_row": null,
      "grid_template_areas": null,
      "grid_template_columns": null,
      "grid_template_rows": null,
      "height": null,
      "justify_content": null,
      "justify_items": null,
      "left": null,
      "margin": null,
      "max_height": null,
      "max_width": null,
      "min_height": null,
      "min_width": null,
      "object_fit": null,
      "object_position": null,
      "order": null,
      "overflow": null,
      "overflow_x": null,
      "overflow_y": null,
      "padding": null,
      "right": null,
      "top": null,
      "visibility": null,
      "width": null
     }
    },
    "4c4d5e07b6654a709cc1ebb05f5a7537": {
     "model_module": "@jupyter-widgets/controls",
     "model_module_version": "1.5.0",
     "model_name": "HTMLModel",
     "state": {
      "_dom_classes": [],
      "_model_module": "@jupyter-widgets/controls",
      "_model_module_version": "1.5.0",
      "_model_name": "HTMLModel",
      "_view_count": null,
      "_view_module": "@jupyter-widgets/controls",
      "_view_module_version": "1.5.0",
      "_view_name": "HTMLView",
      "description": "",
      "description_tooltip": null,
      "layout": "IPY_MODEL_ca1912ac57704677b7e79cc9c2e47518",
      "placeholder": "​",
      "style": "IPY_MODEL_172386c2add549159a0cdf8a03b4f3d8",
      "value": " 268M/268M [00:03&lt;00:00, 112MB/s]"
     }
    },
    "4f36667b6bbf4f7db63267bf60a921da": {
     "model_module": "@jupyter-widgets/base",
     "model_module_version": "1.2.0",
     "model_name": "LayoutModel",
     "state": {
      "_model_module": "@jupyter-widgets/base",
      "_model_module_version": "1.2.0",
      "_model_name": "LayoutModel",
      "_view_count": null,
      "_view_module": "@jupyter-widgets/base",
      "_view_module_version": "1.2.0",
      "_view_name": "LayoutView",
      "align_content": null,
      "align_items": null,
      "align_self": null,
      "border": null,
      "bottom": null,
      "display": null,
      "flex": null,
      "flex_flow": null,
      "grid_area": null,
      "grid_auto_columns": null,
      "grid_auto_flow": null,
      "grid_auto_rows": null,
      "grid_column": null,
      "grid_gap": null,
      "grid_row": null,
      "grid_template_areas": null,
      "grid_template_columns": null,
      "grid_template_rows": null,
      "height": null,
      "justify_content": null,
      "justify_items": null,
      "left": null,
      "margin": null,
      "max_height": null,
      "max_width": null,
      "min_height": null,
      "min_width": null,
      "object_fit": null,
      "object_position": null,
      "order": null,
      "overflow": null,
      "overflow_x": null,
      "overflow_y": null,
      "padding": null,
      "right": null,
      "top": null,
      "visibility": null,
      "width": null
     }
    },
    "53b84ec47dfa40818c1b80f04bada95f": {
     "model_module": "@jupyter-widgets/base",
     "model_module_version": "1.2.0",
     "model_name": "LayoutModel",
     "state": {
      "_model_module": "@jupyter-widgets/base",
      "_model_module_version": "1.2.0",
      "_model_name": "LayoutModel",
      "_view_count": null,
      "_view_module": "@jupyter-widgets/base",
      "_view_module_version": "1.2.0",
      "_view_name": "LayoutView",
      "align_content": null,
      "align_items": null,
      "align_self": null,
      "border": null,
      "bottom": null,
      "display": null,
      "flex": null,
      "flex_flow": null,
      "grid_area": null,
      "grid_auto_columns": null,
      "grid_auto_flow": null,
      "grid_auto_rows": null,
      "grid_column": null,
      "grid_gap": null,
      "grid_row": null,
      "grid_template_areas": null,
      "grid_template_columns": null,
      "grid_template_rows": null,
      "height": null,
      "justify_content": null,
      "justify_items": null,
      "left": null,
      "margin": null,
      "max_height": null,
      "max_width": null,
      "min_height": null,
      "min_width": null,
      "object_fit": null,
      "object_position": null,
      "order": null,
      "overflow": null,
      "overflow_x": null,
      "overflow_y": null,
      "padding": null,
      "right": null,
      "top": null,
      "visibility": null,
      "width": null
     }
    },
    "5c5472bdbaa94113baf01d9ea6951849": {
     "model_module": "@jupyter-widgets/base",
     "model_module_version": "1.2.0",
     "model_name": "LayoutModel",
     "state": {
      "_model_module": "@jupyter-widgets/base",
      "_model_module_version": "1.2.0",
      "_model_name": "LayoutModel",
      "_view_count": null,
      "_view_module": "@jupyter-widgets/base",
      "_view_module_version": "1.2.0",
      "_view_name": "LayoutView",
      "align_content": null,
      "align_items": null,
      "align_self": null,
      "border": null,
      "bottom": null,
      "display": null,
      "flex": null,
      "flex_flow": null,
      "grid_area": null,
      "grid_auto_columns": null,
      "grid_auto_flow": null,
      "grid_auto_rows": null,
      "grid_column": null,
      "grid_gap": null,
      "grid_row": null,
      "grid_template_areas": null,
      "grid_template_columns": null,
      "grid_template_rows": null,
      "height": null,
      "justify_content": null,
      "justify_items": null,
      "left": null,
      "margin": null,
      "max_height": null,
      "max_width": null,
      "min_height": null,
      "min_width": null,
      "object_fit": null,
      "object_position": null,
      "order": null,
      "overflow": null,
      "overflow_x": null,
      "overflow_y": null,
      "padding": null,
      "right": null,
      "top": null,
      "visibility": null,
      "width": null
     }
    },
    "676c61883ca04330b7d66d9020e1f060": {
     "model_module": "@jupyter-widgets/controls",
     "model_module_version": "1.5.0",
     "model_name": "HBoxModel",
     "state": {
      "_dom_classes": [],
      "_model_module": "@jupyter-widgets/controls",
      "_model_module_version": "1.5.0",
      "_model_name": "HBoxModel",
      "_view_count": null,
      "_view_module": "@jupyter-widgets/controls",
      "_view_module_version": "1.5.0",
      "_view_name": "HBoxView",
      "box_style": "",
      "children": [
       "IPY_MODEL_0724ee2fecd845ae94cd363f3aa995c5",
       "IPY_MODEL_26c6a1d87dfa439482ce5e650d2237b3",
       "IPY_MODEL_26ecb8d24ecb4af9998e8b94503e3571"
      ],
      "layout": "IPY_MODEL_bc64ff3666534d76b57f075ab613a58d"
     }
    },
    "6ad133ebc56140dcbd0988c21b0d7a09": {
     "model_module": "@jupyter-widgets/controls",
     "model_module_version": "1.5.0",
     "model_name": "DescriptionStyleModel",
     "state": {
      "_model_module": "@jupyter-widgets/controls",
      "_model_module_version": "1.5.0",
      "_model_name": "DescriptionStyleModel",
      "_view_count": null,
      "_view_module": "@jupyter-widgets/base",
      "_view_module_version": "1.2.0",
      "_view_name": "StyleView",
      "description_width": ""
     }
    },
    "6ef5ce2d82b34d299929e07844d56a50": {
     "model_module": "@jupyter-widgets/controls",
     "model_module_version": "1.5.0",
     "model_name": "FloatProgressModel",
     "state": {
      "_dom_classes": [],
      "_model_module": "@jupyter-widgets/controls",
      "_model_module_version": "1.5.0",
      "_model_name": "FloatProgressModel",
      "_view_count": null,
      "_view_module": "@jupyter-widgets/controls",
      "_view_module_version": "1.5.0",
      "_view_name": "ProgressView",
      "bar_style": "success",
      "description": "",
      "description_tooltip": null,
      "layout": "IPY_MODEL_ce3a4e84155e413cb873cb78ea5f7f71",
      "max": 231508,
      "min": 0,
      "orientation": "horizontal",
      "style": "IPY_MODEL_98096c37ba73440596db4b0088e86372",
      "value": 231508
     }
    },
    "7dba5a4888364bf58d97ddd75aa267c8": {
     "model_module": "@jupyter-widgets/controls",
     "model_module_version": "1.5.0",
     "model_name": "ProgressStyleModel",
     "state": {
      "_model_module": "@jupyter-widgets/controls",
      "_model_module_version": "1.5.0",
      "_model_name": "ProgressStyleModel",
      "_view_count": null,
      "_view_module": "@jupyter-widgets/base",
      "_view_module_version": "1.2.0",
      "_view_name": "StyleView",
      "bar_color": null,
      "description_width": ""
     }
    },
    "836d77936841425eb8abbef00a3f09d9": {
     "model_module": "@jupyter-widgets/base",
     "model_module_version": "1.2.0",
     "model_name": "LayoutModel",
     "state": {
      "_model_module": "@jupyter-widgets/base",
      "_model_module_version": "1.2.0",
      "_model_name": "LayoutModel",
      "_view_count": null,
      "_view_module": "@jupyter-widgets/base",
      "_view_module_version": "1.2.0",
      "_view_name": "LayoutView",
      "align_content": null,
      "align_items": null,
      "align_self": null,
      "border": null,
      "bottom": null,
      "display": null,
      "flex": null,
      "flex_flow": null,
      "grid_area": null,
      "grid_auto_columns": null,
      "grid_auto_flow": null,
      "grid_auto_rows": null,
      "grid_column": null,
      "grid_gap": null,
      "grid_row": null,
      "grid_template_areas": null,
      "grid_template_columns": null,
      "grid_template_rows": null,
      "height": null,
      "justify_content": null,
      "justify_items": null,
      "left": null,
      "margin": null,
      "max_height": null,
      "max_width": null,
      "min_height": null,
      "min_width": null,
      "object_fit": null,
      "object_position": null,
      "order": null,
      "overflow": null,
      "overflow_x": null,
      "overflow_y": null,
      "padding": null,
      "right": null,
      "top": null,
      "visibility": null,
      "width": null
     }
    },
    "8567f0f68b9b42a894fb95546b5932ac": {
     "model_module": "@jupyter-widgets/controls",
     "model_module_version": "1.5.0",
     "model_name": "ProgressStyleModel",
     "state": {
      "_model_module": "@jupyter-widgets/controls",
      "_model_module_version": "1.5.0",
      "_model_name": "ProgressStyleModel",
      "_view_count": null,
      "_view_module": "@jupyter-widgets/base",
      "_view_module_version": "1.2.0",
      "_view_name": "StyleView",
      "bar_color": null,
      "description_width": ""
     }
    },
    "890bccef77334742ad37acaeafe5142b": {
     "model_module": "@jupyter-widgets/controls",
     "model_module_version": "1.5.0",
     "model_name": "HTMLModel",
     "state": {
      "_dom_classes": [],
      "_model_module": "@jupyter-widgets/controls",
      "_model_module_version": "1.5.0",
      "_model_name": "HTMLModel",
      "_view_count": null,
      "_view_module": "@jupyter-widgets/controls",
      "_view_module_version": "1.5.0",
      "_view_name": "HTMLView",
      "description": "",
      "description_tooltip": null,
      "layout": "IPY_MODEL_38b0581bb98343cdaf7577a6e67bf5ba",
      "placeholder": "​",
      "style": "IPY_MODEL_ca070908f882427aa93da0f32a5dd7c3",
      "value": "model.safetensors: 100%"
     }
    },
    "92ccd0f306ab4d528f79c5bdac92dc35": {
     "model_module": "@jupyter-widgets/controls",
     "model_module_version": "1.5.0",
     "model_name": "HTMLModel",
     "state": {
      "_dom_classes": [],
      "_model_module": "@jupyter-widgets/controls",
      "_model_module_version": "1.5.0",
      "_model_name": "HTMLModel",
      "_view_count": null,
      "_view_module": "@jupyter-widgets/controls",
      "_view_module_version": "1.5.0",
      "_view_name": "HTMLView",
      "description": "",
      "description_tooltip": null,
      "layout": "IPY_MODEL_017533cccbb04ce8bced1c3e40747bf6",
      "placeholder": "​",
      "style": "IPY_MODEL_f79d3efd338043f4b751bd97186ca212",
      "value": "tokenizer.json: 100%"
     }
    },
    "961f640a8d094cc7ab85aa5c76559e96": {
     "model_module": "@jupyter-widgets/controls",
     "model_module_version": "1.5.0",
     "model_name": "FloatProgressModel",
     "state": {
      "_dom_classes": [],
      "_model_module": "@jupyter-widgets/controls",
      "_model_module_version": "1.5.0",
      "_model_name": "FloatProgressModel",
      "_view_count": null,
      "_view_module": "@jupyter-widgets/controls",
      "_view_module_version": "1.5.0",
      "_view_name": "ProgressView",
      "bar_style": "success",
      "description": "",
      "description_tooltip": null,
      "layout": "IPY_MODEL_2d55f1a6f9544f109f03f5c258848ff5",
      "max": 483,
      "min": 0,
      "orientation": "horizontal",
      "style": "IPY_MODEL_8567f0f68b9b42a894fb95546b5932ac",
      "value": 483
     }
    },
    "98096c37ba73440596db4b0088e86372": {
     "model_module": "@jupyter-widgets/controls",
     "model_module_version": "1.5.0",
     "model_name": "ProgressStyleModel",
     "state": {
      "_model_module": "@jupyter-widgets/controls",
      "_model_module_version": "1.5.0",
      "_model_name": "ProgressStyleModel",
      "_view_count": null,
      "_view_module": "@jupyter-widgets/base",
      "_view_module_version": "1.2.0",
      "_view_name": "StyleView",
      "bar_color": null,
      "description_width": ""
     }
    },
    "a5f638ae8a9a4c37a8631506c21b4889": {
     "model_module": "@jupyter-widgets/controls",
     "model_module_version": "1.5.0",
     "model_name": "HTMLModel",
     "state": {
      "_dom_classes": [],
      "_model_module": "@jupyter-widgets/controls",
      "_model_module_version": "1.5.0",
      "_model_name": "HTMLModel",
      "_view_count": null,
      "_view_module": "@jupyter-widgets/controls",
      "_view_module_version": "1.5.0",
      "_view_name": "HTMLView",
      "description": "",
      "description_tooltip": null,
      "layout": "IPY_MODEL_3b42f86cebcc41ab9f9e32ee5469a5d1",
      "placeholder": "​",
      "style": "IPY_MODEL_3ae2ae0990964657b0b657a3fb17548c",
      "value": " 466k/466k [00:00&lt;00:00, 5.41MB/s]"
     }
    },
    "ab3c9022bfa54bc3ad929895e3fab122": {
     "model_module": "@jupyter-widgets/controls",
     "model_module_version": "1.5.0",
     "model_name": "HTMLModel",
     "state": {
      "_dom_classes": [],
      "_model_module": "@jupyter-widgets/controls",
      "_model_module_version": "1.5.0",
      "_model_name": "HTMLModel",
      "_view_count": null,
      "_view_module": "@jupyter-widgets/controls",
      "_view_module_version": "1.5.0",
      "_view_name": "HTMLView",
      "description": "",
      "description_tooltip": null,
      "layout": "IPY_MODEL_0cab531996b5408baf563da41c19ab0b",
      "placeholder": "​",
      "style": "IPY_MODEL_2a8d338577444608b407e22668dd2202",
      "value": " 232k/232k [00:00&lt;00:00, 1.43MB/s]"
     }
    },
    "afcced65c11d4a259ecd34b872a711c0": {
     "model_module": "@jupyter-widgets/base",
     "model_module_version": "1.2.0",
     "model_name": "LayoutModel",
     "state": {
      "_model_module": "@jupyter-widgets/base",
      "_model_module_version": "1.2.0",
      "_model_name": "LayoutModel",
      "_view_count": null,
      "_view_module": "@jupyter-widgets/base",
      "_view_module_version": "1.2.0",
      "_view_name": "LayoutView",
      "align_content": null,
      "align_items": null,
      "align_self": null,
      "border": null,
      "bottom": null,
      "display": null,
      "flex": null,
      "flex_flow": null,
      "grid_area": null,
      "grid_auto_columns": null,
      "grid_auto_flow": null,
      "grid_auto_rows": null,
      "grid_column": null,
      "grid_gap": null,
      "grid_row": null,
      "grid_template_areas": null,
      "grid_template_columns": null,
      "grid_template_rows": null,
      "height": null,
      "justify_content": null,
      "justify_items": null,
      "left": null,
      "margin": null,
      "max_height": null,
      "max_width": null,
      "min_height": null,
      "min_width": null,
      "object_fit": null,
      "object_position": null,
      "order": null,
      "overflow": null,
      "overflow_x": null,
      "overflow_y": null,
      "padding": null,
      "right": null,
      "top": null,
      "visibility": null,
      "width": null
     }
    },
    "bc64ff3666534d76b57f075ab613a58d": {
     "model_module": "@jupyter-widgets/base",
     "model_module_version": "1.2.0",
     "model_name": "LayoutModel",
     "state": {
      "_model_module": "@jupyter-widgets/base",
      "_model_module_version": "1.2.0",
      "_model_name": "LayoutModel",
      "_view_count": null,
      "_view_module": "@jupyter-widgets/base",
      "_view_module_version": "1.2.0",
      "_view_name": "LayoutView",
      "align_content": null,
      "align_items": null,
      "align_self": null,
      "border": null,
      "bottom": null,
      "display": null,
      "flex": null,
      "flex_flow": null,
      "grid_area": null,
      "grid_auto_columns": null,
      "grid_auto_flow": null,
      "grid_auto_rows": null,
      "grid_column": null,
      "grid_gap": null,
      "grid_row": null,
      "grid_template_areas": null,
      "grid_template_columns": null,
      "grid_template_rows": null,
      "height": null,
      "justify_content": null,
      "justify_items": null,
      "left": null,
      "margin": null,
      "max_height": null,
      "max_width": null,
      "min_height": null,
      "min_width": null,
      "object_fit": null,
      "object_position": null,
      "order": null,
      "overflow": null,
      "overflow_x": null,
      "overflow_y": null,
      "padding": null,
      "right": null,
      "top": null,
      "visibility": null,
      "width": null
     }
    },
    "be8f642f79b24e8d8cb2bb8286f943f3": {
     "model_module": "@jupyter-widgets/base",
     "model_module_version": "1.2.0",
     "model_name": "LayoutModel",
     "state": {
      "_model_module": "@jupyter-widgets/base",
      "_model_module_version": "1.2.0",
      "_model_name": "LayoutModel",
      "_view_count": null,
      "_view_module": "@jupyter-widgets/base",
      "_view_module_version": "1.2.0",
      "_view_name": "LayoutView",
      "align_content": null,
      "align_items": null,
      "align_self": null,
      "border": null,
      "bottom": null,
      "display": null,
      "flex": null,
      "flex_flow": null,
      "grid_area": null,
      "grid_auto_columns": null,
      "grid_auto_flow": null,
      "grid_auto_rows": null,
      "grid_column": null,
      "grid_gap": null,
      "grid_row": null,
      "grid_template_areas": null,
      "grid_template_columns": null,
      "grid_template_rows": null,
      "height": null,
      "justify_content": null,
      "justify_items": null,
      "left": null,
      "margin": null,
      "max_height": null,
      "max_width": null,
      "min_height": null,
      "min_width": null,
      "object_fit": null,
      "object_position": null,
      "order": null,
      "overflow": null,
      "overflow_x": null,
      "overflow_y": null,
      "padding": null,
      "right": null,
      "top": null,
      "visibility": null,
      "width": null
     }
    },
    "ca070908f882427aa93da0f32a5dd7c3": {
     "model_module": "@jupyter-widgets/controls",
     "model_module_version": "1.5.0",
     "model_name": "DescriptionStyleModel",
     "state": {
      "_model_module": "@jupyter-widgets/controls",
      "_model_module_version": "1.5.0",
      "_model_name": "DescriptionStyleModel",
      "_view_count": null,
      "_view_module": "@jupyter-widgets/base",
      "_view_module_version": "1.2.0",
      "_view_name": "StyleView",
      "description_width": ""
     }
    },
    "ca1912ac57704677b7e79cc9c2e47518": {
     "model_module": "@jupyter-widgets/base",
     "model_module_version": "1.2.0",
     "model_name": "LayoutModel",
     "state": {
      "_model_module": "@jupyter-widgets/base",
      "_model_module_version": "1.2.0",
      "_model_name": "LayoutModel",
      "_view_count": null,
      "_view_module": "@jupyter-widgets/base",
      "_view_module_version": "1.2.0",
      "_view_name": "LayoutView",
      "align_content": null,
      "align_items": null,
      "align_self": null,
      "border": null,
      "bottom": null,
      "display": null,
      "flex": null,
      "flex_flow": null,
      "grid_area": null,
      "grid_auto_columns": null,
      "grid_auto_flow": null,
      "grid_auto_rows": null,
      "grid_column": null,
      "grid_gap": null,
      "grid_row": null,
      "grid_template_areas": null,
      "grid_template_columns": null,
      "grid_template_rows": null,
      "height": null,
      "justify_content": null,
      "justify_items": null,
      "left": null,
      "margin": null,
      "max_height": null,
      "max_width": null,
      "min_height": null,
      "min_width": null,
      "object_fit": null,
      "object_position": null,
      "order": null,
      "overflow": null,
      "overflow_x": null,
      "overflow_y": null,
      "padding": null,
      "right": null,
      "top": null,
      "visibility": null,
      "width": null
     }
    },
    "cc924ade86a54471b8f6a47eec24c53a": {
     "model_module": "@jupyter-widgets/base",
     "model_module_version": "1.2.0",
     "model_name": "LayoutModel",
     "state": {
      "_model_module": "@jupyter-widgets/base",
      "_model_module_version": "1.2.0",
      "_model_name": "LayoutModel",
      "_view_count": null,
      "_view_module": "@jupyter-widgets/base",
      "_view_module_version": "1.2.0",
      "_view_name": "LayoutView",
      "align_content": null,
      "align_items": null,
      "align_self": null,
      "border": null,
      "bottom": null,
      "display": null,
      "flex": null,
      "flex_flow": null,
      "grid_area": null,
      "grid_auto_columns": null,
      "grid_auto_flow": null,
      "grid_auto_rows": null,
      "grid_column": null,
      "grid_gap": null,
      "grid_row": null,
      "grid_template_areas": null,
      "grid_template_columns": null,
      "grid_template_rows": null,
      "height": null,
      "justify_content": null,
      "justify_items": null,
      "left": null,
      "margin": null,
      "max_height": null,
      "max_width": null,
      "min_height": null,
      "min_width": null,
      "object_fit": null,
      "object_position": null,
      "order": null,
      "overflow": null,
      "overflow_x": null,
      "overflow_y": null,
      "padding": null,
      "right": null,
      "top": null,
      "visibility": null,
      "width": null
     }
    },
    "ce3a4e84155e413cb873cb78ea5f7f71": {
     "model_module": "@jupyter-widgets/base",
     "model_module_version": "1.2.0",
     "model_name": "LayoutModel",
     "state": {
      "_model_module": "@jupyter-widgets/base",
      "_model_module_version": "1.2.0",
      "_model_name": "LayoutModel",
      "_view_count": null,
      "_view_module": "@jupyter-widgets/base",
      "_view_module_version": "1.2.0",
      "_view_name": "LayoutView",
      "align_content": null,
      "align_items": null,
      "align_self": null,
      "border": null,
      "bottom": null,
      "display": null,
      "flex": null,
      "flex_flow": null,
      "grid_area": null,
      "grid_auto_columns": null,
      "grid_auto_flow": null,
      "grid_auto_rows": null,
      "grid_column": null,
      "grid_gap": null,
      "grid_row": null,
      "grid_template_areas": null,
      "grid_template_columns": null,
      "grid_template_rows": null,
      "height": null,
      "justify_content": null,
      "justify_items": null,
      "left": null,
      "margin": null,
      "max_height": null,
      "max_width": null,
      "min_height": null,
      "min_width": null,
      "object_fit": null,
      "object_position": null,
      "order": null,
      "overflow": null,
      "overflow_x": null,
      "overflow_y": null,
      "padding": null,
      "right": null,
      "top": null,
      "visibility": null,
      "width": null
     }
    },
    "cf13fbb4c95640119123e7a41c679a03": {
     "model_module": "@jupyter-widgets/controls",
     "model_module_version": "1.5.0",
     "model_name": "FloatProgressModel",
     "state": {
      "_dom_classes": [],
      "_model_module": "@jupyter-widgets/controls",
      "_model_module_version": "1.5.0",
      "_model_name": "FloatProgressModel",
      "_view_count": null,
      "_view_module": "@jupyter-widgets/controls",
      "_view_module_version": "1.5.0",
      "_view_name": "ProgressView",
      "bar_style": "success",
      "description": "",
      "description_tooltip": null,
      "layout": "IPY_MODEL_836d77936841425eb8abbef00a3f09d9",
      "max": 466062,
      "min": 0,
      "orientation": "horizontal",
      "style": "IPY_MODEL_7dba5a4888364bf58d97ddd75aa267c8",
      "value": 466062
     }
    },
    "d5a89197d8484ddb927d916dbb13c8fe": {
     "model_module": "@jupyter-widgets/controls",
     "model_module_version": "1.5.0",
     "model_name": "HBoxModel",
     "state": {
      "_dom_classes": [],
      "_model_module": "@jupyter-widgets/controls",
      "_model_module_version": "1.5.0",
      "_model_name": "HBoxModel",
      "_view_count": null,
      "_view_module": "@jupyter-widgets/controls",
      "_view_module_version": "1.5.0",
      "_view_name": "HBoxView",
      "box_style": "",
      "children": [
       "IPY_MODEL_92ccd0f306ab4d528f79c5bdac92dc35",
       "IPY_MODEL_cf13fbb4c95640119123e7a41c679a03",
       "IPY_MODEL_a5f638ae8a9a4c37a8631506c21b4889"
      ],
      "layout": "IPY_MODEL_4f36667b6bbf4f7db63267bf60a921da"
     }
    },
    "dad7b6d10f604beb96f0e3a1bb4ccf03": {
     "model_module": "@jupyter-widgets/controls",
     "model_module_version": "1.5.0",
     "model_name": "HBoxModel",
     "state": {
      "_dom_classes": [],
      "_model_module": "@jupyter-widgets/controls",
      "_model_module_version": "1.5.0",
      "_model_name": "HBoxModel",
      "_view_count": null,
      "_view_module": "@jupyter-widgets/controls",
      "_view_module_version": "1.5.0",
      "_view_name": "HBoxView",
      "box_style": "",
      "children": [
       "IPY_MODEL_e76894c87c1040ea8d8482293f9c2b95",
       "IPY_MODEL_961f640a8d094cc7ab85aa5c76559e96",
       "IPY_MODEL_231f0207b0ba4efd89f300a79ef268e2"
      ],
      "layout": "IPY_MODEL_53b84ec47dfa40818c1b80f04bada95f"
     }
    },
    "dfa97c951fc748de81d48cc27b1d5742": {
     "model_module": "@jupyter-widgets/controls",
     "model_module_version": "1.5.0",
     "model_name": "DescriptionStyleModel",
     "state": {
      "_model_module": "@jupyter-widgets/controls",
      "_model_module_version": "1.5.0",
      "_model_name": "DescriptionStyleModel",
      "_view_count": null,
      "_view_module": "@jupyter-widgets/base",
      "_view_module_version": "1.2.0",
      "_view_name": "StyleView",
      "description_width": ""
     }
    },
    "e1270d07e5f246f397776f20bab9aa4f": {
     "model_module": "@jupyter-widgets/base",
     "model_module_version": "1.2.0",
     "model_name": "LayoutModel",
     "state": {
      "_model_module": "@jupyter-widgets/base",
      "_model_module_version": "1.2.0",
      "_model_name": "LayoutModel",
      "_view_count": null,
      "_view_module": "@jupyter-widgets/base",
      "_view_module_version": "1.2.0",
      "_view_name": "LayoutView",
      "align_content": null,
      "align_items": null,
      "align_self": null,
      "border": null,
      "bottom": null,
      "display": null,
      "flex": null,
      "flex_flow": null,
      "grid_area": null,
      "grid_auto_columns": null,
      "grid_auto_flow": null,
      "grid_auto_rows": null,
      "grid_column": null,
      "grid_gap": null,
      "grid_row": null,
      "grid_template_areas": null,
      "grid_template_columns": null,
      "grid_template_rows": null,
      "height": null,
      "justify_content": null,
      "justify_items": null,
      "left": null,
      "margin": null,
      "max_height": null,
      "max_width": null,
      "min_height": null,
      "min_width": null,
      "object_fit": null,
      "object_position": null,
      "order": null,
      "overflow": null,
      "overflow_x": null,
      "overflow_y": null,
      "padding": null,
      "right": null,
      "top": null,
      "visibility": null,
      "width": null
     }
    },
    "e332bab83c8f479c8af08e95a04867fb": {
     "model_module": "@jupyter-widgets/base",
     "model_module_version": "1.2.0",
     "model_name": "LayoutModel",
     "state": {
      "_model_module": "@jupyter-widgets/base",
      "_model_module_version": "1.2.0",
      "_model_name": "LayoutModel",
      "_view_count": null,
      "_view_module": "@jupyter-widgets/base",
      "_view_module_version": "1.2.0",
      "_view_name": "LayoutView",
      "align_content": null,
      "align_items": null,
      "align_self": null,
      "border": null,
      "bottom": null,
      "display": null,
      "flex": null,
      "flex_flow": null,
      "grid_area": null,
      "grid_auto_columns": null,
      "grid_auto_flow": null,
      "grid_auto_rows": null,
      "grid_column": null,
      "grid_gap": null,
      "grid_row": null,
      "grid_template_areas": null,
      "grid_template_columns": null,
      "grid_template_rows": null,
      "height": null,
      "justify_content": null,
      "justify_items": null,
      "left": null,
      "margin": null,
      "max_height": null,
      "max_width": null,
      "min_height": null,
      "min_width": null,
      "object_fit": null,
      "object_position": null,
      "order": null,
      "overflow": null,
      "overflow_x": null,
      "overflow_y": null,
      "padding": null,
      "right": null,
      "top": null,
      "visibility": null,
      "width": null
     }
    },
    "e42dd21bcd474122bf83f675b6d57ad8": {
     "model_module": "@jupyter-widgets/controls",
     "model_module_version": "1.5.0",
     "model_name": "ProgressStyleModel",
     "state": {
      "_model_module": "@jupyter-widgets/controls",
      "_model_module_version": "1.5.0",
      "_model_name": "ProgressStyleModel",
      "_view_count": null,
      "_view_module": "@jupyter-widgets/base",
      "_view_module_version": "1.2.0",
      "_view_name": "StyleView",
      "bar_color": null,
      "description_width": ""
     }
    },
    "e69b2ae22a7f401181c499bf525cf6c1": {
     "model_module": "@jupyter-widgets/base",
     "model_module_version": "1.2.0",
     "model_name": "LayoutModel",
     "state": {
      "_model_module": "@jupyter-widgets/base",
      "_model_module_version": "1.2.0",
      "_model_name": "LayoutModel",
      "_view_count": null,
      "_view_module": "@jupyter-widgets/base",
      "_view_module_version": "1.2.0",
      "_view_name": "LayoutView",
      "align_content": null,
      "align_items": null,
      "align_self": null,
      "border": null,
      "bottom": null,
      "display": null,
      "flex": null,
      "flex_flow": null,
      "grid_area": null,
      "grid_auto_columns": null,
      "grid_auto_flow": null,
      "grid_auto_rows": null,
      "grid_column": null,
      "grid_gap": null,
      "grid_row": null,
      "grid_template_areas": null,
      "grid_template_columns": null,
      "grid_template_rows": null,
      "height": null,
      "justify_content": null,
      "justify_items": null,
      "left": null,
      "margin": null,
      "max_height": null,
      "max_width": null,
      "min_height": null,
      "min_width": null,
      "object_fit": null,
      "object_position": null,
      "order": null,
      "overflow": null,
      "overflow_x": null,
      "overflow_y": null,
      "padding": null,
      "right": null,
      "top": null,
      "visibility": null,
      "width": null
     }
    },
    "e76894c87c1040ea8d8482293f9c2b95": {
     "model_module": "@jupyter-widgets/controls",
     "model_module_version": "1.5.0",
     "model_name": "HTMLModel",
     "state": {
      "_dom_classes": [],
      "_model_module": "@jupyter-widgets/controls",
      "_model_module_version": "1.5.0",
      "_model_name": "HTMLModel",
      "_view_count": null,
      "_view_module": "@jupyter-widgets/controls",
      "_view_module_version": "1.5.0",
      "_view_name": "HTMLView",
      "description": "",
      "description_tooltip": null,
      "layout": "IPY_MODEL_e1270d07e5f246f397776f20bab9aa4f",
      "placeholder": "​",
      "style": "IPY_MODEL_6ad133ebc56140dcbd0988c21b0d7a09",
      "value": "config.json: 100%"
     }
    },
    "e87ab501a0314cf8a6da5ddd53d5ff7c": {
     "model_module": "@jupyter-widgets/controls",
     "model_module_version": "1.5.0",
     "model_name": "HTMLModel",
     "state": {
      "_dom_classes": [],
      "_model_module": "@jupyter-widgets/controls",
      "_model_module_version": "1.5.0",
      "_model_name": "HTMLModel",
      "_view_count": null,
      "_view_module": "@jupyter-widgets/controls",
      "_view_module_version": "1.5.0",
      "_view_name": "HTMLView",
      "description": "",
      "description_tooltip": null,
      "layout": "IPY_MODEL_cc924ade86a54471b8f6a47eec24c53a",
      "placeholder": "​",
      "style": "IPY_MODEL_dfa97c951fc748de81d48cc27b1d5742",
      "value": "vocab.txt: 100%"
     }
    },
    "edc0895379a048afa7e1dc2316646910": {
     "model_module": "@jupyter-widgets/controls",
     "model_module_version": "1.5.0",
     "model_name": "HBoxModel",
     "state": {
      "_dom_classes": [],
      "_model_module": "@jupyter-widgets/controls",
      "_model_module_version": "1.5.0",
      "_model_name": "HBoxModel",
      "_view_count": null,
      "_view_module": "@jupyter-widgets/controls",
      "_view_module_version": "1.5.0",
      "_view_name": "HBoxView",
      "box_style": "",
      "children": [
       "IPY_MODEL_e87ab501a0314cf8a6da5ddd53d5ff7c",
       "IPY_MODEL_6ef5ce2d82b34d299929e07844d56a50",
       "IPY_MODEL_ab3c9022bfa54bc3ad929895e3fab122"
      ],
      "layout": "IPY_MODEL_e69b2ae22a7f401181c499bf525cf6c1"
     }
    },
    "f5d1040b40464a72b936f0ff0628093f": {
     "model_module": "@jupyter-widgets/base",
     "model_module_version": "1.2.0",
     "model_name": "LayoutModel",
     "state": {
      "_model_module": "@jupyter-widgets/base",
      "_model_module_version": "1.2.0",
      "_model_name": "LayoutModel",
      "_view_count": null,
      "_view_module": "@jupyter-widgets/base",
      "_view_module_version": "1.2.0",
      "_view_name": "LayoutView",
      "align_content": null,
      "align_items": null,
      "align_self": null,
      "border": null,
      "bottom": null,
      "display": null,
      "flex": null,
      "flex_flow": null,
      "grid_area": null,
      "grid_auto_columns": null,
      "grid_auto_flow": null,
      "grid_auto_rows": null,
      "grid_column": null,
      "grid_gap": null,
      "grid_row": null,
      "grid_template_areas": null,
      "grid_template_columns": null,
      "grid_template_rows": null,
      "height": null,
      "justify_content": null,
      "justify_items": null,
      "left": null,
      "margin": null,
      "max_height": null,
      "max_width": null,
      "min_height": null,
      "min_width": null,
      "object_fit": null,
      "object_position": null,
      "order": null,
      "overflow": null,
      "overflow_x": null,
      "overflow_y": null,
      "padding": null,
      "right": null,
      "top": null,
      "visibility": null,
      "width": null
     }
    },
    "f79d3efd338043f4b751bd97186ca212": {
     "model_module": "@jupyter-widgets/controls",
     "model_module_version": "1.5.0",
     "model_name": "DescriptionStyleModel",
     "state": {
      "_model_module": "@jupyter-widgets/controls",
      "_model_module_version": "1.5.0",
      "_model_name": "DescriptionStyleModel",
      "_view_count": null,
      "_view_module": "@jupyter-widgets/base",
      "_view_module_version": "1.2.0",
      "_view_name": "StyleView",
      "description_width": ""
     }
    },
    "f89a39cdd5c74651ba7104289e00507e": {
     "model_module": "@jupyter-widgets/controls",
     "model_module_version": "1.5.0",
     "model_name": "HBoxModel",
     "state": {
      "_dom_classes": [],
      "_model_module": "@jupyter-widgets/controls",
      "_model_module_version": "1.5.0",
      "_model_name": "HBoxModel",
      "_view_count": null,
      "_view_module": "@jupyter-widgets/controls",
      "_view_module_version": "1.5.0",
      "_view_name": "HBoxView",
      "box_style": "",
      "children": [
       "IPY_MODEL_890bccef77334742ad37acaeafe5142b",
       "IPY_MODEL_0ca9eaaff94a4c06a66d00546167f9fc",
       "IPY_MODEL_4c4d5e07b6654a709cc1ebb05f5a7537"
      ],
      "layout": "IPY_MODEL_afcced65c11d4a259ecd34b872a711c0"
     }
    },
    "fa77283a920d4c5c97711451110d902c": {
     "model_module": "@jupyter-widgets/base",
     "model_module_version": "1.2.0",
     "model_name": "LayoutModel",
     "state": {
      "_model_module": "@jupyter-widgets/base",
      "_model_module_version": "1.2.0",
      "_model_name": "LayoutModel",
      "_view_count": null,
      "_view_module": "@jupyter-widgets/base",
      "_view_module_version": "1.2.0",
      "_view_name": "LayoutView",
      "align_content": null,
      "align_items": null,
      "align_self": null,
      "border": null,
      "bottom": null,
      "display": null,
      "flex": null,
      "flex_flow": null,
      "grid_area": null,
      "grid_auto_columns": null,
      "grid_auto_flow": null,
      "grid_auto_rows": null,
      "grid_column": null,
      "grid_gap": null,
      "grid_row": null,
      "grid_template_areas": null,
      "grid_template_columns": null,
      "grid_template_rows": null,
      "height": null,
      "justify_content": null,
      "justify_items": null,
      "left": null,
      "margin": null,
      "max_height": null,
      "max_width": null,
      "min_height": null,
      "min_width": null,
      "object_fit": null,
      "object_position": null,
      "order": null,
      "overflow": null,
      "overflow_x": null,
      "overflow_y": null,
      "padding": null,
      "right": null,
      "top": null,
      "visibility": null,
      "width": null
     }
    }
   }
  }
 },
 "nbformat": 4,
 "nbformat_minor": 0
}
