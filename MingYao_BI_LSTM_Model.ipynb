{
  "nbformat": 4,
  "nbformat_minor": 0,
  "metadata": {
    "colab": {
      "provenance": [],
      "gpuType": "T4",
      "toc_visible": true
    },
    "kernelspec": {
      "name": "python3",
      "display_name": "Python 3"
    },
    "language_info": {
      "name": "python"
    },
    "accelerator": "GPU"
  },
  "cells": [
    {
      "cell_type": "markdown",
      "source": [
        "# Setup"
      ],
      "metadata": {
        "id": "-UlYvi9XIH9W"
      }
    },
    {
      "cell_type": "code",
      "execution_count": null,
      "metadata": {
        "id": "lFn2yY4HH5_X"
      },
      "outputs": [],
      "source": [
        "# --- Reproducibility ---\n",
        "import os, random, numpy as np\n",
        "\n",
        "SEED = 42\n",
        "os.environ[\"PYTHONHASHSEED\"] = str(SEED)\n",
        "os.environ[\"TF_DETERMINISTIC_OPS\"] = \"1\"\n",
        "os.environ[\"TF_CUDNN_DETERMINISTIC\"] = \"1\"\n",
        "\n",
        "random.seed(SEED)\n",
        "np.random.seed(SEED)\n",
        "\n",
        "import tensorflow as tf\n",
        "tf.keras.utils.set_random_seed(SEED)\n",
        "tf.config.experimental.enable_op_determinism()"
      ]
    },
    {
      "cell_type": "code",
      "source": [
        "# --- Mount Google Drive ---\n",
        "from google.colab import drive\n",
        "drive.mount('/content/drive')\n",
        "\n",
        "# --- General Libraries ---\n",
        "import pandas as pd\n",
        "import gc\n",
        "import matplotlib.pyplot as plt\n",
        "from matplotlib.patches import Rectangle\n",
        "import warnings\n",
        "warnings.filterwarnings(\"ignore\")\n",
        "\n",
        "# --- Scikit-learn ---\n",
        "from sklearn.model_selection import train_test_split\n",
        "from sklearn.ensemble import RandomForestClassifier, GradientBoostingClassifier\n",
        "from sklearn.tree import DecisionTreeClassifier\n",
        "from sklearn.feature_extraction.text import CountVectorizer\n",
        "from sklearn.metrics import (\n",
        "    accuracy_score, precision_score, recall_score,\n",
        "    f1_score, roc_auc_score, confusion_matrix, ConfusionMatrixDisplay\n",
        ")\n",
        "\n",
        "# --- TensorFlow / Keras ---\n",
        "from tensorflow import keras\n",
        "from tensorflow.keras import layers, regularizers\n",
        "from tensorflow.keras.optimizers import Adam\n",
        "from tensorflow.keras.models import Model\n",
        "from tensorflow.keras.layers import TextVectorization, Embedding, Dense\n",
        "from tensorflow.python.ops.math_ops import reduce_prod\n",
        "\n",
        "# --- Other ---\n",
        "import string\n",
        "import re"
      ],
      "metadata": {
        "colab": {
          "base_uri": "https://localhost:8080/"
        },
        "id": "gd8_zly4IF8Z",
        "outputId": "b51118a6-70d3-4394-96f4-6869d33771b8"
      },
      "execution_count": null,
      "outputs": [
        {
          "output_type": "stream",
          "name": "stdout",
          "text": [
            "Drive already mounted at /content/drive; to attempt to forcibly remount, call drive.mount(\"/content/drive\", force_remount=True).\n"
          ]
        }
      ]
    },
    {
      "cell_type": "markdown",
      "source": [
        "# Data Loading"
      ],
      "metadata": {
        "id": "QXZBU3ViIN4x"
      }
    },
    {
      "cell_type": "code",
      "source": [
        "# Path to your file\n",
        "file_path = \"/content/drive/My Drive/Colab Notebooks/DLI Assignment/fake_job_postings.csv\"\n",
        "\n",
        "df = pd.read_csv(file_path)\n",
        "\n",
        "print(df.head())"
      ],
      "metadata": {
        "colab": {
          "base_uri": "https://localhost:8080/"
        },
        "id": "6ARwf0bbIVWY",
        "outputId": "1839f5bc-747f-402e-c11a-cdf60edf423e"
      },
      "execution_count": null,
      "outputs": [
        {
          "output_type": "stream",
          "name": "stdout",
          "text": [
            "   job_id                                      title            location  \\\n",
            "0       1                           Marketing Intern    US, NY, New York   \n",
            "1       2  Customer Service - Cloud Video Production      NZ, , Auckland   \n",
            "2       3    Commissioning Machinery Assistant (CMA)       US, IA, Wever   \n",
            "3       4          Account Executive - Washington DC  US, DC, Washington   \n",
            "4       5                        Bill Review Manager  US, FL, Fort Worth   \n",
            "\n",
            "  department salary_range                                    company_profile  \\\n",
            "0  Marketing          NaN  We're Food52, and we've created a groundbreaki...   \n",
            "1    Success          NaN  90 Seconds, the worlds Cloud Video Production ...   \n",
            "2        NaN          NaN  Valor Services provides Workforce Solutions th...   \n",
            "3      Sales          NaN  Our passion for improving quality of life thro...   \n",
            "4        NaN          NaN  SpotSource Solutions LLC is a Global Human Cap...   \n",
            "\n",
            "                                         description  \\\n",
            "0  Food52, a fast-growing, James Beard Award-winn...   \n",
            "1  Organised - Focused - Vibrant - Awesome!Do you...   \n",
            "2  Our client, located in Houston, is actively se...   \n",
            "3  THE COMPANY: ESRI – Environmental Systems Rese...   \n",
            "4  JOB TITLE: Itemization Review ManagerLOCATION:...   \n",
            "\n",
            "                                        requirements  \\\n",
            "0  Experience with content management systems a m...   \n",
            "1  What we expect from you:Your key responsibilit...   \n",
            "2  Implement pre-commissioning and commissioning ...   \n",
            "3  EDUCATION: Bachelor’s or Master’s in GIS, busi...   \n",
            "4  QUALIFICATIONS:RN license in the State of Texa...   \n",
            "\n",
            "                                            benefits  telecommuting  \\\n",
            "0                                                NaN              0   \n",
            "1  What you will get from usThrough being part of...              0   \n",
            "2                                                NaN              0   \n",
            "3  Our culture is anything but corporate—we have ...              0   \n",
            "4                              Full Benefits Offered              0   \n",
            "\n",
            "   has_company_logo  has_questions employment_type required_experience  \\\n",
            "0                 1              0           Other          Internship   \n",
            "1                 1              0       Full-time      Not Applicable   \n",
            "2                 1              0             NaN                 NaN   \n",
            "3                 1              0       Full-time    Mid-Senior level   \n",
            "4                 1              1       Full-time    Mid-Senior level   \n",
            "\n",
            "  required_education                   industry              function  \\\n",
            "0                NaN                        NaN             Marketing   \n",
            "1                NaN  Marketing and Advertising      Customer Service   \n",
            "2                NaN                        NaN                   NaN   \n",
            "3  Bachelor's Degree          Computer Software                 Sales   \n",
            "4  Bachelor's Degree     Hospital & Health Care  Health Care Provider   \n",
            "\n",
            "   fraudulent  \n",
            "0           0  \n",
            "1           0  \n",
            "2           0  \n",
            "3           0  \n",
            "4           0  \n"
          ]
        }
      ]
    },
    {
      "cell_type": "markdown",
      "source": [
        "# Pre processing"
      ],
      "metadata": {
        "id": "5z0CeMsJIXPb"
      }
    },
    {
      "cell_type": "code",
      "source": [
        "# ===== Pre-processing =====\n",
        "\n",
        "# Remove columns that are not needed for analysis or modeling\n",
        "# 'job_id'  -> unique identifier (not useful for prediction)\n",
        "# 'department' and 'salary_range' -> possibly irrelevant or too sparse\n",
        "df.drop(columns=['job_id', 'department', 'salary_range'], inplace=True)\n",
        "\n",
        "# Split the 'location' column by commas into separate parts\n",
        "# Example: \"New York, NY, USA\" -> [\"New York\", \"NY\", \"USA\"]\n",
        "df_loc = pd.DataFrame(df.location.str.split(\",\", expand=True))\n",
        "\n",
        "# Keep only the first part (e.g., city name) and assign back to 'location'\n",
        "df['location'] = df_loc[0]\n",
        "\n",
        "# Replace all missing values in the DataFrame with 'UNK' (Unknown)\n",
        "# This prevents errors during text processing and marks missing info\n",
        "df = df.fillna('UNK')\n",
        "\n",
        "# Create a new column 'full_text' by concatenating multiple text fields\n",
        "# This merges title, company profile, job description, requirements, and benefits\n",
        "# into a single unified string for NLP/text-based model input\n",
        "df['full_text'] = (\n",
        "    df.title +\n",
        "    df.company_profile +\n",
        "    df.description +\n",
        "    df.requirements +\n",
        "    df.benefits\n",
        ")"
      ],
      "metadata": {
        "id": "GhjVrxmiIZox"
      },
      "execution_count": null,
      "outputs": []
    },
    {
      "cell_type": "code",
      "source": [
        "# List of categorical columns to be converted into numeric format\n",
        "# These contain string labels that need to be encoded for ML models\n",
        "cat_cols = [\n",
        "    'industry',\n",
        "    'function',\n",
        "    'required_education',\n",
        "    'employment_type',\n",
        "    'required_experience',\n",
        "    'location'\n",
        "]\n",
        "\n",
        "# Perform One-Hot Encoding on the specified categorical columns\n",
        "# This will replace each column with multiple binary (0/1) columns,\n",
        "# one for each unique category value in that column\n",
        "# Example: \"employment_type\" → \"employment_type_Full-time\", \"employment_type_Part-time\", etc.\n",
        "df = pd.get_dummies(df, columns=cat_cols)\n",
        "\n",
        "# Display the new shape of the DataFrame after encoding\n",
        "# Rows stay the same, columns increase due to the newly created binary columns\n",
        "print('Shape after one-hot-encoding:', df.shape)\n",
        "\n",
        "# Display the first row of the DataFrame to verify encoding results\n",
        "df.head(1)"
      ],
      "metadata": {
        "colab": {
          "base_uri": "https://localhost:8080/",
          "height": 218
        },
        "id": "_j8CEwjvIbnE",
        "outputId": "7ccc8a54-b167-4587-9550-1e822c9cdf17"
      },
      "execution_count": null,
      "outputs": [
        {
          "output_type": "stream",
          "name": "stdout",
          "text": [
            "Shape after one-hot-encoding: (17880, 299)\n"
          ]
        },
        {
          "output_type": "execute_result",
          "data": {
            "text/plain": [
              "              title                                    company_profile  \\\n",
              "0  Marketing Intern  We're Food52, and we've created a groundbreaki...   \n",
              "\n",
              "                                         description  \\\n",
              "0  Food52, a fast-growing, James Beard Award-winn...   \n",
              "\n",
              "                                        requirements benefits  telecommuting  \\\n",
              "0  Experience with content management systems a m...      UNK              0   \n",
              "\n",
              "   has_company_logo  has_questions  fraudulent  \\\n",
              "0                 1              0           0   \n",
              "\n",
              "                                           full_text  ...  location_TT  \\\n",
              "0  Marketing InternWe're Food52, and we've create...  ...        False   \n",
              "\n",
              "   location_TW  location_UA  location_UG  location_UNK  location_US  \\\n",
              "0        False        False        False         False         True   \n",
              "\n",
              "   location_VI  location_VN  location_ZA  location_ZM  \n",
              "0        False        False        False        False  \n",
              "\n",
              "[1 rows x 299 columns]"
            ],
            "text/html": [
              "\n",
              "  <div id=\"df-5d75e9fb-894c-4a9b-981d-081e1b3b7bf3\" class=\"colab-df-container\">\n",
              "    <div>\n",
              "<style scoped>\n",
              "    .dataframe tbody tr th:only-of-type {\n",
              "        vertical-align: middle;\n",
              "    }\n",
              "\n",
              "    .dataframe tbody tr th {\n",
              "        vertical-align: top;\n",
              "    }\n",
              "\n",
              "    .dataframe thead th {\n",
              "        text-align: right;\n",
              "    }\n",
              "</style>\n",
              "<table border=\"1\" class=\"dataframe\">\n",
              "  <thead>\n",
              "    <tr style=\"text-align: right;\">\n",
              "      <th></th>\n",
              "      <th>title</th>\n",
              "      <th>company_profile</th>\n",
              "      <th>description</th>\n",
              "      <th>requirements</th>\n",
              "      <th>benefits</th>\n",
              "      <th>telecommuting</th>\n",
              "      <th>has_company_logo</th>\n",
              "      <th>has_questions</th>\n",
              "      <th>fraudulent</th>\n",
              "      <th>full_text</th>\n",
              "      <th>...</th>\n",
              "      <th>location_TT</th>\n",
              "      <th>location_TW</th>\n",
              "      <th>location_UA</th>\n",
              "      <th>location_UG</th>\n",
              "      <th>location_UNK</th>\n",
              "      <th>location_US</th>\n",
              "      <th>location_VI</th>\n",
              "      <th>location_VN</th>\n",
              "      <th>location_ZA</th>\n",
              "      <th>location_ZM</th>\n",
              "    </tr>\n",
              "  </thead>\n",
              "  <tbody>\n",
              "    <tr>\n",
              "      <th>0</th>\n",
              "      <td>Marketing Intern</td>\n",
              "      <td>We're Food52, and we've created a groundbreaki...</td>\n",
              "      <td>Food52, a fast-growing, James Beard Award-winn...</td>\n",
              "      <td>Experience with content management systems a m...</td>\n",
              "      <td>UNK</td>\n",
              "      <td>0</td>\n",
              "      <td>1</td>\n",
              "      <td>0</td>\n",
              "      <td>0</td>\n",
              "      <td>Marketing InternWe're Food52, and we've create...</td>\n",
              "      <td>...</td>\n",
              "      <td>False</td>\n",
              "      <td>False</td>\n",
              "      <td>False</td>\n",
              "      <td>False</td>\n",
              "      <td>False</td>\n",
              "      <td>True</td>\n",
              "      <td>False</td>\n",
              "      <td>False</td>\n",
              "      <td>False</td>\n",
              "      <td>False</td>\n",
              "    </tr>\n",
              "  </tbody>\n",
              "</table>\n",
              "<p>1 rows × 299 columns</p>\n",
              "</div>\n",
              "    <div class=\"colab-df-buttons\">\n",
              "      \n",
              "  <div class=\"colab-df-container\">\n",
              "    <button class=\"colab-df-convert\" onclick=\"convertToInteractive('df-5d75e9fb-894c-4a9b-981d-081e1b3b7bf3')\"\n",
              "            title=\"Convert this dataframe to an interactive table.\"\n",
              "            style=\"display:none;\">\n",
              "      \n",
              "  <svg xmlns=\"http://www.w3.org/2000/svg\" height=\"24px\" viewBox=\"0 -960 960 960\">\n",
              "    <path d=\"M120-120v-720h720v720H120Zm60-500h600v-160H180v160Zm220 220h160v-160H400v160Zm0 220h160v-160H400v160ZM180-400h160v-160H180v160Zm440 0h160v-160H620v160ZM180-180h160v-160H180v160Zm440 0h160v-160H620v160Z\"/>\n",
              "  </svg>\n",
              "    </button>\n",
              "    \n",
              "  <style>\n",
              "    .colab-df-container {\n",
              "      display:flex;\n",
              "      gap: 12px;\n",
              "    }\n",
              "\n",
              "    .colab-df-convert {\n",
              "      background-color: #E8F0FE;\n",
              "      border: none;\n",
              "      border-radius: 50%;\n",
              "      cursor: pointer;\n",
              "      display: none;\n",
              "      fill: #1967D2;\n",
              "      height: 32px;\n",
              "      padding: 0 0 0 0;\n",
              "      width: 32px;\n",
              "    }\n",
              "\n",
              "    .colab-df-convert:hover {\n",
              "      background-color: #E2EBFA;\n",
              "      box-shadow: 0px 1px 2px rgba(60, 64, 67, 0.3), 0px 1px 3px 1px rgba(60, 64, 67, 0.15);\n",
              "      fill: #174EA6;\n",
              "    }\n",
              "\n",
              "    .colab-df-buttons div {\n",
              "      margin-bottom: 4px;\n",
              "    }\n",
              "\n",
              "    [theme=dark] .colab-df-convert {\n",
              "      background-color: #3B4455;\n",
              "      fill: #D2E3FC;\n",
              "    }\n",
              "\n",
              "    [theme=dark] .colab-df-convert:hover {\n",
              "      background-color: #434B5C;\n",
              "      box-shadow: 0px 1px 3px 1px rgba(0, 0, 0, 0.15);\n",
              "      filter: drop-shadow(0px 1px 2px rgba(0, 0, 0, 0.3));\n",
              "      fill: #FFFFFF;\n",
              "    }\n",
              "  </style>\n",
              "\n",
              "    <script>\n",
              "      const buttonEl =\n",
              "        document.querySelector('#df-5d75e9fb-894c-4a9b-981d-081e1b3b7bf3 button.colab-df-convert');\n",
              "      buttonEl.style.display =\n",
              "        google.colab.kernel.accessAllowed ? 'block' : 'none';\n",
              "\n",
              "      async function convertToInteractive(key) {\n",
              "        const element = document.querySelector('#df-5d75e9fb-894c-4a9b-981d-081e1b3b7bf3');\n",
              "        const dataTable =\n",
              "          await google.colab.kernel.invokeFunction('convertToInteractive',\n",
              "                                                    [key], {});\n",
              "        if (!dataTable) return;\n",
              "\n",
              "        const docLinkHtml = 'Like what you see? Visit the ' +\n",
              "          '<a target=\"_blank\" href=https://colab.research.google.com/notebooks/data_table.ipynb>data table notebook</a>'\n",
              "          + ' to learn more about interactive tables.';\n",
              "        element.innerHTML = '';\n",
              "        dataTable['output_type'] = 'display_data';\n",
              "        await google.colab.output.renderOutput(dataTable, element);\n",
              "        const docLink = document.createElement('div');\n",
              "        docLink.innerHTML = docLinkHtml;\n",
              "        element.appendChild(docLink);\n",
              "      }\n",
              "    </script>\n",
              "  </div>\n",
              "  \n",
              "    </div>\n",
              "  </div>\n",
              "  "
            ]
          },
          "metadata": {},
          "execution_count": 5
        }
      ]
    },
    {
      "cell_type": "markdown",
      "source": [
        "# Model"
      ],
      "metadata": {
        "id": "ssszMOB0Iy_S"
      }
    },
    {
      "cell_type": "code",
      "source": [
        "# ===== Custom Text Standardization Function =====\n",
        "def custom_standardization(input_data):\n",
        "    # Convert all text to lowercase to make model case-insensitive\n",
        "    lowercase = tf.strings.lower(input_data)\n",
        "\n",
        "    # Replace HTML line breaks (<br />) with a space\n",
        "    stripped_html = tf.strings.regex_replace(lowercase, '<br />', ' ')\n",
        "\n",
        "    # Remove all punctuation characters using regex\n",
        "    # re.escape ensures punctuation symbols are safely handled in the pattern\n",
        "    return tf.strings.regex_replace(\n",
        "        stripped_html,\n",
        "        '[%s]' % re.escape(string.punctuation),\n",
        "        ''\n",
        "    )\n",
        "\n",
        "# ===== Tokenization & Vectorization Parameters =====\n",
        "max_features = 10000       # Only keep the top 10,000 most frequent words in the vocabulary\n",
        "embedding_dim = 128        # Dimension of the word embedding vectors\n",
        "sequence_length = 1000     # All text sequences will be padded/truncated to 1,000 tokens\n",
        "\n",
        "# ===== Text Vectorization Layer =====\n",
        "vectorize = TextVectorization(\n",
        "    standardize=custom_standardization,   # Apply custom cleaning before tokenizing\n",
        "    max_tokens=max_features,              # Limit vocabulary size to most frequent words\n",
        "    output_mode='int',                     # Output integer IDs for each token\n",
        "    output_sequence_length=sequence_length # Pad/trim each sequence to exactly 1,000 tokens\n",
        ")\n",
        "\n",
        "# Build the vocabulary for the TextVectorization layer using our dataset\n",
        "# This scans all text in df.full_text, cleans it, tokenizes it,\n",
        "# and stores the top 'max_features' most frequent words in the vocabulary.\n",
        "# After this, vectorize(...) will map words → integer IDs consistently.\n",
        "vectorize.adapt(df.full_text)"
      ],
      "metadata": {
        "id": "9-IQ5vzYI1zY"
      },
      "execution_count": null,
      "outputs": []
    },
    {
      "cell_type": "code",
      "source": [
        "# ===== Step 1: Split into train+val (80%) and test (20%), preserving class ratios\n",
        "train_val, test = train_test_split(\n",
        "    df,\n",
        "    train_size=0.8,\n",
        "    random_state=SEED, # use the same global seed\n",
        "    shuffle=True,\n",
        "    stratify=df.fraudulent.values  # ensures same fraud/non-fraud ratio\n",
        ")\n",
        "\n",
        "# ===== Step 2: Split train+val into train (80%) and validation (20%), preserving class ratios\n",
        "train, val = train_test_split(\n",
        "    train_val,\n",
        "    train_size=0.8,\n",
        "    random_state=SEED,\n",
        "    shuffle=True,\n",
        "    stratify=train_val.fraudulent.values\n",
        ")\n",
        "\n",
        "# Display shapes for verification\n",
        "print(\"train shape:\", train.shape)  # ~64% of data\n",
        "print(\"val shape:\", val.shape)      # ~16% of data\n",
        "print(\"test shape:\", test.shape)    # ~20% of data\n",
        "\n",
        "# ===== Step 3: Identify numeric feature columns\n",
        "numeric_cols = train.columns  # start with all columns\n",
        "numeric_cols = numeric_cols.drop([\n",
        "    'title',            # text\n",
        "    'company_profile',  # text\n",
        "    'requirements',     # text\n",
        "    'full_text',        # combined text field\n",
        "    'description',      # text\n",
        "    'benefits',         # text\n",
        "    'fraudulent'        # target variable\n",
        "])\n",
        "\n",
        "# Number of numeric columns after removing text and target\n",
        "len(numeric_cols)"
      ],
      "metadata": {
        "colab": {
          "base_uri": "https://localhost:8080/"
        },
        "id": "yjzeXlfeI7jq",
        "outputId": "4a95b862-c314-4449-d4a6-9e8f8dca83ec"
      },
      "execution_count": null,
      "outputs": [
        {
          "output_type": "stream",
          "name": "stdout",
          "text": [
            "train shape: (11443, 299)\n",
            "val shape: (2861, 299)\n",
            "test shape: (3576, 299)\n"
          ]
        },
        {
          "output_type": "execute_result",
          "data": {
            "text/plain": [
              "292"
            ]
          },
          "metadata": {},
          "execution_count": 7
        }
      ]
    },
    {
      "cell_type": "code",
      "source": [
        "# ===== Extract text-based features for Train / Validation / Test =====\n",
        "\n",
        "# Combined text column (title + description + requirements + etc.)\n",
        "train_full_text = train.full_text\n",
        "val_full_text   = val.full_text\n",
        "test_full_text  = test.full_text\n",
        "\n",
        "# Job title\n",
        "train_title = train.title\n",
        "val_title   = val.title\n",
        "test_title  = test.title\n",
        "\n",
        "# Job requirements section\n",
        "train_requirements = train.requirements\n",
        "val_requirements   = val.requirements\n",
        "test_requirements  = test.requirements\n",
        "\n",
        "# Job description section\n",
        "train_description = train.description\n",
        "val_description   = val.description\n",
        "test_description  = test.description\n",
        "\n",
        "# Company profile text\n",
        "train_company_profile = train.company_profile\n",
        "val_company_profile   = val.company_profile\n",
        "test_company_profile  = test.company_profile\n",
        "\n",
        "# Benefits section\n",
        "train_benefits = train.benefits\n",
        "val_benefits   = val.benefits\n",
        "test_benefits  = test.benefits\n",
        "\n",
        "# ===== Extract numeric feature arrays =====\n",
        "# Select only numeric feature columns (from numeric_cols) and convert to NumPy arrays\n",
        "train_numeric = train[numeric_cols].values\n",
        "val_numeric   = val[numeric_cols].values\n",
        "test_numeric  = test[numeric_cols].values\n",
        "\n",
        "# ===== Extract target labels =====\n",
        "# 'fraudulent' column is the binary target (1 = fake job, 0 = real job)\n",
        "y_train = train.fraudulent\n",
        "y_val   = val.fraudulent\n",
        "y_test  = test.fraudulent"
      ],
      "metadata": {
        "id": "6PLYdeYgI-xC"
      },
      "execution_count": null,
      "outputs": []
    },
    {
      "cell_type": "code",
      "source": [
        "# ===== Combine numeric and vectorized text features for TRAIN =====\n",
        "\n",
        "# Shape of numeric feature array (rows = samples, cols = numeric features)\n",
        "np.array(train[numeric_cols]).shape\n",
        "\n",
        "# Shape of vectorized full_text (rows = samples, cols = sequence_length from TextVectorization)\n",
        "vectorize(train_full_text).shape\n",
        "\n",
        "# Concatenate numeric features and vectorized text along columns (axis=1)\n",
        "X_train = np.concatenate(\n",
        "    (np.array(train[numeric_cols]), vectorize(train_full_text)),\n",
        "    axis=1\n",
        ")\n",
        "\n",
        "# Final combined input shape for training\n",
        "X_train.shape"
      ],
      "metadata": {
        "colab": {
          "base_uri": "https://localhost:8080/"
        },
        "id": "A2cKFP-5JBDU",
        "outputId": "4850d7e8-3ff1-4ae4-af31-098f4e08515f"
      },
      "execution_count": null,
      "outputs": [
        {
          "output_type": "execute_result",
          "data": {
            "text/plain": [
              "(11443, 1292)"
            ]
          },
          "metadata": {},
          "execution_count": 9
        }
      ]
    },
    {
      "cell_type": "code",
      "source": [
        "# ===== Combine numeric and vectorized text features for TEST =====\n",
        "\n",
        "np.array(test[numeric_cols]).shape\n",
        "vectorize(test_full_text).shape\n",
        "\n",
        "X_test = np.concatenate(\n",
        "    (np.array(test[numeric_cols]), vectorize(test_full_text)),\n",
        "    axis=1\n",
        ")\n",
        "\n",
        "X_test.shape"
      ],
      "metadata": {
        "colab": {
          "base_uri": "https://localhost:8080/"
        },
        "id": "8hnMqQ_6JBuD",
        "outputId": "28086e8e-a406-4e3c-b40e-f6153fdc7e7d"
      },
      "execution_count": null,
      "outputs": [
        {
          "output_type": "execute_result",
          "data": {
            "text/plain": [
              "(3576, 1292)"
            ]
          },
          "metadata": {},
          "execution_count": 10
        }
      ]
    },
    {
      "cell_type": "code",
      "source": [
        "# =========================\n",
        "# 1) Imports & Config\n",
        "# =========================\n",
        "from tensorflow.keras.preprocessing.text import Tokenizer\n",
        "from tensorflow.keras.preprocessing.sequence import pad_sequences\n",
        "from tensorflow.keras.layers import (Input, Embedding, Bidirectional, LSTM,\n",
        "                                     Dense, Dropout, Concatenate)\n",
        "from tensorflow.keras.models import Model\n",
        "from tensorflow.keras.callbacks import EarlyStopping, ModelCheckpoint\n",
        "\n",
        "# Model hyperparameters\n",
        "MAXLEN      = 200      # Max number of tokens per text input\n",
        "MAX_VOCAB   = 30000    # Max vocabulary size (most frequent words kept)\n",
        "EMBED_DIM   = 64      # Embedding vector dimension\n",
        "LSTM_UNITS  = 32       # Number of units in LSTM\n",
        "DROPOUT_P   = 0.4      # Dropout rate for regularization\n",
        "\n",
        "# =========================\n",
        "# 2) Helpers\n",
        "# =========================\n",
        "def to_list_str(x):\n",
        "    \"\"\"\n",
        "    Convert input (Series, list, etc.) to a list of strings, replacing NaNs with empty strings.\n",
        "    Ensures consistent data type before tokenization.\n",
        "    \"\"\"\n",
        "    return pd.Series(x).fillna(\"\").astype(str).tolist()\n",
        "\n",
        "def encode_with_shared_tokenizer(tok, tr_txt, va_txt, maxlen=MAXLEN):\n",
        "    \"\"\"\n",
        "    Tokenize and pad both training and validation text using the SAME tokenizer.\n",
        "    Ensures both sets use the same word index mapping.\n",
        "    \"\"\"\n",
        "    # Convert to sequences of integers\n",
        "    tr = tok.texts_to_sequences(to_list_str(tr_txt))\n",
        "    va = tok.texts_to_sequences(to_list_str(va_txt))\n",
        "\n",
        "    # Pad/truncate to fixed length for LSTM\n",
        "    tr = pad_sequences(tr, maxlen=maxlen, padding=\"post\", truncating=\"post\").astype(\"int32\")\n",
        "    va = pad_sequences(va, maxlen=maxlen, padding=\"post\", truncating=\"post\").astype(\"int32\")\n",
        "    return tr, va\n",
        "\n",
        "# =========================\n",
        "# 3) Build ONE shared tokenizer over ALL training text\n",
        "# =========================\n",
        "# Combine all text fields into one big list to fit tokenizer\n",
        "train_all_text = (\n",
        "    to_list_str(train_title)\n",
        "    + to_list_str(train_company_profile)\n",
        "    + to_list_str(train_description)\n",
        "    + to_list_str(train_benefits)\n",
        "    + to_list_str(train_requirements)\n",
        ")\n",
        "\n",
        "# Create tokenizer (with OOV token for unknown words)\n",
        "tok = Tokenizer(num_words=MAX_VOCAB, oov_token=\"<OOV>\")\n",
        "tok.fit_on_texts(train_all_text)  # Learn word index from all training text\n",
        "\n",
        "# Encode + pad each field separately\n",
        "train_title_enc,           val_title_enc            = encode_with_shared_tokenizer(tok, train_title,           val_title)\n",
        "train_company_profile_enc, val_company_profile_enc  = encode_with_shared_tokenizer(tok, train_company_profile, val_company_profile)\n",
        "train_description_enc,     val_description_enc      = encode_with_shared_tokenizer(tok, train_description,     val_description)\n",
        "train_benefits_enc,        val_benefits_enc         = encode_with_shared_tokenizer(tok, train_benefits,        val_benefits)\n",
        "train_requirements_enc,    val_requirements_enc     = encode_with_shared_tokenizer(tok, train_requirements,    val_requirements)\n",
        "\n",
        "# =========================\n",
        "# 4) Numeric features & labels\n",
        "# =========================\n",
        "\n",
        "MAXLEN = 200\n",
        "oov_idx = tok.word_index.get(\"<OOV>\", 1)  # Index for OOV token (default to 1)\n",
        "\n",
        "def enforce_right_padding(x, maxlen=MAXLEN):\n",
        "    \"\"\"\n",
        "    Ensures tokens are placed at the start, padding zeros at the end.\n",
        "    Avoids cases where zeros appear in the middle of sequences.\n",
        "    \"\"\"\n",
        "    x = np.asarray(x, dtype=\"int32\")\n",
        "    out = np.zeros_like(x)\n",
        "    for i in range(x.shape[0]):\n",
        "        nz = x[i][x[i] != 0]   # Keep non-zero tokens\n",
        "        nz = nz[:maxlen]       # Truncate if too long\n",
        "        out[i, :len(nz)] = nz  # Place tokens first\n",
        "    return out\n",
        "\n",
        "def fix_all_zero_rows(x, fill=oov_idx):\n",
        "    \"\"\"\n",
        "    If a row is entirely zeros (empty text), replace first token with OOV.\n",
        "    This prevents mask_zero from ignoring the entire sequence.\n",
        "    \"\"\"\n",
        "    x = np.asarray(x, dtype=\"int32\")\n",
        "    all_zero = (x.sum(axis=1) == 0)\n",
        "    if np.any(all_zero):\n",
        "        x[all_zero, 0] = fill\n",
        "    return x\n",
        "\n",
        "def sanitize(x):\n",
        "    \"\"\"\n",
        "    Apply right-padding enforcement and zero-row fixing.\n",
        "    \"\"\"\n",
        "    x = enforce_right_padding(x, MAXLEN)\n",
        "    x = fix_all_zero_rows(x, oov_idx)\n",
        "    return x\n",
        "\n",
        "# Sanitize all training & validation sequences\n",
        "train_title_enc           = sanitize(train_title_enc)\n",
        "val_title_enc             = sanitize(val_title_enc)\n",
        "train_company_profile_enc = sanitize(train_company_profile_enc)\n",
        "val_company_profile_enc   = sanitize(val_company_profile_enc)\n",
        "train_description_enc     = sanitize(train_description_enc)\n",
        "val_description_enc       = sanitize(val_description_enc)\n",
        "train_benefits_enc        = sanitize(train_benefits_enc)\n",
        "val_benefits_enc          = sanitize(val_benefits_enc)\n",
        "train_requirements_enc    = sanitize(train_requirements_enc)\n",
        "val_requirements_enc      = sanitize(val_requirements_enc)\n",
        "\n",
        "# Optional diagnostics: check for bad rows\n",
        "def count_bad_rows(x):\n",
        "    \"\"\"\n",
        "    Counts rows where zeros appear between non-zero tokens (invalid padding).\n",
        "    \"\"\"\n",
        "    bad = 0\n",
        "    for row in x:\n",
        "        zero_seen = False\n",
        "        for t in row:\n",
        "            if t == 0: zero_seen = True\n",
        "            elif zero_seen:\n",
        "                bad += 1; break\n",
        "    return bad\n",
        "\n",
        "# Print diagnostics for each dataset\n",
        "for name, arr in [\n",
        "    (\"title\", train_title_enc), (\"company\", train_company_profile_enc),\n",
        "    (\"description\", train_description_enc), (\"benefits\", train_benefits_enc),\n",
        "    (\"requirements\", train_requirements_enc),\n",
        "    (\"val_title\", val_title_enc), (\"val_company\", val_company_profile_enc),\n",
        "    (\"val_description\", val_description_enc), (\"val_benefits\", val_benefits_enc),\n",
        "    (\"val_requirements\", val_requirements_enc),\n",
        "]:\n",
        "    print(name, \"bad rows:\", count_bad_rows(arr),\n",
        "          \"all-zero rows after fix:\", np.sum(arr.sum(axis=1)==oov_idx))\n",
        "\n",
        "# Convert numeric features to float32 arrays\n",
        "train_numeric = np.asarray(train_numeric, dtype=\"float32\")\n",
        "val_numeric   = np.asarray(val_numeric,   dtype=\"float32\")\n",
        "\n",
        "# Ensure numeric arrays are 2D\n",
        "if train_numeric.ndim == 1: train_numeric = train_numeric.reshape(-1, 1)\n",
        "if val_numeric.ndim   == 1: val_numeric   = val_numeric.reshape(-1, 1)\n",
        "\n",
        "# Convert labels to float32 column vectors\n",
        "y_train = np.asarray(y_train, dtype=\"float32\").reshape(-1, 1)\n",
        "y_val   = np.asarray(y_val,   dtype=\"float32\").reshape(-1, 1)\n",
        "\n",
        "# =========================\n",
        "# 5) Build the model (shared Embedding across fields)\n",
        "# =========================\n",
        "# Define inputs\n",
        "numeric_in      = Input(shape=(train_numeric.shape[1],), dtype=\"float32\", name=\"numeric_in\")\n",
        "title_in        = Input(shape=(MAXLEN,), dtype=\"int32\", name=\"title_in\")\n",
        "company_in      = Input(shape=(MAXLEN,), dtype=\"int32\", name=\"company_in\")\n",
        "description_in  = Input(shape=(MAXLEN,), dtype=\"int32\", name=\"description_in\")\n",
        "benefits_in     = Input(shape=(MAXLEN,), dtype=\"int32\", name=\"benefits_in\")\n",
        "requirements_in = Input(shape=(MAXLEN,), dtype=\"int32\", name=\"requirements_in\")\n",
        "\n",
        "# Shared embedding layer for all text fields\n",
        "shared_emb = Embedding(\n",
        "    input_dim=MAX_VOCAB,     # Vocabulary size\n",
        "    output_dim=EMBED_DIM,    # Embedding vector size\n",
        "    mask_zero=True,          # Ignore padding tokens in LSTM\n",
        "    name=\"shared_embedding\"\n",
        ")\n",
        "\n",
        "def text_branch(x, name_prefix):\n",
        "    \"\"\"\n",
        "    Defines a reusable text processing branch:\n",
        "    - Embedding\n",
        "    - BiLSTM\n",
        "    - Dropout\n",
        "    \"\"\"\n",
        "    x = shared_emb(x)\n",
        "    x = Bidirectional(LSTM(LSTM_UNITS, return_sequences=False), name=f\"{name_prefix}_bilstm\")(x)\n",
        "    x = Dropout(DROPOUT_P, name=f\"{name_prefix}_drop\")(x)\n",
        "    return x\n",
        "\n",
        "# Apply text branch to each text input\n",
        "title_feat        = text_branch(title_in,        \"title\")\n",
        "company_feat      = text_branch(company_in,      \"company\")\n",
        "description_feat  = text_branch(description_in,  \"description\")\n",
        "benefits_feat     = text_branch(benefits_in,     \"benefits\")\n",
        "requirements_feat = text_branch(requirements_in, \"requirements\")\n",
        "\n",
        "# Combine numeric + text features\n",
        "x = Concatenate(name=\"concat_features\")([\n",
        "    numeric_in, title_feat, company_feat, description_feat, benefits_feat, requirements_feat\n",
        "])\n",
        "\n",
        "# Fully connected classifier head\n",
        "x = Dense(128, activation=\"relu\")(x)\n",
        "x = Dropout(DROPOUT_P)(x)\n",
        "x = Dense(64, activation=\"relu\")(x)\n",
        "x = Dropout(DROPOUT_P)(x)\n",
        "out = Dense(1, activation=\"sigmoid\", name=\"out\")(x)  # Sigmoid for binary classification\n",
        "\n",
        "# Build the Keras model\n",
        "bilstm_model = Model(\n",
        "    inputs=[numeric_in, title_in, company_in, description_in, benefits_in, requirements_in],\n",
        "    outputs=out\n",
        ")\n",
        "\n",
        "# Compile with optimizer, loss, and metrics\n",
        "bilstm_model.compile(\n",
        "    optimizer=tf.keras.optimizers.Adam(learning_rate=1e-3),\n",
        "    loss=\"binary_crossentropy\",\n",
        "    metrics=[\"accuracy\", tf.keras.metrics.AUC(name=\"auc\")]\n",
        ")\n",
        "\n",
        "# Show model summary\n",
        "bilstm_model.summary()\n"
      ],
      "metadata": {
        "colab": {
          "base_uri": "https://localhost:8080/",
          "height": 1000
        },
        "id": "85gjjDRGJKlV",
        "outputId": "eaf1f30f-4419-47ce-9ea5-afd41dc0763f"
      },
      "execution_count": null,
      "outputs": [
        {
          "output_type": "stream",
          "name": "stdout",
          "text": [
            "title bad rows: 0 all-zero rows after fix: 10\n",
            "company bad rows: 0 all-zero rows after fix: 0\n",
            "description bad rows: 0 all-zero rows after fix: 0\n",
            "benefits bad rows: 0 all-zero rows after fix: 6\n",
            "requirements bad rows: 0 all-zero rows after fix: 5\n",
            "val_title bad rows: 0 all-zero rows after fix: 9\n",
            "val_company bad rows: 0 all-zero rows after fix: 0\n",
            "val_description bad rows: 0 all-zero rows after fix: 0\n",
            "val_benefits bad rows: 0 all-zero rows after fix: 5\n",
            "val_requirements bad rows: 0 all-zero rows after fix: 4\n"
          ]
        },
        {
          "output_type": "display_data",
          "data": {
            "text/plain": [
              "\u001b[1mModel: \"functional\"\u001b[0m\n"
            ],
            "text/html": [
              "<pre style=\"white-space:pre;overflow-x:auto;line-height:normal;font-family:Menlo,'DejaVu Sans Mono',consolas,'Courier New',monospace\"><span style=\"font-weight: bold\">Model: \"functional\"</span>\n",
              "</pre>\n"
            ]
          },
          "metadata": {}
        },
        {
          "output_type": "display_data",
          "data": {
            "text/plain": [
              "┏━━━━━━━━━━━━━━━━━━━━━┳━━━━━━━━━━━━━━━━━━━┳━━━━━━━━━━━━┳━━━━━━━━━━━━━━━━━━━┓\n",
              "┃\u001b[1m \u001b[0m\u001b[1mLayer (type)       \u001b[0m\u001b[1m \u001b[0m┃\u001b[1m \u001b[0m\u001b[1mOutput Shape     \u001b[0m\u001b[1m \u001b[0m┃\u001b[1m \u001b[0m\u001b[1m   Param #\u001b[0m\u001b[1m \u001b[0m┃\u001b[1m \u001b[0m\u001b[1mConnected to     \u001b[0m\u001b[1m \u001b[0m┃\n",
              "┡━━━━━━━━━━━━━━━━━━━━━╇━━━━━━━━━━━━━━━━━━━╇━━━━━━━━━━━━╇━━━━━━━━━━━━━━━━━━━┩\n",
              "│ title_in            │ (\u001b[38;5;45mNone\u001b[0m, \u001b[38;5;34m200\u001b[0m)       │          \u001b[38;5;34m0\u001b[0m │ -                 │\n",
              "│ (\u001b[38;5;33mInputLayer\u001b[0m)        │                   │            │                   │\n",
              "├─────────────────────┼───────────────────┼────────────┼───────────────────┤\n",
              "│ company_in          │ (\u001b[38;5;45mNone\u001b[0m, \u001b[38;5;34m200\u001b[0m)       │          \u001b[38;5;34m0\u001b[0m │ -                 │\n",
              "│ (\u001b[38;5;33mInputLayer\u001b[0m)        │                   │            │                   │\n",
              "├─────────────────────┼───────────────────┼────────────┼───────────────────┤\n",
              "│ description_in      │ (\u001b[38;5;45mNone\u001b[0m, \u001b[38;5;34m200\u001b[0m)       │          \u001b[38;5;34m0\u001b[0m │ -                 │\n",
              "│ (\u001b[38;5;33mInputLayer\u001b[0m)        │                   │            │                   │\n",
              "├─────────────────────┼───────────────────┼────────────┼───────────────────┤\n",
              "│ benefits_in         │ (\u001b[38;5;45mNone\u001b[0m, \u001b[38;5;34m200\u001b[0m)       │          \u001b[38;5;34m0\u001b[0m │ -                 │\n",
              "│ (\u001b[38;5;33mInputLayer\u001b[0m)        │                   │            │                   │\n",
              "├─────────────────────┼───────────────────┼────────────┼───────────────────┤\n",
              "│ requirements_in     │ (\u001b[38;5;45mNone\u001b[0m, \u001b[38;5;34m200\u001b[0m)       │          \u001b[38;5;34m0\u001b[0m │ -                 │\n",
              "│ (\u001b[38;5;33mInputLayer\u001b[0m)        │                   │            │                   │\n",
              "├─────────────────────┼───────────────────┼────────────┼───────────────────┤\n",
              "│ shared_embedding    │ (\u001b[38;5;45mNone\u001b[0m, \u001b[38;5;34m200\u001b[0m, \u001b[38;5;34m64\u001b[0m)   │  \u001b[38;5;34m1,920,000\u001b[0m │ title_in[\u001b[38;5;34m0\u001b[0m][\u001b[38;5;34m0\u001b[0m],   │\n",
              "│ (\u001b[38;5;33mEmbedding\u001b[0m)         │                   │            │ company_in[\u001b[38;5;34m0\u001b[0m][\u001b[38;5;34m0\u001b[0m], │\n",
              "│                     │                   │            │ description_in[\u001b[38;5;34m0\u001b[0m… │\n",
              "│                     │                   │            │ benefits_in[\u001b[38;5;34m0\u001b[0m][\u001b[38;5;34m0\u001b[0m… │\n",
              "│                     │                   │            │ requirements_in[\u001b[38;5;34m…\u001b[0m │\n",
              "├─────────────────────┼───────────────────┼────────────┼───────────────────┤\n",
              "│ not_equal           │ (\u001b[38;5;45mNone\u001b[0m, \u001b[38;5;34m200\u001b[0m)       │          \u001b[38;5;34m0\u001b[0m │ title_in[\u001b[38;5;34m0\u001b[0m][\u001b[38;5;34m0\u001b[0m]    │\n",
              "│ (\u001b[38;5;33mNotEqual\u001b[0m)          │                   │            │                   │\n",
              "├─────────────────────┼───────────────────┼────────────┼───────────────────┤\n",
              "│ not_equal_1         │ (\u001b[38;5;45mNone\u001b[0m, \u001b[38;5;34m200\u001b[0m)       │          \u001b[38;5;34m0\u001b[0m │ company_in[\u001b[38;5;34m0\u001b[0m][\u001b[38;5;34m0\u001b[0m]  │\n",
              "│ (\u001b[38;5;33mNotEqual\u001b[0m)          │                   │            │                   │\n",
              "├─────────────────────┼───────────────────┼────────────┼───────────────────┤\n",
              "│ not_equal_2         │ (\u001b[38;5;45mNone\u001b[0m, \u001b[38;5;34m200\u001b[0m)       │          \u001b[38;5;34m0\u001b[0m │ description_in[\u001b[38;5;34m0\u001b[0m… │\n",
              "│ (\u001b[38;5;33mNotEqual\u001b[0m)          │                   │            │                   │\n",
              "├─────────────────────┼───────────────────┼────────────┼───────────────────┤\n",
              "│ not_equal_3         │ (\u001b[38;5;45mNone\u001b[0m, \u001b[38;5;34m200\u001b[0m)       │          \u001b[38;5;34m0\u001b[0m │ benefits_in[\u001b[38;5;34m0\u001b[0m][\u001b[38;5;34m0\u001b[0m] │\n",
              "│ (\u001b[38;5;33mNotEqual\u001b[0m)          │                   │            │                   │\n",
              "├─────────────────────┼───────────────────┼────────────┼───────────────────┤\n",
              "│ not_equal_4         │ (\u001b[38;5;45mNone\u001b[0m, \u001b[38;5;34m200\u001b[0m)       │          \u001b[38;5;34m0\u001b[0m │ requirements_in[\u001b[38;5;34m…\u001b[0m │\n",
              "│ (\u001b[38;5;33mNotEqual\u001b[0m)          │                   │            │                   │\n",
              "├─────────────────────┼───────────────────┼────────────┼───────────────────┤\n",
              "│ title_bilstm        │ (\u001b[38;5;45mNone\u001b[0m, \u001b[38;5;34m64\u001b[0m)        │     \u001b[38;5;34m24,832\u001b[0m │ shared_embedding… │\n",
              "│ (\u001b[38;5;33mBidirectional\u001b[0m)     │                   │            │ not_equal[\u001b[38;5;34m0\u001b[0m][\u001b[38;5;34m0\u001b[0m]   │\n",
              "├─────────────────────┼───────────────────┼────────────┼───────────────────┤\n",
              "│ company_bilstm      │ (\u001b[38;5;45mNone\u001b[0m, \u001b[38;5;34m64\u001b[0m)        │     \u001b[38;5;34m24,832\u001b[0m │ shared_embedding… │\n",
              "│ (\u001b[38;5;33mBidirectional\u001b[0m)     │                   │            │ not_equal_1[\u001b[38;5;34m0\u001b[0m][\u001b[38;5;34m0\u001b[0m] │\n",
              "├─────────────────────┼───────────────────┼────────────┼───────────────────┤\n",
              "│ description_bilstm  │ (\u001b[38;5;45mNone\u001b[0m, \u001b[38;5;34m64\u001b[0m)        │     \u001b[38;5;34m24,832\u001b[0m │ shared_embedding… │\n",
              "│ (\u001b[38;5;33mBidirectional\u001b[0m)     │                   │            │ not_equal_2[\u001b[38;5;34m0\u001b[0m][\u001b[38;5;34m0\u001b[0m] │\n",
              "├─────────────────────┼───────────────────┼────────────┼───────────────────┤\n",
              "│ benefits_bilstm     │ (\u001b[38;5;45mNone\u001b[0m, \u001b[38;5;34m64\u001b[0m)        │     \u001b[38;5;34m24,832\u001b[0m │ shared_embedding… │\n",
              "│ (\u001b[38;5;33mBidirectional\u001b[0m)     │                   │            │ not_equal_3[\u001b[38;5;34m0\u001b[0m][\u001b[38;5;34m0\u001b[0m] │\n",
              "├─────────────────────┼───────────────────┼────────────┼───────────────────┤\n",
              "│ requirements_bilstm │ (\u001b[38;5;45mNone\u001b[0m, \u001b[38;5;34m64\u001b[0m)        │     \u001b[38;5;34m24,832\u001b[0m │ shared_embedding… │\n",
              "│ (\u001b[38;5;33mBidirectional\u001b[0m)     │                   │            │ not_equal_4[\u001b[38;5;34m0\u001b[0m][\u001b[38;5;34m0\u001b[0m] │\n",
              "├─────────────────────┼───────────────────┼────────────┼───────────────────┤\n",
              "│ numeric_in          │ (\u001b[38;5;45mNone\u001b[0m, \u001b[38;5;34m292\u001b[0m)       │          \u001b[38;5;34m0\u001b[0m │ -                 │\n",
              "│ (\u001b[38;5;33mInputLayer\u001b[0m)        │                   │            │                   │\n",
              "├─────────────────────┼───────────────────┼────────────┼───────────────────┤\n",
              "│ title_drop          │ (\u001b[38;5;45mNone\u001b[0m, \u001b[38;5;34m64\u001b[0m)        │          \u001b[38;5;34m0\u001b[0m │ title_bilstm[\u001b[38;5;34m0\u001b[0m][\u001b[38;5;34m…\u001b[0m │\n",
              "│ (\u001b[38;5;33mDropout\u001b[0m)           │                   │            │                   │\n",
              "├─────────────────────┼───────────────────┼────────────┼───────────────────┤\n",
              "│ company_drop        │ (\u001b[38;5;45mNone\u001b[0m, \u001b[38;5;34m64\u001b[0m)        │          \u001b[38;5;34m0\u001b[0m │ company_bilstm[\u001b[38;5;34m0\u001b[0m… │\n",
              "│ (\u001b[38;5;33mDropout\u001b[0m)           │                   │            │                   │\n",
              "├─────────────────────┼───────────────────┼────────────┼───────────────────┤\n",
              "│ description_drop    │ (\u001b[38;5;45mNone\u001b[0m, \u001b[38;5;34m64\u001b[0m)        │          \u001b[38;5;34m0\u001b[0m │ description_bils… │\n",
              "│ (\u001b[38;5;33mDropout\u001b[0m)           │                   │            │                   │\n",
              "├─────────────────────┼───────────────────┼────────────┼───────────────────┤\n",
              "│ benefits_drop       │ (\u001b[38;5;45mNone\u001b[0m, \u001b[38;5;34m64\u001b[0m)        │          \u001b[38;5;34m0\u001b[0m │ benefits_bilstm[\u001b[38;5;34m…\u001b[0m │\n",
              "│ (\u001b[38;5;33mDropout\u001b[0m)           │                   │            │                   │\n",
              "├─────────────────────┼───────────────────┼────────────┼───────────────────┤\n",
              "│ requirements_drop   │ (\u001b[38;5;45mNone\u001b[0m, \u001b[38;5;34m64\u001b[0m)        │          \u001b[38;5;34m0\u001b[0m │ requirements_bil… │\n",
              "│ (\u001b[38;5;33mDropout\u001b[0m)           │                   │            │                   │\n",
              "├─────────────────────┼───────────────────┼────────────┼───────────────────┤\n",
              "│ concat_features     │ (\u001b[38;5;45mNone\u001b[0m, \u001b[38;5;34m612\u001b[0m)       │          \u001b[38;5;34m0\u001b[0m │ numeric_in[\u001b[38;5;34m0\u001b[0m][\u001b[38;5;34m0\u001b[0m], │\n",
              "│ (\u001b[38;5;33mConcatenate\u001b[0m)       │                   │            │ title_drop[\u001b[38;5;34m0\u001b[0m][\u001b[38;5;34m0\u001b[0m], │\n",
              "│                     │                   │            │ company_drop[\u001b[38;5;34m0\u001b[0m][\u001b[38;5;34m…\u001b[0m │\n",
              "│                     │                   │            │ description_drop… │\n",
              "│                     │                   │            │ benefits_drop[\u001b[38;5;34m0\u001b[0m]… │\n",
              "│                     │                   │            │ requirements_dro… │\n",
              "├─────────────────────┼───────────────────┼────────────┼───────────────────┤\n",
              "│ dense (\u001b[38;5;33mDense\u001b[0m)       │ (\u001b[38;5;45mNone\u001b[0m, \u001b[38;5;34m128\u001b[0m)       │     \u001b[38;5;34m78,464\u001b[0m │ concat_features[\u001b[38;5;34m…\u001b[0m │\n",
              "├─────────────────────┼───────────────────┼────────────┼───────────────────┤\n",
              "│ dropout (\u001b[38;5;33mDropout\u001b[0m)   │ (\u001b[38;5;45mNone\u001b[0m, \u001b[38;5;34m128\u001b[0m)       │          \u001b[38;5;34m0\u001b[0m │ dense[\u001b[38;5;34m0\u001b[0m][\u001b[38;5;34m0\u001b[0m]       │\n",
              "├─────────────────────┼───────────────────┼────────────┼───────────────────┤\n",
              "│ dense_1 (\u001b[38;5;33mDense\u001b[0m)     │ (\u001b[38;5;45mNone\u001b[0m, \u001b[38;5;34m64\u001b[0m)        │      \u001b[38;5;34m8,256\u001b[0m │ dropout[\u001b[38;5;34m0\u001b[0m][\u001b[38;5;34m0\u001b[0m]     │\n",
              "├─────────────────────┼───────────────────┼────────────┼───────────────────┤\n",
              "│ dropout_1 (\u001b[38;5;33mDropout\u001b[0m) │ (\u001b[38;5;45mNone\u001b[0m, \u001b[38;5;34m64\u001b[0m)        │          \u001b[38;5;34m0\u001b[0m │ dense_1[\u001b[38;5;34m0\u001b[0m][\u001b[38;5;34m0\u001b[0m]     │\n",
              "├─────────────────────┼───────────────────┼────────────┼───────────────────┤\n",
              "│ out (\u001b[38;5;33mDense\u001b[0m)         │ (\u001b[38;5;45mNone\u001b[0m, \u001b[38;5;34m1\u001b[0m)         │         \u001b[38;5;34m65\u001b[0m │ dropout_1[\u001b[38;5;34m0\u001b[0m][\u001b[38;5;34m0\u001b[0m]   │\n",
              "└─────────────────────┴───────────────────┴────────────┴───────────────────┘\n"
            ],
            "text/html": [
              "<pre style=\"white-space:pre;overflow-x:auto;line-height:normal;font-family:Menlo,'DejaVu Sans Mono',consolas,'Courier New',monospace\">┏━━━━━━━━━━━━━━━━━━━━━┳━━━━━━━━━━━━━━━━━━━┳━━━━━━━━━━━━┳━━━━━━━━━━━━━━━━━━━┓\n",
              "┃<span style=\"font-weight: bold\"> Layer (type)        </span>┃<span style=\"font-weight: bold\"> Output Shape      </span>┃<span style=\"font-weight: bold\">    Param # </span>┃<span style=\"font-weight: bold\"> Connected to      </span>┃\n",
              "┡━━━━━━━━━━━━━━━━━━━━━╇━━━━━━━━━━━━━━━━━━━╇━━━━━━━━━━━━╇━━━━━━━━━━━━━━━━━━━┩\n",
              "│ title_in            │ (<span style=\"color: #00d7ff; text-decoration-color: #00d7ff\">None</span>, <span style=\"color: #00af00; text-decoration-color: #00af00\">200</span>)       │          <span style=\"color: #00af00; text-decoration-color: #00af00\">0</span> │ -                 │\n",
              "│ (<span style=\"color: #0087ff; text-decoration-color: #0087ff\">InputLayer</span>)        │                   │            │                   │\n",
              "├─────────────────────┼───────────────────┼────────────┼───────────────────┤\n",
              "│ company_in          │ (<span style=\"color: #00d7ff; text-decoration-color: #00d7ff\">None</span>, <span style=\"color: #00af00; text-decoration-color: #00af00\">200</span>)       │          <span style=\"color: #00af00; text-decoration-color: #00af00\">0</span> │ -                 │\n",
              "│ (<span style=\"color: #0087ff; text-decoration-color: #0087ff\">InputLayer</span>)        │                   │            │                   │\n",
              "├─────────────────────┼───────────────────┼────────────┼───────────────────┤\n",
              "│ description_in      │ (<span style=\"color: #00d7ff; text-decoration-color: #00d7ff\">None</span>, <span style=\"color: #00af00; text-decoration-color: #00af00\">200</span>)       │          <span style=\"color: #00af00; text-decoration-color: #00af00\">0</span> │ -                 │\n",
              "│ (<span style=\"color: #0087ff; text-decoration-color: #0087ff\">InputLayer</span>)        │                   │            │                   │\n",
              "├─────────────────────┼───────────────────┼────────────┼───────────────────┤\n",
              "│ benefits_in         │ (<span style=\"color: #00d7ff; text-decoration-color: #00d7ff\">None</span>, <span style=\"color: #00af00; text-decoration-color: #00af00\">200</span>)       │          <span style=\"color: #00af00; text-decoration-color: #00af00\">0</span> │ -                 │\n",
              "│ (<span style=\"color: #0087ff; text-decoration-color: #0087ff\">InputLayer</span>)        │                   │            │                   │\n",
              "├─────────────────────┼───────────────────┼────────────┼───────────────────┤\n",
              "│ requirements_in     │ (<span style=\"color: #00d7ff; text-decoration-color: #00d7ff\">None</span>, <span style=\"color: #00af00; text-decoration-color: #00af00\">200</span>)       │          <span style=\"color: #00af00; text-decoration-color: #00af00\">0</span> │ -                 │\n",
              "│ (<span style=\"color: #0087ff; text-decoration-color: #0087ff\">InputLayer</span>)        │                   │            │                   │\n",
              "├─────────────────────┼───────────────────┼────────────┼───────────────────┤\n",
              "│ shared_embedding    │ (<span style=\"color: #00d7ff; text-decoration-color: #00d7ff\">None</span>, <span style=\"color: #00af00; text-decoration-color: #00af00\">200</span>, <span style=\"color: #00af00; text-decoration-color: #00af00\">64</span>)   │  <span style=\"color: #00af00; text-decoration-color: #00af00\">1,920,000</span> │ title_in[<span style=\"color: #00af00; text-decoration-color: #00af00\">0</span>][<span style=\"color: #00af00; text-decoration-color: #00af00\">0</span>],   │\n",
              "│ (<span style=\"color: #0087ff; text-decoration-color: #0087ff\">Embedding</span>)         │                   │            │ company_in[<span style=\"color: #00af00; text-decoration-color: #00af00\">0</span>][<span style=\"color: #00af00; text-decoration-color: #00af00\">0</span>], │\n",
              "│                     │                   │            │ description_in[<span style=\"color: #00af00; text-decoration-color: #00af00\">0</span>… │\n",
              "│                     │                   │            │ benefits_in[<span style=\"color: #00af00; text-decoration-color: #00af00\">0</span>][<span style=\"color: #00af00; text-decoration-color: #00af00\">0</span>… │\n",
              "│                     │                   │            │ requirements_in[<span style=\"color: #00af00; text-decoration-color: #00af00\">…</span> │\n",
              "├─────────────────────┼───────────────────┼────────────┼───────────────────┤\n",
              "│ not_equal           │ (<span style=\"color: #00d7ff; text-decoration-color: #00d7ff\">None</span>, <span style=\"color: #00af00; text-decoration-color: #00af00\">200</span>)       │          <span style=\"color: #00af00; text-decoration-color: #00af00\">0</span> │ title_in[<span style=\"color: #00af00; text-decoration-color: #00af00\">0</span>][<span style=\"color: #00af00; text-decoration-color: #00af00\">0</span>]    │\n",
              "│ (<span style=\"color: #0087ff; text-decoration-color: #0087ff\">NotEqual</span>)          │                   │            │                   │\n",
              "├─────────────────────┼───────────────────┼────────────┼───────────────────┤\n",
              "│ not_equal_1         │ (<span style=\"color: #00d7ff; text-decoration-color: #00d7ff\">None</span>, <span style=\"color: #00af00; text-decoration-color: #00af00\">200</span>)       │          <span style=\"color: #00af00; text-decoration-color: #00af00\">0</span> │ company_in[<span style=\"color: #00af00; text-decoration-color: #00af00\">0</span>][<span style=\"color: #00af00; text-decoration-color: #00af00\">0</span>]  │\n",
              "│ (<span style=\"color: #0087ff; text-decoration-color: #0087ff\">NotEqual</span>)          │                   │            │                   │\n",
              "├─────────────────────┼───────────────────┼────────────┼───────────────────┤\n",
              "│ not_equal_2         │ (<span style=\"color: #00d7ff; text-decoration-color: #00d7ff\">None</span>, <span style=\"color: #00af00; text-decoration-color: #00af00\">200</span>)       │          <span style=\"color: #00af00; text-decoration-color: #00af00\">0</span> │ description_in[<span style=\"color: #00af00; text-decoration-color: #00af00\">0</span>… │\n",
              "│ (<span style=\"color: #0087ff; text-decoration-color: #0087ff\">NotEqual</span>)          │                   │            │                   │\n",
              "├─────────────────────┼───────────────────┼────────────┼───────────────────┤\n",
              "│ not_equal_3         │ (<span style=\"color: #00d7ff; text-decoration-color: #00d7ff\">None</span>, <span style=\"color: #00af00; text-decoration-color: #00af00\">200</span>)       │          <span style=\"color: #00af00; text-decoration-color: #00af00\">0</span> │ benefits_in[<span style=\"color: #00af00; text-decoration-color: #00af00\">0</span>][<span style=\"color: #00af00; text-decoration-color: #00af00\">0</span>] │\n",
              "│ (<span style=\"color: #0087ff; text-decoration-color: #0087ff\">NotEqual</span>)          │                   │            │                   │\n",
              "├─────────────────────┼───────────────────┼────────────┼───────────────────┤\n",
              "│ not_equal_4         │ (<span style=\"color: #00d7ff; text-decoration-color: #00d7ff\">None</span>, <span style=\"color: #00af00; text-decoration-color: #00af00\">200</span>)       │          <span style=\"color: #00af00; text-decoration-color: #00af00\">0</span> │ requirements_in[<span style=\"color: #00af00; text-decoration-color: #00af00\">…</span> │\n",
              "│ (<span style=\"color: #0087ff; text-decoration-color: #0087ff\">NotEqual</span>)          │                   │            │                   │\n",
              "├─────────────────────┼───────────────────┼────────────┼───────────────────┤\n",
              "│ title_bilstm        │ (<span style=\"color: #00d7ff; text-decoration-color: #00d7ff\">None</span>, <span style=\"color: #00af00; text-decoration-color: #00af00\">64</span>)        │     <span style=\"color: #00af00; text-decoration-color: #00af00\">24,832</span> │ shared_embedding… │\n",
              "│ (<span style=\"color: #0087ff; text-decoration-color: #0087ff\">Bidirectional</span>)     │                   │            │ not_equal[<span style=\"color: #00af00; text-decoration-color: #00af00\">0</span>][<span style=\"color: #00af00; text-decoration-color: #00af00\">0</span>]   │\n",
              "├─────────────────────┼───────────────────┼────────────┼───────────────────┤\n",
              "│ company_bilstm      │ (<span style=\"color: #00d7ff; text-decoration-color: #00d7ff\">None</span>, <span style=\"color: #00af00; text-decoration-color: #00af00\">64</span>)        │     <span style=\"color: #00af00; text-decoration-color: #00af00\">24,832</span> │ shared_embedding… │\n",
              "│ (<span style=\"color: #0087ff; text-decoration-color: #0087ff\">Bidirectional</span>)     │                   │            │ not_equal_1[<span style=\"color: #00af00; text-decoration-color: #00af00\">0</span>][<span style=\"color: #00af00; text-decoration-color: #00af00\">0</span>] │\n",
              "├─────────────────────┼───────────────────┼────────────┼───────────────────┤\n",
              "│ description_bilstm  │ (<span style=\"color: #00d7ff; text-decoration-color: #00d7ff\">None</span>, <span style=\"color: #00af00; text-decoration-color: #00af00\">64</span>)        │     <span style=\"color: #00af00; text-decoration-color: #00af00\">24,832</span> │ shared_embedding… │\n",
              "│ (<span style=\"color: #0087ff; text-decoration-color: #0087ff\">Bidirectional</span>)     │                   │            │ not_equal_2[<span style=\"color: #00af00; text-decoration-color: #00af00\">0</span>][<span style=\"color: #00af00; text-decoration-color: #00af00\">0</span>] │\n",
              "├─────────────────────┼───────────────────┼────────────┼───────────────────┤\n",
              "│ benefits_bilstm     │ (<span style=\"color: #00d7ff; text-decoration-color: #00d7ff\">None</span>, <span style=\"color: #00af00; text-decoration-color: #00af00\">64</span>)        │     <span style=\"color: #00af00; text-decoration-color: #00af00\">24,832</span> │ shared_embedding… │\n",
              "│ (<span style=\"color: #0087ff; text-decoration-color: #0087ff\">Bidirectional</span>)     │                   │            │ not_equal_3[<span style=\"color: #00af00; text-decoration-color: #00af00\">0</span>][<span style=\"color: #00af00; text-decoration-color: #00af00\">0</span>] │\n",
              "├─────────────────────┼───────────────────┼────────────┼───────────────────┤\n",
              "│ requirements_bilstm │ (<span style=\"color: #00d7ff; text-decoration-color: #00d7ff\">None</span>, <span style=\"color: #00af00; text-decoration-color: #00af00\">64</span>)        │     <span style=\"color: #00af00; text-decoration-color: #00af00\">24,832</span> │ shared_embedding… │\n",
              "│ (<span style=\"color: #0087ff; text-decoration-color: #0087ff\">Bidirectional</span>)     │                   │            │ not_equal_4[<span style=\"color: #00af00; text-decoration-color: #00af00\">0</span>][<span style=\"color: #00af00; text-decoration-color: #00af00\">0</span>] │\n",
              "├─────────────────────┼───────────────────┼────────────┼───────────────────┤\n",
              "│ numeric_in          │ (<span style=\"color: #00d7ff; text-decoration-color: #00d7ff\">None</span>, <span style=\"color: #00af00; text-decoration-color: #00af00\">292</span>)       │          <span style=\"color: #00af00; text-decoration-color: #00af00\">0</span> │ -                 │\n",
              "│ (<span style=\"color: #0087ff; text-decoration-color: #0087ff\">InputLayer</span>)        │                   │            │                   │\n",
              "├─────────────────────┼───────────────────┼────────────┼───────────────────┤\n",
              "│ title_drop          │ (<span style=\"color: #00d7ff; text-decoration-color: #00d7ff\">None</span>, <span style=\"color: #00af00; text-decoration-color: #00af00\">64</span>)        │          <span style=\"color: #00af00; text-decoration-color: #00af00\">0</span> │ title_bilstm[<span style=\"color: #00af00; text-decoration-color: #00af00\">0</span>][<span style=\"color: #00af00; text-decoration-color: #00af00\">…</span> │\n",
              "│ (<span style=\"color: #0087ff; text-decoration-color: #0087ff\">Dropout</span>)           │                   │            │                   │\n",
              "├─────────────────────┼───────────────────┼────────────┼───────────────────┤\n",
              "│ company_drop        │ (<span style=\"color: #00d7ff; text-decoration-color: #00d7ff\">None</span>, <span style=\"color: #00af00; text-decoration-color: #00af00\">64</span>)        │          <span style=\"color: #00af00; text-decoration-color: #00af00\">0</span> │ company_bilstm[<span style=\"color: #00af00; text-decoration-color: #00af00\">0</span>… │\n",
              "│ (<span style=\"color: #0087ff; text-decoration-color: #0087ff\">Dropout</span>)           │                   │            │                   │\n",
              "├─────────────────────┼───────────────────┼────────────┼───────────────────┤\n",
              "│ description_drop    │ (<span style=\"color: #00d7ff; text-decoration-color: #00d7ff\">None</span>, <span style=\"color: #00af00; text-decoration-color: #00af00\">64</span>)        │          <span style=\"color: #00af00; text-decoration-color: #00af00\">0</span> │ description_bils… │\n",
              "│ (<span style=\"color: #0087ff; text-decoration-color: #0087ff\">Dropout</span>)           │                   │            │                   │\n",
              "├─────────────────────┼───────────────────┼────────────┼───────────────────┤\n",
              "│ benefits_drop       │ (<span style=\"color: #00d7ff; text-decoration-color: #00d7ff\">None</span>, <span style=\"color: #00af00; text-decoration-color: #00af00\">64</span>)        │          <span style=\"color: #00af00; text-decoration-color: #00af00\">0</span> │ benefits_bilstm[<span style=\"color: #00af00; text-decoration-color: #00af00\">…</span> │\n",
              "│ (<span style=\"color: #0087ff; text-decoration-color: #0087ff\">Dropout</span>)           │                   │            │                   │\n",
              "├─────────────────────┼───────────────────┼────────────┼───────────────────┤\n",
              "│ requirements_drop   │ (<span style=\"color: #00d7ff; text-decoration-color: #00d7ff\">None</span>, <span style=\"color: #00af00; text-decoration-color: #00af00\">64</span>)        │          <span style=\"color: #00af00; text-decoration-color: #00af00\">0</span> │ requirements_bil… │\n",
              "│ (<span style=\"color: #0087ff; text-decoration-color: #0087ff\">Dropout</span>)           │                   │            │                   │\n",
              "├─────────────────────┼───────────────────┼────────────┼───────────────────┤\n",
              "│ concat_features     │ (<span style=\"color: #00d7ff; text-decoration-color: #00d7ff\">None</span>, <span style=\"color: #00af00; text-decoration-color: #00af00\">612</span>)       │          <span style=\"color: #00af00; text-decoration-color: #00af00\">0</span> │ numeric_in[<span style=\"color: #00af00; text-decoration-color: #00af00\">0</span>][<span style=\"color: #00af00; text-decoration-color: #00af00\">0</span>], │\n",
              "│ (<span style=\"color: #0087ff; text-decoration-color: #0087ff\">Concatenate</span>)       │                   │            │ title_drop[<span style=\"color: #00af00; text-decoration-color: #00af00\">0</span>][<span style=\"color: #00af00; text-decoration-color: #00af00\">0</span>], │\n",
              "│                     │                   │            │ company_drop[<span style=\"color: #00af00; text-decoration-color: #00af00\">0</span>][<span style=\"color: #00af00; text-decoration-color: #00af00\">…</span> │\n",
              "│                     │                   │            │ description_drop… │\n",
              "│                     │                   │            │ benefits_drop[<span style=\"color: #00af00; text-decoration-color: #00af00\">0</span>]… │\n",
              "│                     │                   │            │ requirements_dro… │\n",
              "├─────────────────────┼───────────────────┼────────────┼───────────────────┤\n",
              "│ dense (<span style=\"color: #0087ff; text-decoration-color: #0087ff\">Dense</span>)       │ (<span style=\"color: #00d7ff; text-decoration-color: #00d7ff\">None</span>, <span style=\"color: #00af00; text-decoration-color: #00af00\">128</span>)       │     <span style=\"color: #00af00; text-decoration-color: #00af00\">78,464</span> │ concat_features[<span style=\"color: #00af00; text-decoration-color: #00af00\">…</span> │\n",
              "├─────────────────────┼───────────────────┼────────────┼───────────────────┤\n",
              "│ dropout (<span style=\"color: #0087ff; text-decoration-color: #0087ff\">Dropout</span>)   │ (<span style=\"color: #00d7ff; text-decoration-color: #00d7ff\">None</span>, <span style=\"color: #00af00; text-decoration-color: #00af00\">128</span>)       │          <span style=\"color: #00af00; text-decoration-color: #00af00\">0</span> │ dense[<span style=\"color: #00af00; text-decoration-color: #00af00\">0</span>][<span style=\"color: #00af00; text-decoration-color: #00af00\">0</span>]       │\n",
              "├─────────────────────┼───────────────────┼────────────┼───────────────────┤\n",
              "│ dense_1 (<span style=\"color: #0087ff; text-decoration-color: #0087ff\">Dense</span>)     │ (<span style=\"color: #00d7ff; text-decoration-color: #00d7ff\">None</span>, <span style=\"color: #00af00; text-decoration-color: #00af00\">64</span>)        │      <span style=\"color: #00af00; text-decoration-color: #00af00\">8,256</span> │ dropout[<span style=\"color: #00af00; text-decoration-color: #00af00\">0</span>][<span style=\"color: #00af00; text-decoration-color: #00af00\">0</span>]     │\n",
              "├─────────────────────┼───────────────────┼────────────┼───────────────────┤\n",
              "│ dropout_1 (<span style=\"color: #0087ff; text-decoration-color: #0087ff\">Dropout</span>) │ (<span style=\"color: #00d7ff; text-decoration-color: #00d7ff\">None</span>, <span style=\"color: #00af00; text-decoration-color: #00af00\">64</span>)        │          <span style=\"color: #00af00; text-decoration-color: #00af00\">0</span> │ dense_1[<span style=\"color: #00af00; text-decoration-color: #00af00\">0</span>][<span style=\"color: #00af00; text-decoration-color: #00af00\">0</span>]     │\n",
              "├─────────────────────┼───────────────────┼────────────┼───────────────────┤\n",
              "│ out (<span style=\"color: #0087ff; text-decoration-color: #0087ff\">Dense</span>)         │ (<span style=\"color: #00d7ff; text-decoration-color: #00d7ff\">None</span>, <span style=\"color: #00af00; text-decoration-color: #00af00\">1</span>)         │         <span style=\"color: #00af00; text-decoration-color: #00af00\">65</span> │ dropout_1[<span style=\"color: #00af00; text-decoration-color: #00af00\">0</span>][<span style=\"color: #00af00; text-decoration-color: #00af00\">0</span>]   │\n",
              "└─────────────────────┴───────────────────┴────────────┴───────────────────┘\n",
              "</pre>\n"
            ]
          },
          "metadata": {}
        },
        {
          "output_type": "display_data",
          "data": {
            "text/plain": [
              "\u001b[1m Total params: \u001b[0m\u001b[38;5;34m2,130,945\u001b[0m (8.13 MB)\n"
            ],
            "text/html": [
              "<pre style=\"white-space:pre;overflow-x:auto;line-height:normal;font-family:Menlo,'DejaVu Sans Mono',consolas,'Courier New',monospace\"><span style=\"font-weight: bold\"> Total params: </span><span style=\"color: #00af00; text-decoration-color: #00af00\">2,130,945</span> (8.13 MB)\n",
              "</pre>\n"
            ]
          },
          "metadata": {}
        },
        {
          "output_type": "display_data",
          "data": {
            "text/plain": [
              "\u001b[1m Trainable params: \u001b[0m\u001b[38;5;34m2,130,945\u001b[0m (8.13 MB)\n"
            ],
            "text/html": [
              "<pre style=\"white-space:pre;overflow-x:auto;line-height:normal;font-family:Menlo,'DejaVu Sans Mono',consolas,'Courier New',monospace\"><span style=\"font-weight: bold\"> Trainable params: </span><span style=\"color: #00af00; text-decoration-color: #00af00\">2,130,945</span> (8.13 MB)\n",
              "</pre>\n"
            ]
          },
          "metadata": {}
        },
        {
          "output_type": "display_data",
          "data": {
            "text/plain": [
              "\u001b[1m Non-trainable params: \u001b[0m\u001b[38;5;34m0\u001b[0m (0.00 B)\n"
            ],
            "text/html": [
              "<pre style=\"white-space:pre;overflow-x:auto;line-height:normal;font-family:Menlo,'DejaVu Sans Mono',consolas,'Courier New',monospace\"><span style=\"font-weight: bold\"> Non-trainable params: </span><span style=\"color: #00af00; text-decoration-color: #00af00\">0</span> (0.00 B)\n",
              "</pre>\n"
            ]
          },
          "metadata": {}
        }
      ]
    },
    {
      "cell_type": "markdown",
      "source": [
        "# Train"
      ],
      "metadata": {
        "id": "pecyB3c8JTzX"
      }
    },
    {
      "cell_type": "code",
      "source": [
        "# Early stopping if validation AUC doesn't improve\n",
        "es = EarlyStopping(\n",
        "    monitor=\"val_auc\", mode=\"max\", patience=3,\n",
        "    restore_best_weights=True, verbose=1\n",
        ")\n",
        "\n",
        "# Save best model checkpoint based on validation AUC\n",
        "mc = ModelCheckpoint(\n",
        "    \"best_bilstm.h5\", monitor=\"val_auc\", mode=\"max\",\n",
        "    save_best_only=True, verbose=1\n",
        ")\n",
        "\n",
        "from sklearn.utils.class_weight import compute_class_weight\n",
        "import numpy as np\n",
        "\n",
        "def to_label_vector(y):\n",
        "    y = np.asarray(y)\n",
        "    # (N,1) -> (N,)\n",
        "    if y.ndim == 2 and y.shape[1] == 1:\n",
        "        y = y[:, 0]\n",
        "    # one-hot (N,C) -> class index\n",
        "    elif y.ndim == 2 and y.shape[1] > 1:\n",
        "        y = y.argmax(axis=1)\n",
        "    return y.astype(int).ravel()\n",
        "\n",
        "y_train_vec = np.asarray(y_train).reshape(-1)  # ensure 1-D ints if needed\n",
        "\n",
        "classes = np.unique(y_train_vec)\n",
        "bal = compute_class_weight('balanced', classes=classes, y=y_train_vec)\n",
        "cw_bal = dict(zip(classes, bal))  # e.g., {0:0.525, 1:10.328}\n",
        "\n",
        "def temper_weights(cw, tau=0.3, renorm=True):\n",
        "    # shrink each weight toward 1.0: w' = 1 + tau*(w-1)\n",
        "    w = {int(k): float(1 + tau*(v - 1)) for k, v in cw.items()}\n",
        "    if renorm:\n",
        "        m = np.mean(list(w.values()))\n",
        "        w = {k: v/m for k, v in w.items()}  # keep average weight ≈ 1\n",
        "    return w\n",
        "\n",
        "class_weights = temper_weights(cw_bal, tau=0.3)   # tau: 0.1 (mild) … 0.6 (stronger)\n",
        "print(\"tempered class_weights:\", class_weights)\n",
        "\n",
        "# Fit model with training and validation data\n",
        "history = bilstm_model.fit(\n",
        "    [train_numeric, train_title_enc, train_company_profile_enc,\n",
        "     train_description_enc, train_benefits_enc, train_requirements_enc],\n",
        "    y_train,\n",
        "    epochs=25,\n",
        "    batch_size=24,\n",
        "    class_weight=class_weights, #class weight to balancing data and improve recall and F1 score\n",
        "    validation_data=(\n",
        "        [val_numeric, val_title_enc, val_company_profile_enc,\n",
        "         val_description_enc, val_benefits_enc, val_requirements_enc],\n",
        "        y_val\n",
        "    ),\n",
        "    verbose=1,\n",
        "    callbacks=[es, mc]\n",
        ")"
      ],
      "metadata": {
        "colab": {
          "base_uri": "https://localhost:8080/"
        },
        "id": "NakfHrMsJVSP",
        "outputId": "f081f3c0-2299-4bae-d0d8-2d1c783b8fb5"
      },
      "execution_count": null,
      "outputs": [
        {
          "output_type": "stream",
          "name": "stdout",
          "text": [
            "tempered class_weights: {0: np.float64(0.36840502105865697), 1: np.float64(1.6315949789413429)}\n",
            "Epoch 1/25\n",
            "\u001b[1m477/477\u001b[0m \u001b[32m━━━━━━━━━━━━━━━━━━━━\u001b[0m\u001b[37m\u001b[0m \u001b[1m0s\u001b[0m 80ms/step - accuracy: 0.9433 - auc: 0.8260 - loss: 0.1376\n",
            "Epoch 1: val_auc improved from -inf to 0.99470, saving model to best_bilstm.h5\n"
          ]
        },
        {
          "output_type": "stream",
          "name": "stderr",
          "text": [
            "WARNING:absl:You are saving your model as an HDF5 file via `model.save()` or `keras.saving.save_model(model)`. This file format is considered legacy. We recommend using instead the native Keras format, e.g. `model.save('my_model.keras')` or `keras.saving.save_model(model, 'my_model.keras')`. \n"
          ]
        },
        {
          "output_type": "stream",
          "name": "stdout",
          "text": [
            "\b\b\b\b\b\b\b\b\b\b\b\b\b\b\b\b\b\b\b\b\b\b\b\b\b\b\b\b\b\b\b\b\b\b\b\b\b\b\b\b\b\b\b\b\b\b\b\b\b\b\b\b\b\b\b\b\b\b\b\b\b\b\b\b\b\b\b\b\b\b\b\b\b\b\b\b\b\b\b\b\b\b\b\b\b\b\b\b\b\r\u001b[1m477/477\u001b[0m \u001b[32m━━━━━━━━━━━━━━━━━━━━\u001b[0m\u001b[37m\u001b[0m \u001b[1m57s\u001b[0m 89ms/step - accuracy: 0.9433 - auc: 0.8262 - loss: 0.1375 - val_accuracy: 0.9885 - val_auc: 0.9947 - val_loss: 0.0344\n",
            "Epoch 2/25\n",
            "\u001b[1m477/477\u001b[0m \u001b[32m━━━━━━━━━━━━━━━━━━━━\u001b[0m\u001b[37m\u001b[0m \u001b[1m0s\u001b[0m 78ms/step - accuracy: 0.9890 - auc: 0.9949 - loss: 0.0216\n",
            "Epoch 2: val_auc did not improve from 0.99470\n",
            "\u001b[1m477/477\u001b[0m \u001b[32m━━━━━━━━━━━━━━━━━━━━\u001b[0m\u001b[37m\u001b[0m \u001b[1m74s\u001b[0m 84ms/step - accuracy: 0.9890 - auc: 0.9949 - loss: 0.0216 - val_accuracy: 0.9857 - val_auc: 0.9764 - val_loss: 0.0492\n",
            "Epoch 3/25\n",
            "\u001b[1m477/477\u001b[0m \u001b[32m━━━━━━━━━━━━━━━━━━━━\u001b[0m\u001b[37m\u001b[0m \u001b[1m0s\u001b[0m 77ms/step - accuracy: 0.9984 - auc: 0.9977 - loss: 0.0047\n",
            "Epoch 3: val_auc did not improve from 0.99470\n",
            "\u001b[1m477/477\u001b[0m \u001b[32m━━━━━━━━━━━━━━━━━━━━\u001b[0m\u001b[37m\u001b[0m \u001b[1m42s\u001b[0m 88ms/step - accuracy: 0.9984 - auc: 0.9977 - loss: 0.0047 - val_accuracy: 0.9867 - val_auc: 0.9823 - val_loss: 0.0457\n",
            "Epoch 4/25\n",
            "\u001b[1m477/477\u001b[0m \u001b[32m━━━━━━━━━━━━━━━━━━━━\u001b[0m\u001b[37m\u001b[0m \u001b[1m0s\u001b[0m 77ms/step - accuracy: 0.9998 - auc: 0.9978 - loss: 9.5258e-04\n",
            "Epoch 4: val_auc did not improve from 0.99470\n",
            "\u001b[1m477/477\u001b[0m \u001b[32m━━━━━━━━━━━━━━━━━━━━\u001b[0m\u001b[37m\u001b[0m \u001b[1m40s\u001b[0m 83ms/step - accuracy: 0.9998 - auc: 0.9978 - loss: 9.5194e-04 - val_accuracy: 0.9906 - val_auc: 0.9658 - val_loss: 0.0493\n",
            "Epoch 4: early stopping\n",
            "Restoring model weights from the end of the best epoch: 1.\n"
          ]
        }
      ]
    },
    {
      "cell_type": "markdown",
      "source": [
        "# Evaluation"
      ],
      "metadata": {
        "id": "OVcXRPoXJYvw"
      }
    },
    {
      "cell_type": "code",
      "source": [
        "# --- Test preprocessing: put this RIGHT BEFORE predict() ---\n",
        "\n",
        "# Step 1: Encode & pad test text with the SAME tokenizer used for training\n",
        "import pandas as pd\n",
        "from tensorflow.keras.preprocessing.sequence import pad_sequences\n",
        "\n",
        "def encode_only(tok, texts, maxlen=MAXLEN):\n",
        "    # Ensure texts are all strings (replace NaN with empty string)\n",
        "    texts = pd.Series(texts).fillna(\"\").astype(str).tolist()\n",
        "    # Convert each text into a list of integer tokens using the trained tokenizer\n",
        "    seq   = tok.texts_to_sequences(texts)\n",
        "    # Pad or truncate sequences to the fixed length (MAXLEN) for model input\n",
        "    arr   = pad_sequences(seq, maxlen=maxlen, padding=\"post\", truncating=\"post\").astype(\"int32\")\n",
        "    return arr\n",
        "\n",
        "# Apply encoding & padding to each text feature column in the test set\n",
        "test_title_enc           = encode_only(tok, test_title)\n",
        "test_company_profile_enc = encode_only(tok, test_company_profile)\n",
        "test_description_enc     = encode_only(tok, test_description)\n",
        "test_benefits_enc        = encode_only(tok, test_benefits)\n",
        "test_requirements_enc    = encode_only(tok, test_requirements)\n",
        "\n",
        "# Step 2: Sanitize the encoded sequences\n",
        "import numpy as np\n",
        "oov_idx = tok.word_index.get(\"<OOV>\", 1)  # Index for Out-Of-Vocabulary token (default to 1 if missing)\n",
        "\n",
        "def enforce_right_padding(x, maxlen=MAXLEN):\n",
        "    \"\"\"\n",
        "    Ensure that all sequences are right-padded (not messed up by accidental shifts).\n",
        "    Keeps only non-zero values up to maxlen, and pads the rest with zeros.\n",
        "    \"\"\"\n",
        "    x = np.asarray(x, dtype=\"int32\")\n",
        "    out = np.zeros_like(x)\n",
        "    for i in range(x.shape[0]):\n",
        "        # Extract only the non-zero token IDs (actual words)\n",
        "        nz = x[i][x[i] != 0][:maxlen]\n",
        "        # Place them at the start of the row, rest remains zero\n",
        "        out[i, :len(nz)] = nz\n",
        "    return out\n",
        "\n",
        "def fix_all_zero_rows(x, fill=oov_idx):\n",
        "    \"\"\"\n",
        "    Fix sequences where all tokens are zero (completely empty).\n",
        "    For these rows, insert an OOV token at position 0 so the model doesn't see 'empty' input.\n",
        "    \"\"\"\n",
        "    x = np.asarray(x, dtype=\"int32\")\n",
        "    all_zero = (x.sum(axis=1) == 0)\n",
        "    if np.any(all_zero):\n",
        "        x[all_zero, 0] = fill\n",
        "    return x\n",
        "\n",
        "def sanitize(x):\n",
        "    \"\"\"\n",
        "    Apply right-padding enforcement and all-zero row fix.\n",
        "    \"\"\"\n",
        "    return fix_all_zero_rows(enforce_right_padding(x))\n",
        "\n",
        "# Apply sanitization to each encoded text column\n",
        "test_title_enc           = sanitize(test_title_enc)\n",
        "test_company_profile_enc = sanitize(test_company_profile_enc)\n",
        "test_description_enc     = sanitize(test_description_enc)\n",
        "test_benefits_enc        = sanitize(test_benefits_enc)\n",
        "test_requirements_enc    = sanitize(test_requirements_enc)\n",
        "\n",
        "# Step 3: Convert numeric features to float32 format (2D array)\n",
        "test_numeric = np.asarray(test_numeric, dtype=\"float32\")\n",
        "if test_numeric.ndim == 1:\n",
        "    # Ensure numeric features are in (N,1) shape instead of (N,)\n",
        "    test_numeric = test_numeric.reshape(-1, 1)\n",
        "\n",
        "# Step 4: Sanity check - make sure all feature arrays have the same number of rows\n",
        "N = test_numeric.shape[0]\n",
        "assert all(x.shape[0] == N for x in [\n",
        "    test_title_enc, test_company_profile_enc, test_description_enc,\n",
        "    test_benefits_enc, test_requirements_enc\n",
        "]), \"Mismatch in number of test samples\"\n"
      ],
      "metadata": {
        "id": "o9XbtyWoJcVh"
      },
      "execution_count": null,
      "outputs": []
    },
    {
      "cell_type": "code",
      "source": [
        "# Predict class probabilities for the test set using the trained BiLSTM model\n",
        "y_proba = bilstm_model.predict(\n",
        "    [test_numeric, test_title_enc, test_company_profile_enc,\n",
        "     test_description_enc, test_benefits_enc, test_requirements_enc],  # All model inputs\n",
        "    batch_size=256,   # Process in batches for efficiency\n",
        "    verbose=1         # Show prediction progress\n",
        ")\n",
        "\n",
        "# Convert probabilities to binary class predictions\n",
        "#   - ravel(): flatten to 1D array\n",
        "#   - >= 0.5: threshold (prob >= 0.5 → class 1, else class 0)\n",
        "#   - astype(int): convert boolean array to integers (0 or 1)\n",
        "y_pred = (y_proba.ravel() >= 0.5).astype(int)\n",
        "\n",
        "confusion_matrix(y_test,y_pred)"
      ],
      "metadata": {
        "colab": {
          "base_uri": "https://localhost:8080/"
        },
        "id": "JvTPUm0EJf7G",
        "outputId": "6b142399-654a-4991-cce4-bcdf64ea506a"
      },
      "execution_count": null,
      "outputs": [
        {
          "output_type": "stream",
          "name": "stdout",
          "text": [
            "\u001b[1m14/14\u001b[0m \u001b[32m━━━━━━━━━━━━━━━━━━━━\u001b[0m\u001b[37m\u001b[0m \u001b[1m2s\u001b[0m 146ms/step\n"
          ]
        },
        {
          "output_type": "execute_result",
          "data": {
            "text/plain": [
              "array([[3390,   13],\n",
              "       [  25,  148]])"
            ]
          },
          "metadata": {},
          "execution_count": 18
        }
      ]
    },
    {
      "cell_type": "code",
      "source": [
        "from sklearn.metrics import classification_report\n",
        "\n",
        "# Get predicted labels from BiLSTM (threshold 0.5)\n",
        "y_pred_proba = bilstm_model.predict(\n",
        "    [test_numeric, test_title_enc, test_company_profile_enc,\n",
        "     test_description_enc, test_benefits_enc, test_requirements_enc],\n",
        "    batch_size=256,\n",
        "    verbose=0\n",
        ").ravel()\n",
        "\n",
        "y_pred = (y_pred_proba >= 0.5).astype(int)\n",
        "\n",
        "# Print classification report\n",
        "print(classification_report(y_test, y_pred, digits=4))\n",
        "\n"
      ],
      "metadata": {
        "colab": {
          "base_uri": "https://localhost:8080/"
        },
        "id": "m3S5OuSbLEOs",
        "outputId": "48ed9f20-b20e-4a0e-8aca-31773daa150d"
      },
      "execution_count": null,
      "outputs": [
        {
          "output_type": "stream",
          "name": "stdout",
          "text": [
            "              precision    recall  f1-score   support\n",
            "\n",
            "           0     0.9927    0.9962    0.9944      3403\n",
            "           1     0.9193    0.8555    0.8862       173\n",
            "\n",
            "    accuracy                         0.9894      3576\n",
            "   macro avg     0.9560    0.9258    0.9403      3576\n",
            "weighted avg     0.9891    0.9894    0.9892      3576\n",
            "\n"
          ]
        }
      ]
    },
    {
      "cell_type": "code",
      "source": [
        "import logging\n",
        "import matplotlib\n",
        "logging.getLogger('matplotlib.font_manager').setLevel(logging.ERROR)\n",
        "\n",
        "font = {'family':'normal','weight':'bold','size':12}\n",
        "plt.rc('font', **font)\n",
        "\n",
        "f, axes = plt.subplots(1, 1, figsize=(5,5))\n",
        "i=0\n",
        "#axes = axes.ravel()\n",
        "f.suptitle(\"Confusion Matrix Models\", fontsize=14, fontweight='bold')\n",
        "if 1==1:\n",
        "    mName = 'Bidirectional LSTM'\n",
        "    disp = ConfusionMatrixDisplay(confusion_matrix(y_test,y_pred))\n",
        "    disp.plot(ax=axes, values_format='.20g')\n",
        "    axes.grid(False)\n",
        "    disp.ax_.set_title(mName,fontweight='bold',fontsize=12)\n",
        "    disp.im_.colorbar.remove()\n",
        "    i=i+1\n",
        "\n",
        "plt.show()"
      ],
      "metadata": {
        "colab": {
          "base_uri": "https://localhost:8080/",
          "height": 523
        },
        "id": "SLv9Nn4SJg0K",
        "outputId": "46506cd5-8e2c-4c8e-d33c-bed5a12f85ae"
      },
      "execution_count": null,
      "outputs": [
        {
          "output_type": "display_data",
          "data": {
            "text/plain": [
              "<Figure size 500x500 with 1 Axes>"
            ],
            "image/png": "[encoded data removed]"
          },
          "metadata": {}
        }
      ]
    },
    {
      "cell_type": "code",
      "source": [
        "from sklearn.metrics import roc_curve, auc\n",
        "import matplotlib.pyplot as plt\n",
        "logging.getLogger('matplotlib.font_manager').setLevel(logging.ERROR)\n",
        "\n",
        "# 1) Get probability scores on the test set (NOT the 0/1 preds)\n",
        "y_proba = bilstm_model.predict(\n",
        "    [test_numeric, test_title_enc, test_company_profile_enc,\n",
        "     test_description_enc, test_benefits_enc, test_requirements_enc],\n",
        "    batch_size=256, verbose=0\n",
        ").ravel()\n",
        "\n",
        "y_true = np.asarray(y_test).ravel()  # ensure 1-D\n",
        "\n",
        "# 2) Compute ROC points and AUC\n",
        "fpr, tpr, thresholds = roc_curve(y_true, y_proba)\n",
        "roc_auc = auc(fpr, tpr)\n",
        "\n",
        "# 3) Plot ROC\n",
        "plt.figure()\n",
        "plt.plot(fpr, tpr, label=f'ROC (AUC = {roc_auc:.4f})')\n",
        "plt.plot([0, 1], [0, 1], linestyle='--', label='Chance')\n",
        "plt.xlabel('False Positive Rate')\n",
        "plt.ylabel('True Positive Rate')\n",
        "plt.title('ROC Curve — BiLSTM Fake Job Detection')\n",
        "plt.legend(loc='lower right')\n",
        "plt.grid(True)\n",
        "plt.show()\n",
        "\n",
        "# 4) (Optional) mark the point closest to threshold=0.5\n",
        "idx = (np.abs(thresholds - 0.5)).argmin()\n",
        "plt.figure()\n",
        "plt.plot(fpr, tpr, label=f'ROC (AUC = {roc_auc:.4f})')\n",
        "plt.plot([0, 1], [0, 1], linestyle='--', label='Chance')\n",
        "plt.scatter([fpr[idx]], [tpr[idx]], marker='o', label=f'Th≈0.5 (FPR={fpr[idx]:.3f}, TPR={tpr[idx]:.3f})')\n",
        "plt.xlabel('False Positive Rate')\n",
        "plt.ylabel('True Positive Rate')\n",
        "plt.title('ROC Curve with 0.5 Threshold Marker')\n",
        "plt.legend(loc='lower right')\n",
        "plt.grid(True)\n",
        "plt.show()"
      ],
      "metadata": {
        "colab": {
          "base_uri": "https://localhost:8080/",
          "height": 945
        },
        "id": "x40KlMroJkUz",
        "outputId": "dd1fe168-a195-49ca-871d-391ea428ac04"
      },
      "execution_count": null,
      "outputs": [
        {
          "output_type": "display_data",
          "data": {
            "text/plain": [
              "<Figure size 640x480 with 1 Axes>"
            ],
            "image/png": "[encoded data removed]"
          },
          "metadata": {}
        },
        {
          "output_type": "display_data",
          "data": {
            "text/plain": [
              "<Figure size 640x480 with 1 Axes>"
            ],
            "image/png": "[encoded data removed]"
          },
          "metadata": {}
        }
      ]
    },
    {
      "cell_type": "code",
      "source": [
        "import numpy as np\n",
        "from sklearn.metrics import (\n",
        "    classification_report, roc_auc_score, accuracy_score,\n",
        "    precision_recall_fscore_support\n",
        ")\n",
        "\n",
        "# --- 1) Print the full per-class report (as you already do)\n",
        "print(classification_report(y_test, y_pred, digits=4))\n",
        "\n",
        "# --- 2) Build a single-metric summary for comparison\n",
        "# AUROC uses probabilities; the others use thresholded labels\n",
        "auroc     = roc_auc_score(y_test, y_pred_proba)\n",
        "accuracy  = accuracy_score(y_test, y_pred)\n",
        "\n",
        "# Get class-wise precision/recall/F1 and pull the positive class (label=1)\n",
        "prec, rec, f1, _ = precision_recall_fscore_support(\n",
        "    y_test, y_pred, average=None, labels=[0, 1]\n",
        ")\n",
        "precision_pos = float(prec[1])\n",
        "recall_pos    = float(rec[1])\n",
        "f1_pos        = float(f1[1])\n",
        "\n",
        "metrics = {\n",
        "    \"auroc\":     float(auroc),\n",
        "    \"accuracy\":  float(accuracy),\n",
        "    \"precision\": precision_pos,  # class 1\n",
        "    \"recall\":    recall_pos,     # class 1\n",
        "    \"f1_score\":  f1_pos          # class 1\n",
        "}\n",
        "\n",
        "# --- 3) Compare to your targets\n",
        "targets = {\n",
        "    \"auroc\": 0.91,\n",
        "    \"accuracy\": 0.9871,\n",
        "    \"precision\": 0.89,\n",
        "    \"recall\": 0.83,\n",
        "    \"f1_score\": 0.86\n",
        "}\n",
        "\n",
        "print(\"\\n=== Target Check ===\")\n",
        "for metric, target_value in targets.items():\n",
        "    actual_value = metrics[metric]\n",
        "    verdict = \"Target met\" if actual_value >= target_value else \"Target NOT met\"\n",
        "    print(f\"{metric:9s}: {actual_value:.4f} — {verdict} (threshold {target_value:.4f})\")\n",
        "\n",
        "print(f\"\\nAchieved F1 (class 1) = {metrics['f1_score']:.4f}, \"\n",
        "      f\"target {'met' if metrics['f1_score'] >= targets['f1_score'] else 'NOT met'}\")\n"
      ],
      "metadata": {
        "colab": {
          "base_uri": "https://localhost:8080/"
        },
        "id": "ZCz4Boh2Z7r-",
        "outputId": "89ea9132-f376-4365-e722-6a2c58bbcf7e"
      },
      "execution_count": null,
      "outputs": [
        {
          "output_type": "stream",
          "name": "stdout",
          "text": [
            "              precision    recall  f1-score   support\n",
            "\n",
            "           0     0.9927    0.9962    0.9944      3403\n",
            "           1     0.9193    0.8555    0.8862       173\n",
            "\n",
            "    accuracy                         0.9894      3576\n",
            "   macro avg     0.9560    0.9258    0.9403      3576\n",
            "weighted avg     0.9891    0.9894    0.9892      3576\n",
            "\n",
            "\n",
            "=== Target Check ===\n",
            "auroc    : 0.9935 — Target met (threshold 0.9100)\n",
            "accuracy : 0.9894 — Target met (threshold 0.9871)\n",
            "precision: 0.9193 — Target met (threshold 0.8900)\n",
            "recall   : 0.8555 — Target met (threshold 0.8300)\n",
            "f1_score : 0.8862 — Target met (threshold 0.8600)\n",
            "\n",
            "Achieved F1 (class 1) = 0.8862, target met\n"
          ]
        }
      ]
    },
    {
      "cell_type": "markdown",
      "source": [
        "# Save Model"
      ],
      "metadata": {
        "id": "v1KZaeljJl9t"
      }
    },
    {
      "cell_type": "code",
      "source": [
        "bilstm_model.save(\"/content/drive/MyDrive/final_bilstm.keras\")"
      ],
      "metadata": {
        "id": "QVbZvSKyJod5"
      },
      "execution_count": null,
      "outputs": []
    }
  ]
}